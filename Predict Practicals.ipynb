{
 "cells": [
  {
   "cell_type": "markdown",
   "id": "3bf467bf",
   "metadata": {},
   "source": [
    "# Section B: Practical questions with applied multiple choice"
   ]
  },
  {
   "cell_type": "markdown",
   "id": "6c2554ac",
   "metadata": {},
   "source": [
    "## General Rules:\n",
    "- This is an open book examination.\n",
    "- Students may make use of a calculator.\n",
    "- This is an online examination where you will access a computer; however you may not communicate with other students in any form.\n",
    "- Headphone are prohibited.\n",
    "- The use of AI (chatGPT etc.) is prohibited.\n",
    "- All cell phones are to be switched off for the duration of the exam.\n",
    "- The invigilator will not assist you with the explanation of questions.\n",
    "- Students are prohibited from conversing in any manner with other students."
   ]
  },
  {
   "cell_type": "markdown",
   "id": "ec37d78f",
   "metadata": {},
   "source": [
    "## My Name and Surname\n",
    "\n",
    "Name = \n",
    "</br>\n",
    "Surname =  "
   ]
  },
  {
   "cell_type": "markdown",
   "id": "ef6f6c3d",
   "metadata": {},
   "source": [
    "### Part 1: SQL Queries  \n",
    "You are provided with a pre-populated SQLite database named `airbnb.db`. Download [here](https://www.kaggle.com/datasets/arianazmoudeh/airbnbopendata) if you haven't already. Your task is to explore this database and write a series of SQL queries to perform the tasks detailed below. Queries should be optimised to run within 20 seconds or less.\n",
    "\n",
    "The tables and columns included in the `airbnb.db` are:\n",
    "\n",
    "- `listings`: `listing_id`, `host_id`, `listing_name`, `neighbourhood`, `room_type`, `price`, `minimum_nights`, `number_of_reviews`, `last_review`, `reviews_per_month`, `calculated_host_listings_count`, `availability_365`  \n",
    "- `hosts`: `host_id`, `host_name`, `host_since`, `host_location`, `host_response_time`, `host_response_rate`, `host_is_superhost`  \n",
    "- `reviews`: `review_id`, `listing_id`, `reviewer_id`, `review_date`, `comments`  \n",
    "- `reviewers`: `reviewer_id`, `reviewer_name`  \n",
    "- `calendar`: `listing_id`, `date`, `available`, `price`  \n",
    "- `neighbourhoods`: `neighbourhood`, `borough`  \n",
    "- `amenities`: `listing_id`, `amenity_name`"
   ]
  },
  {
   "cell_type": "code",
   "execution_count": null,
   "id": "fea6aab4",
   "metadata": {
    "vscode": {
     "languageId": "plaintext"
    }
   },
   "outputs": [],
   "source": [
    "import os\n",
    "import json\n",
    "import random\n",
    "import sqlite3\n",
    "import pandas as pd\n",
    "import numpy as np\n",
    "\n",
    "import seaborn as sns\n",
    "\n",
    "from sklearn.preprocessing import StandardScaler\n",
    "from sklearn.model_selection import train_test_split\n",
    "from sklearn.linear_model import LinearRegression\n",
    "from sklearn.metrics import r2_score, mean_squared_error\n",
    "from sklearn.preprocessing import PolynomialFeatures\n",
    "\n",
    "import matplotlib.pyplot as plt"
   ]
  },
  {
   "cell_type": "code",
   "execution_count": null,
   "id": "7a8176ee",
   "metadata": {
    "vscode": {
     "languageId": "plaintext"
    }
   },
   "outputs": [],
   "source": [
    "import pandas as pd\n",
    "\n",
    "# Load the Airbnb dataset from the local path\n",
    "file_path = r\"C:\\Users\\User\\Desktop\\Predict\\Airbnb_Open_Data.csv\"\n",
    "\n",
    "try:\n",
    "    airbnb_df = pd.read_csv(file_path)\n",
    "    print(\"CSV file loaded successfully.\")\n",
    "    print(\"First 5 rows of the dataset:\")\n",
    "    display(airbnb_df.head())\n",
    "except FileNotFoundError as e:\n",
    "    print(\"Failed to load CSV file:\", e)\n",
    "\n"
   ]
  },
  {
   "cell_type": "code",
   "execution_count": null,
   "id": "27b264db",
   "metadata": {
    "vscode": {
     "languageId": "plaintext"
    }
   },
   "outputs": [],
   "source": [
    "# List all tables in the database\n",
    "        tables = pd.read_sql('''SELECT name FROM sqlite_master WHERE type='table';''', conn)\n",
    "        print(\"Tables in the database:\")\n",
    "        display(tables)"
   ]
  },
  {
   "cell_type": "markdown",
   "id": "46eed67c",
   "metadata": {},
   "source": [
    "#### SQL Query 1: Top 10 Neighbourhoods by Average Listing Price\n",
    "\n",
    "#### This query helps identify the most expensive areas to stay in San Francisco.\n",
    "#### It calculates the average price of listings per neighbourhood, excluding free or zero-priced listings,\n",
    "#### and returns the top 10 neighbourhoods with the highest average prices.\n",
    "\n",
    "\n"
   ]
  },
  {
   "cell_type": "code",
   "execution_count": null,
   "id": "c107cbe2",
   "metadata": {
    "vscode": {
     "languageId": "plaintext"
    }
   },
   "outputs": [],
   "source": [
    "query1 = '''\n",
    "SELECT \n",
    "    neighbourhood, \n",
    "    AVG(price) AS average_price\n",
    "FROM \n",
    "    listings\n",
    "WHERE \n",
    "    price > 0\n",
    "GROUP BY \n",
    "    neighbourhood\n",
    "ORDER BY \n",
    "    average_price DESC\n",
    "LIMIT 10;\n",
    "'''"
   ]
  }
 ],
 "metadata": {
  "kernelspec": {
   "display_name": "Python 3 (ipykernel)",
   "language": "python",
   "name": "python3"
  },
  "language_info": {
   "codemirror_mode": {
    "name": "ipython",
    "version": 3
   },
   "file_extension": ".py",
   "mimetype": "text/x-python",
   "name": "python",
   "nbconvert_exporter": "python",
   "pygments_lexer": "ipython3",
   "version": "3.12.4"
  }
 },
 "nbformat": 4,
 "nbformat_minor": 5
}
