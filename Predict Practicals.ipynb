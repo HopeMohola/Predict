{
 "cells": [
  {
   "cell_type": "markdown",
   "id": "3bf467bf",
   "metadata": {},
   "source": [
    "# Section B: Practical questions with applied multiple choice"
   ]
  },
  {
   "cell_type": "markdown",
   "id": "6c2554ac",
   "metadata": {},
   "source": [
    "## General Rules:\n",
    "- This is an open book examination.\n",
    "- Students may make use of a calculator.\n",
    "- This is an online examination where you will access a computer; however you may not communicate with other students in any form.\n",
    "- Headphone are prohibited.\n",
    "- The use of AI (chatGPT etc.) is prohibited.\n",
    "- All cell phones are to be switched off for the duration of the exam.\n",
    "- The invigilator will not assist you with the explanation of questions.\n",
    "- Students are prohibited from conversing in any manner with other students."
   ]
  },
  {
   "cell_type": "markdown",
   "id": "ec37d78f",
   "metadata": {},
   "source": [
    "## My Name and Surname\n",
    "\n",
    "Name = \n",
    "</br>\n",
    "Surname =  "
   ]
  },
  {
   "cell_type": "markdown",
   "id": "ef6f6c3d",
   "metadata": {},
   "source": [
    "### Part 1: SQL Queries  \n",
    "You are provided with a pre-populated SQLite database named `airbnb.db`. Download [here](https://www.kaggle.com/datasets/arianazmoudeh/airbnbopendata) if you haven't already. Your task is to explore this database and write a series of SQL queries to perform the tasks detailed below. Queries should be optimised to run within 20 seconds or less.\n",
    "\n",
    "The tables and columns included in the `airbnb.db` are:\n",
    "\n",
    "- `listings`: `listing_id`, `host_id`, `listing_name`, `neighbourhood`, `room_type`, `price`, `minimum_nights`, `number_of_reviews`, `last_review`, `reviews_per_month`, `calculated_host_listings_count`, `availability_365`  \n",
    "- `hosts`: `host_id`, `host_name`, `host_since`, `host_location`, `host_response_time`, `host_response_rate`, `host_is_superhost`  \n",
    "- `reviews`: `review_id`, `listing_id`, `reviewer_id`, `review_date`, `comments`  \n",
    "- `reviewers`: `reviewer_id`, `reviewer_name`  \n",
    "- `calendar`: `listing_id`, `date`, `available`, `price`  \n",
    "- `neighbourhoods`: `neighbourhood`, `borough`  \n",
    "- `amenities`: `listing_id`, `amenity_name`"
   ]
  },
  {
   "cell_type": "code",
   "execution_count": 1,
   "id": "fea6aab4",
   "metadata": {},
   "outputs": [],
   "source": [
    "import os\n",
    "import json\n",
    "import random\n",
    "import sqlite3\n",
    "import sqlparse\n",
    "import pandas as pd\n",
    "import numpy as np\n",
    "\n",
    "import seaborn as sns\n",
    "import mysql.connector\n",
    "\n",
    "from sklearn.preprocessing import StandardScaler\n",
    "from sklearn.model_selection import train_test_split\n",
    "from sklearn.linear_model import LinearRegression\n",
    "from sklearn.metrics import r2_score, mean_squared_error\n",
    "from sklearn.preprocessing import PolynomialFeatures\n",
    "\n",
    "import matplotlib.pyplot as plt"
   ]
  },
  {
   "cell_type": "code",
   "execution_count": 2,
   "id": "fd0e9ff3",
   "metadata": {},
   "outputs": [
    {
     "ename": "InterfaceError",
     "evalue": "2003: Can't connect to MySQL server on '127.0.0.1:3306' (10061 No connection could be made because the target machine actively refused it)",
     "output_type": "error",
     "traceback": [
      "\u001b[1;31m---------------------------------------------------------------------------\u001b[0m",
      "\u001b[1;31mConnectionRefusedError\u001b[0m                    Traceback (most recent call last)",
      "File \u001b[1;32m~\\AppData\\Local\\Packages\\PythonSoftwareFoundation.Python.3.11_qbz5n2kfra8p0\\LocalCache\\local-packages\\Python311\\site-packages\\mysql\\connector\\network.py:758\u001b[0m, in \u001b[0;36mMySQLTCPSocket.open_connection\u001b[1;34m(self)\u001b[0m\n\u001b[0;32m    757\u001b[0m     \u001b[38;5;28mself\u001b[39m\u001b[38;5;241m.\u001b[39msock\u001b[38;5;241m.\u001b[39msettimeout(\u001b[38;5;28mself\u001b[39m\u001b[38;5;241m.\u001b[39m_connection_timeout)\n\u001b[1;32m--> 758\u001b[0m     \u001b[38;5;28;43mself\u001b[39;49m\u001b[38;5;241;43m.\u001b[39;49m\u001b[43msock\u001b[49m\u001b[38;5;241;43m.\u001b[39;49m\u001b[43mconnect\u001b[49m\u001b[43m(\u001b[49m\u001b[43msockaddr\u001b[49m\u001b[43m)\u001b[49m\n\u001b[0;32m    759\u001b[0m \u001b[38;5;28;01mexcept\u001b[39;00m \u001b[38;5;167;01mIOError\u001b[39;00m \u001b[38;5;28;01mas\u001b[39;00m err:\n",
      "\u001b[1;31mConnectionRefusedError\u001b[0m: [WinError 10061] No connection could be made because the target machine actively refused it",
      "\nThe above exception was the direct cause of the following exception:\n",
      "\u001b[1;31mInterfaceError\u001b[0m                            Traceback (most recent call last)",
      "Cell \u001b[1;32mIn[2], line 2\u001b[0m\n\u001b[0;32m      1\u001b[0m \u001b[38;5;66;03m# Step 1: Connect without specifying the database\u001b[39;00m\n\u001b[1;32m----> 2\u001b[0m conn \u001b[38;5;241m=\u001b[39m \u001b[43mmysql\u001b[49m\u001b[38;5;241;43m.\u001b[39;49m\u001b[43mconnector\u001b[49m\u001b[38;5;241;43m.\u001b[39;49m\u001b[43mconnect\u001b[49m\u001b[43m(\u001b[49m\n\u001b[0;32m      3\u001b[0m \u001b[43m    \u001b[49m\u001b[43mhost\u001b[49m\u001b[38;5;241;43m=\u001b[39;49m\u001b[38;5;124;43m\"\u001b[39;49m\u001b[38;5;124;43m127.0.0.1\u001b[39;49m\u001b[38;5;124;43m\"\u001b[39;49m\u001b[43m,\u001b[49m\n\u001b[0;32m      4\u001b[0m \u001b[43m    \u001b[49m\u001b[43muser\u001b[49m\u001b[38;5;241;43m=\u001b[39;49m\u001b[38;5;124;43m\"\u001b[39;49m\u001b[38;5;124;43mroot\u001b[39;49m\u001b[38;5;124;43m\"\u001b[39;49m\u001b[43m,\u001b[49m\n\u001b[0;32m      5\u001b[0m \u001b[43m    \u001b[49m\u001b[43mpassword\u001b[49m\u001b[38;5;241;43m=\u001b[39;49m\u001b[38;5;124;43m\"\u001b[39;49m\u001b[38;5;124;43mBonakele.1\u001b[39;49m\u001b[38;5;124;43m\"\u001b[39;49m\n\u001b[0;32m      6\u001b[0m \u001b[43m)\u001b[49m\n\u001b[0;32m      7\u001b[0m cursor \u001b[38;5;241m=\u001b[39m conn\u001b[38;5;241m.\u001b[39mcursor()\n\u001b[0;32m      9\u001b[0m \u001b[38;5;66;03m# Step 2: Create the database if it doesn't exist\u001b[39;00m\n",
      "File \u001b[1;32m~\\AppData\\Local\\Packages\\PythonSoftwareFoundation.Python.3.11_qbz5n2kfra8p0\\LocalCache\\local-packages\\Python311\\site-packages\\mysql\\connector\\pooling.py:323\u001b[0m, in \u001b[0;36mconnect\u001b[1;34m(*args, **kwargs)\u001b[0m\n\u001b[0;32m    321\u001b[0m \u001b[38;5;28;01mif\u001b[39;00m CMySQLConnection \u001b[38;5;129;01mand\u001b[39;00m \u001b[38;5;129;01mnot\u001b[39;00m use_pure:\n\u001b[0;32m    322\u001b[0m     \u001b[38;5;28;01mreturn\u001b[39;00m CMySQLConnection(\u001b[38;5;241m*\u001b[39margs, \u001b[38;5;241m*\u001b[39m\u001b[38;5;241m*\u001b[39mkwargs)\n\u001b[1;32m--> 323\u001b[0m \u001b[38;5;28;01mreturn\u001b[39;00m \u001b[43mMySQLConnection\u001b[49m\u001b[43m(\u001b[49m\u001b[38;5;241;43m*\u001b[39;49m\u001b[43margs\u001b[49m\u001b[43m,\u001b[49m\u001b[43m \u001b[49m\u001b[38;5;241;43m*\u001b[39;49m\u001b[38;5;241;43m*\u001b[39;49m\u001b[43mkwargs\u001b[49m\u001b[43m)\u001b[49m\n",
      "File \u001b[1;32m~\\AppData\\Local\\Packages\\PythonSoftwareFoundation.Python.3.11_qbz5n2kfra8p0\\LocalCache\\local-packages\\Python311\\site-packages\\mysql\\connector\\connection.py:179\u001b[0m, in \u001b[0;36mMySQLConnection.__init__\u001b[1;34m(self, **kwargs)\u001b[0m\n\u001b[0;32m    177\u001b[0m \u001b[38;5;28;01mif\u001b[39;00m kwargs:\n\u001b[0;32m    178\u001b[0m     \u001b[38;5;28;01mtry\u001b[39;00m:\n\u001b[1;32m--> 179\u001b[0m         \u001b[38;5;28;43mself\u001b[39;49m\u001b[38;5;241;43m.\u001b[39;49m\u001b[43mconnect\u001b[49m\u001b[43m(\u001b[49m\u001b[38;5;241;43m*\u001b[39;49m\u001b[38;5;241;43m*\u001b[39;49m\u001b[43mkwargs\u001b[49m\u001b[43m)\u001b[49m\n\u001b[0;32m    180\u001b[0m     \u001b[38;5;28;01mexcept\u001b[39;00m \u001b[38;5;167;01mException\u001b[39;00m:\n\u001b[0;32m    181\u001b[0m         \u001b[38;5;66;03m# Tidy-up underlying socket on failure\u001b[39;00m\n\u001b[0;32m    182\u001b[0m         \u001b[38;5;28mself\u001b[39m\u001b[38;5;241m.\u001b[39mclose()\n",
      "File \u001b[1;32m~\\AppData\\Local\\Packages\\PythonSoftwareFoundation.Python.3.11_qbz5n2kfra8p0\\LocalCache\\local-packages\\Python311\\site-packages\\mysql\\connector\\abstracts.py:1399\u001b[0m, in \u001b[0;36mMySQLConnectionAbstract.connect\u001b[1;34m(self, **kwargs)\u001b[0m\n\u001b[0;32m   1396\u001b[0m     \u001b[38;5;28mself\u001b[39m\u001b[38;5;241m.\u001b[39mconfig(\u001b[38;5;241m*\u001b[39m\u001b[38;5;241m*\u001b[39mkwargs)\n\u001b[0;32m   1398\u001b[0m \u001b[38;5;28mself\u001b[39m\u001b[38;5;241m.\u001b[39mdisconnect()\n\u001b[1;32m-> 1399\u001b[0m \u001b[38;5;28;43mself\u001b[39;49m\u001b[38;5;241;43m.\u001b[39;49m\u001b[43m_open_connection\u001b[49m\u001b[43m(\u001b[49m\u001b[43m)\u001b[49m\n\u001b[0;32m   1401\u001b[0m charset, collation \u001b[38;5;241m=\u001b[39m (\n\u001b[0;32m   1402\u001b[0m     kwargs\u001b[38;5;241m.\u001b[39mpop(\u001b[38;5;124m\"\u001b[39m\u001b[38;5;124mcharset\u001b[39m\u001b[38;5;124m\"\u001b[39m, \u001b[38;5;28;01mNone\u001b[39;00m),\n\u001b[0;32m   1403\u001b[0m     kwargs\u001b[38;5;241m.\u001b[39mpop(\u001b[38;5;124m\"\u001b[39m\u001b[38;5;124mcollation\u001b[39m\u001b[38;5;124m\"\u001b[39m, \u001b[38;5;28;01mNone\u001b[39;00m),\n\u001b[0;32m   1404\u001b[0m )\n\u001b[0;32m   1405\u001b[0m \u001b[38;5;28;01mif\u001b[39;00m charset \u001b[38;5;129;01mor\u001b[39;00m collation:\n",
      "File \u001b[1;32m~\\AppData\\Local\\Packages\\PythonSoftwareFoundation.Python.3.11_qbz5n2kfra8p0\\LocalCache\\local-packages\\Python311\\site-packages\\mysql\\connector\\connection.py:357\u001b[0m, in \u001b[0;36mMySQLConnection._open_connection\u001b[1;34m(self)\u001b[0m\n\u001b[0;32m    355\u001b[0m \u001b[38;5;28mself\u001b[39m\u001b[38;5;241m.\u001b[39m_socket \u001b[38;5;241m=\u001b[39m \u001b[38;5;28mself\u001b[39m\u001b[38;5;241m.\u001b[39m_get_connection()\n\u001b[0;32m    356\u001b[0m \u001b[38;5;28;01mtry\u001b[39;00m:\n\u001b[1;32m--> 357\u001b[0m     \u001b[38;5;28;43mself\u001b[39;49m\u001b[38;5;241;43m.\u001b[39;49m\u001b[43m_socket\u001b[49m\u001b[38;5;241;43m.\u001b[39;49m\u001b[43mopen_connection\u001b[49m\u001b[43m(\u001b[49m\u001b[43m)\u001b[49m\n\u001b[0;32m    359\u001b[0m     \u001b[38;5;66;03m# do initial handshake\u001b[39;00m\n\u001b[0;32m    360\u001b[0m     \u001b[38;5;28mself\u001b[39m\u001b[38;5;241m.\u001b[39m_do_handshake()\n",
      "File \u001b[1;32m~\\AppData\\Local\\Packages\\PythonSoftwareFoundation.Python.3.11_qbz5n2kfra8p0\\LocalCache\\local-packages\\Python311\\site-packages\\mysql\\connector\\network.py:760\u001b[0m, in \u001b[0;36mMySQLTCPSocket.open_connection\u001b[1;34m(self)\u001b[0m\n\u001b[0;32m    758\u001b[0m     \u001b[38;5;28mself\u001b[39m\u001b[38;5;241m.\u001b[39msock\u001b[38;5;241m.\u001b[39mconnect(sockaddr)\n\u001b[0;32m    759\u001b[0m \u001b[38;5;28;01mexcept\u001b[39;00m \u001b[38;5;167;01mIOError\u001b[39;00m \u001b[38;5;28;01mas\u001b[39;00m err:\n\u001b[1;32m--> 760\u001b[0m     \u001b[38;5;28;01mraise\u001b[39;00m InterfaceError(\n\u001b[0;32m    761\u001b[0m         errno\u001b[38;5;241m=\u001b[39m\u001b[38;5;241m2003\u001b[39m,\n\u001b[0;32m    762\u001b[0m         values\u001b[38;5;241m=\u001b[39m(\n\u001b[0;32m    763\u001b[0m             \u001b[38;5;28mself\u001b[39m\u001b[38;5;241m.\u001b[39mserver_host,\n\u001b[0;32m    764\u001b[0m             \u001b[38;5;28mself\u001b[39m\u001b[38;5;241m.\u001b[39mserver_port,\n\u001b[0;32m    765\u001b[0m             _strioerror(err),\n\u001b[0;32m    766\u001b[0m         ),\n\u001b[0;32m    767\u001b[0m     ) \u001b[38;5;28;01mfrom\u001b[39;00m \u001b[38;5;21;01merr\u001b[39;00m\n\u001b[0;32m    768\u001b[0m \u001b[38;5;28;01mexcept\u001b[39;00m \u001b[38;5;167;01mException\u001b[39;00m \u001b[38;5;28;01mas\u001b[39;00m err:\n\u001b[0;32m    769\u001b[0m     \u001b[38;5;28;01mraise\u001b[39;00m OperationalError(\u001b[38;5;28mstr\u001b[39m(err)) \u001b[38;5;28;01mfrom\u001b[39;00m \u001b[38;5;21;01merr\u001b[39;00m\n",
      "\u001b[1;31mInterfaceError\u001b[0m: 2003: Can't connect to MySQL server on '127.0.0.1:3306' (10061 No connection could be made because the target machine actively refused it)"
     ]
    }
   ],
   "source": [
    "# Step 1: Connect without specifying the database\n",
    "conn = mysql.connector.connect(\n",
    "    host=\"127.0.0.1\",\n",
    "    user=\"root\",\n",
    "    password=\"Bonakele.1\"\n",
    ")\n",
    "cursor = conn.cursor()\n",
    "\n",
    "# Step 2: Create the database if it doesn't exist\n",
    "cursor.execute(\"CREATE DATABASE IF NOT EXISTS airbnb_nyc\")\n",
    "cursor.execute(\"USE airbnb_nyc\")\n"
   ]
  },
  {
   "cell_type": "code",
   "execution_count": 8,
   "id": "604cf760",
   "metadata": {},
   "outputs": [
    {
     "name": "stderr",
     "output_type": "stream",
     "text": [
      "C:\\Users\\bonas\\AppData\\Local\\Temp\\ipykernel_28156\\239661885.py:83: DtypeWarning: Columns (25) have mixed types. Specify dtype option on import or set low_memory=False.\n",
      "  df = pd.read_csv(\"Airbnb_Open_Data.csv\")\n"
     ]
    }
   ],
   "source": [
    "# Neighbourhood Groups\n",
    "cursor.execute(\"\"\"\n",
    "CREATE TABLE IF NOT EXISTS neighbourhood_groups (\n",
    "    id INT AUTO_INCREMENT PRIMARY KEY,\n",
    "    name VARCHAR(50) NOT NULL UNIQUE\n",
    ")\n",
    "\"\"\")\n",
    "\n",
    "# Neighbourhoods\n",
    "cursor.execute(\"\"\"\n",
    "CREATE TABLE IF NOT EXISTS neighbourhoods (\n",
    "    id INT AUTO_INCREMENT PRIMARY KEY,\n",
    "    name VARCHAR(100) NOT NULL,\n",
    "    neighbourhood_group_id INT NOT NULL,\n",
    "    UNIQUE (name, neighbourhood_group_id),\n",
    "    FOREIGN KEY (neighbourhood_group_id) REFERENCES neighbourhood_groups(id)\n",
    ")\n",
    "\"\"\")\n",
    "\n",
    "# Room Types\n",
    "cursor.execute(\"\"\"\n",
    "CREATE TABLE IF NOT EXISTS room_types (\n",
    "    id INT AUTO_INCREMENT PRIMARY KEY,\n",
    "    type VARCHAR(50) NOT NULL UNIQUE\n",
    ")\n",
    "\"\"\")\n",
    "\n",
    "# Cancellation Policies\n",
    "cursor.execute(\"\"\"\n",
    "CREATE TABLE IF NOT EXISTS cancellation_policies (\n",
    "    id INT AUTO_INCREMENT PRIMARY KEY,\n",
    "    policy VARCHAR(50) NOT NULL UNIQUE\n",
    ")\n",
    "\"\"\")\n",
    "\n",
    "# Hosts\n",
    "cursor.execute(\"\"\"\n",
    "CREATE TABLE IF NOT EXISTS hosts (\n",
    "    id BIGINT PRIMARY KEY,\n",
    "    name VARCHAR(100),\n",
    "    identity_verified VARCHAR(20)\n",
    ")\n",
    "\"\"\")\n",
    "\n",
    "# Listings\n",
    "cursor.execute(\"\"\"\n",
    "CREATE TABLE IF NOT EXISTS listings (\n",
    "    id BIGINT PRIMARY KEY,\n",
    "    name VARCHAR(255),\n",
    "    host_id BIGINT NOT NULL,\n",
    "    neighbourhood_id INT,\n",
    "    latitude DECIMAL(10, 8),\n",
    "    longitude DECIMAL(11, 8),\n",
    "    country VARCHAR(50),\n",
    "    country_code VARCHAR(10),\n",
    "    room_type_id INT,\n",
    "    construction_year INT,\n",
    "    price DECIMAL(10, 2),\n",
    "    service_fee DECIMAL(10, 2),\n",
    "    minimum_nights INT,\n",
    "    number_of_reviews INT,\n",
    "    last_review DATE,\n",
    "    reviews_per_month DECIMAL(5, 2),\n",
    "    review_rate_number INT,\n",
    "    calculated_host_listings_count INT,\n",
    "    availability_365 INT,\n",
    "    instant_bookable BOOLEAN,\n",
    "    cancellation_policy_id INT,\n",
    "    house_rules TEXT,\n",
    "    license TEXT,\n",
    "    FOREIGN KEY (host_id) REFERENCES hosts(id),\n",
    "    FOREIGN KEY (neighbourhood_id) REFERENCES neighbourhoods(id),\n",
    "    FOREIGN KEY (room_type_id) REFERENCES room_types(id),\n",
    "    FOREIGN KEY (cancellation_policy_id) REFERENCES cancellation_policies(id)\n",
    ")\n",
    "\"\"\")\n",
    "\n",
    "cursor.execute(\"INSERT IGNORE INTO neighbourhood_groups (name) VALUES ('Brooklyn'), ('Manhattan'), ('Queens'), ('Bronx'), ('Staten Island')\")\n",
    "cursor.execute(\"INSERT IGNORE INTO room_types (type) VALUES ('Private room'), ('Entire home/apt'), ('Shared room')\")\n",
    "cursor.execute(\"INSERT IGNORE INTO cancellation_policies (policy) VALUES ('strict'), ('moderate'), ('flexible')\")\n",
    "conn.commit()\n",
    "\n",
    "df = pd.read_csv(\"Airbnb_Open_Data.csv\")\n",
    "\n",
    "# Standardize column names\n",
    "df.columns = [col.strip().lower().replace(\" \", \"_\") for col in df.columns]\n"
   ]
  },
  {
   "cell_type": "code",
   "execution_count": 9,
   "id": "e8cd2d28",
   "metadata": {},
   "outputs": [],
   "source": [
    "# Insert unique neighbourhoods\n",
    "neighbourhoods = df[['neighbourhood', 'neighbourhood_group']].drop_duplicates()\n",
    "\n",
    "for _, row in neighbourhoods.iterrows():\n",
    "    # Get neighbourhood_group_id\n",
    "    cursor.execute(\"SELECT id FROM neighbourhood_groups WHERE name = %s\", (row['neighbourhood_group'],))\n",
    "    group_id = cursor.fetchone()\n",
    "    if group_id:\n",
    "        cursor.execute(\"\"\"\n",
    "            INSERT IGNORE INTO neighbourhoods (name, neighbourhood_group_id)\n",
    "            VALUES (%s, %s)\n",
    "        \"\"\", (row['neighbourhood'], group_id[0]))\n",
    "\n",
    "# Insert unique hosts  \n",
    "\n",
    "hosts = df[['host_id', 'host_name', 'host_identity_verified']].drop_duplicates()\n",
    "\n",
    "for _, row in hosts.iterrows():\n",
    "    cursor.execute(\"\"\"\n",
    "        INSERT IGNORE INTO hosts (id, name, identity_verified)\n",
    "        VALUES (%s, %s, %s)\n",
    "    \"\"\", (row['host_id'], row['host_name'], row['host_identity_verified']))\n",
    "\n",
    "\n",
    "\n",
    "# Insert unique listings\n",
    "for _, row in df.iterrows():\n",
    "    # Get FK IDs\n",
    "    cursor.execute(\"SELECT id FROM neighbourhoods WHERE name = %s\", (row['neighbourhood'],))\n",
    "    neighbourhood_id = cursor.fetchone()\n",
    "    \n",
    "    cursor.execute(\"SELECT id FROM room_types WHERE type = %s\", (row['room_type'],))\n",
    "    room_type_id = cursor.fetchone()\n",
    "    \n",
    "    cursor.execute(\"SELECT id FROM cancellation_policies WHERE policy = %s\", (row['cancellation_policy'],))\n",
    "    cancellation_policy_id = cursor.fetchone()\n",
    "\n",
    "    # Insert listing\n",
    "    cursor.execute(\"\"\"\n",
    "        INSERT IGNORE INTO listings (\n",
    "            id, name, host_id, neighbourhood_id, latitude, longitude, country,\n",
    "            country_code, room_type_id, construction_year, price, service_fee,\n",
    "            minimum_nights, number_of_reviews, last_review, reviews_per_month,\n",
    "            review_rate_number, calculated_host_listings_count, availability_365,\n",
    "            instant_bookable, cancellation_policy_id, house_rules, license\n",
    "        )\n",
    "        VALUES (%s, %s, %s, %s, %s, %s, %s, %s, %s, %s, %s, %s, %s, %s, %s, %s, %s, %s, %s, %s, %s, %s, %s)\n",
    "    \"\"\", (\n",
    "        row['id'], row['name'], row['host_id'], neighbourhood_id[0] if neighbourhood_id else None,\n",
    "        row['lat'], row['long'], row['country'], row['country_code'], room_type_id[0] if room_type_id else None,\n",
    "        row['construction_year'], row['price'], row['service_fee'],\n",
    "        row['minimum_nights'], row['number_of_reviews'], row['last_review'],\n",
    "        row['reviews_per_month'], row['review_rate_number'],\n",
    "        row['calculated_host_listings_count'], row['availability_365'],\n",
    "        row['instant_bookable'], cancellation_policy_id[0] if cancellation_policy_id else None,\n",
    "        row['house_rules'], row['license']\n",
    "    ))\n",
    "\n",
    "    conn.commit()"
   ]
  },
  {
   "cell_type": "code",
   "execution_count": null,
   "id": "87b247f7",
   "metadata": {},
   "outputs": [],
   "source": [
    "## mysqldump -u root -p airbnb_nyc > airbnb_nyc.sql\n",
    "# run this on anaconda prompt"
   ]
  },
  {
   "cell_type": "code",
   "execution_count": 14,
   "id": "ff400860",
   "metadata": {},
   "outputs": [
    {
     "name": "stderr",
     "output_type": "stream",
     "text": [
      "C:\\Users\\bonas\\AppData\\Local\\Temp\\ipykernel_28156\\857555675.py:25: UserWarning: pandas only supports SQLAlchemy connectable (engine/connection) or database string URI or sqlite3 DBAPI2 connection. Other DBAPI2 objects are not tested. Please consider using SQLAlchemy.\n",
      "  df = pd.read_sql(f\"SELECT * FROM {table}\", mysql_conn)\n"
     ]
    },
    {
     "name": "stdout",
     "output_type": "stream",
     "text": [
      "Transferred table: neighbourhood_groups\n",
      "Transferred table: neighbourhoods\n",
      "Transferred table: room_types\n",
      "Transferred table: cancellation_policies\n",
      "Transferred table: hosts\n",
      "Transferred table: listings\n"
     ]
    }
   ],
   "source": [
    "# Connect to MySQL\n",
    "mysql_conn = mysql.connector.connect(\n",
    "    host=\"localhost\",\n",
    "    user=\"root\",\n",
    "    password=\"Bonakele.1\",\n",
    "    database=\"airbnb_nyc\"\n",
    ")\n",
    "mysql_cursor = mysql_conn.cursor()\n",
    "\n",
    "# Connect to SQLite (creates airbnb_nyc.db if it doesn't exist)\n",
    "sqlite_conn = sqlite3.connect(\"airbnb_nyc.db\")\n",
    "\n",
    "# List of table names to transfer\n",
    "tables = [\n",
    "    \"neighbourhood_groups\",\n",
    "    \"neighbourhoods\",\n",
    "    \"room_types\",\n",
    "    \"cancellation_policies\",\n",
    "    \"hosts\",\n",
    "    \"listings\"\n",
    "]\n",
    "\n",
    "# Transfer each table from MySQL to SQLite\n",
    "for table in tables:\n",
    "    df = pd.read_sql(f\"SELECT * FROM {table}\", mysql_conn)\n",
    "    df.to_sql(table, sqlite_conn, if_exists=\"replace\", index=False)\n",
    "    print(f\"Transferred table: {table}\")\n",
    "\n",
    "# Close connections\n",
    "mysql_cursor.close()\n",
    "mysql_conn.close()\n",
    "sqlite_conn.close()"
   ]
  },
  {
   "cell_type": "code",
   "execution_count": 15,
   "id": "7a8176ee",
   "metadata": {},
   "outputs": [
    {
     "name": "stdout",
     "output_type": "stream",
     "text": [
      "Opened SQLite database with version 3.49.1 successfully.\n"
     ]
    },
    {
     "data": {
      "text/html": [
       "<div>\n",
       "<style scoped>\n",
       "    .dataframe tbody tr th:only-of-type {\n",
       "        vertical-align: middle;\n",
       "    }\n",
       "\n",
       "    .dataframe tbody tr th {\n",
       "        vertical-align: top;\n",
       "    }\n",
       "\n",
       "    .dataframe thead th {\n",
       "        text-align: right;\n",
       "    }\n",
       "</style>\n",
       "<table border=\"1\" class=\"dataframe\">\n",
       "  <thead>\n",
       "    <tr style=\"text-align: right;\">\n",
       "      <th></th>\n",
       "      <th>name</th>\n",
       "    </tr>\n",
       "  </thead>\n",
       "  <tbody>\n",
       "    <tr>\n",
       "      <th>0</th>\n",
       "      <td>neighbourhood_groups</td>\n",
       "    </tr>\n",
       "    <tr>\n",
       "      <th>1</th>\n",
       "      <td>neighbourhoods</td>\n",
       "    </tr>\n",
       "    <tr>\n",
       "      <th>2</th>\n",
       "      <td>room_types</td>\n",
       "    </tr>\n",
       "    <tr>\n",
       "      <th>3</th>\n",
       "      <td>cancellation_policies</td>\n",
       "    </tr>\n",
       "    <tr>\n",
       "      <th>4</th>\n",
       "      <td>hosts</td>\n",
       "    </tr>\n",
       "    <tr>\n",
       "      <th>5</th>\n",
       "      <td>listings</td>\n",
       "    </tr>\n",
       "  </tbody>\n",
       "</table>\n",
       "</div>"
      ],
      "text/plain": [
       "                    name\n",
       "0   neighbourhood_groups\n",
       "1         neighbourhoods\n",
       "2             room_types\n",
       "3  cancellation_policies\n",
       "4                  hosts\n",
       "5               listings"
      ]
     },
     "execution_count": 15,
     "metadata": {},
     "output_type": "execute_result"
    }
   ],
   "source": [
    "# Load your database and create a database connection.\n",
    "# You can connect to the sql database in any way you wish. \n",
    "# Use this method if you are unsure how to proceed. \n",
    "# Ensure the bike_store.db file is in the same directory as this notebook.\n",
    "try:\n",
    "    with sqlite3.connect(\"airbnb_nyc.db\") as conn:\n",
    "        print(f\"Opened SQLite database with version {sqlite3.sqlite_version} successfully.\")\n",
    "\n",
    "except sqlite3.OperationalError as e:\n",
    "    print(\"Failed to open database:\", e)\n",
    "\n",
    "# List all tables in the database\n",
    "pd.read_sql('''SELECT name FROM sqlite_master WHERE type='table';''',conn)     #Does the same thing\n",
    "\n"
   ]
  },
  {
   "cell_type": "code",
   "execution_count": 16,
   "id": "27b264db",
   "metadata": {},
   "outputs": [
    {
     "name": "stdout",
     "output_type": "stream",
     "text": [
      "[('neighbourhood_groups',), ('neighbourhoods',), ('room_types',), ('cancellation_policies',), ('hosts',), ('listings',)]\n"
     ]
    }
   ],
   "source": [
    "conn = sqlite3.connect('airbnb_nyc.db')\n",
    "cursor = conn.cursor()\n",
    "\n",
    "cursor.execute(\"SELECT name FROM sqlite_master WHERE type='table';\")    # Does the same thing\n",
    "print(cursor.fetchall())  # Lists all tables in the database\n",
    "conn.close()"
   ]
  },
  {
   "cell_type": "markdown",
   "id": "46eed67c",
   "metadata": {},
   "source": [
    "#### SQL Query 1: Top 10 Neighbourhoods by Average Listing Price\n",
    "\n",
    "#### This query helps identify the most expensive areas to stay in San Francisco.\n",
    "#### It calculates the average price of listings per neighbourhood, excluding free or zero-priced listings,\n",
    "#### and returns the top 10 neighbourhoods with the highest average prices.\n",
    "\n",
    "\n"
   ]
  }
 ],
 "metadata": {
  "kernelspec": {
   "display_name": "Python 3",
   "language": "python",
   "name": "python3"
  },
  "language_info": {
   "codemirror_mode": {
    "name": "ipython",
    "version": 3
   },
   "file_extension": ".py",
   "mimetype": "text/x-python",
   "name": "python",
   "nbconvert_exporter": "python",
   "pygments_lexer": "ipython3",
   "version": "3.11.9"
  }
 },
 "nbformat": 4,
 "nbformat_minor": 5
}
