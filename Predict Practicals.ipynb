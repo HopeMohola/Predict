{
 "cells": [
  {
   "cell_type": "markdown",
   "id": "3bf467bf",
   "metadata": {},
   "source": [
    "# Section B: Practical questions with applied multiple choice"
   ]
  },
  {
   "cell_type": "markdown",
   "id": "6c2554ac",
   "metadata": {},
   "source": [
    "## General Rules:\n",
    "- This is an open book examination.\n",
    "- Students may make use of a calculator.\n",
    "- This is an online examination where you will access a computer; however you may not communicate with other students in any form.\n",
    "- Headphone are prohibited.\n",
    "- The use of AI (chatGPT etc.) is prohibited.\n",
    "- All cell phones are to be switched off for the duration of the exam.\n",
    "- The invigilator will not assist you with the explanation of questions.\n",
    "- Students are prohibited from conversing in any manner with other students."
   ]
  },
  {
   "cell_type": "markdown",
   "id": "ec37d78f",
   "metadata": {},
   "source": [
    "## My Name and Surname\n",
    "\n",
    "Name = \n",
    "</br>\n",
    "Surname =  "
   ]
  },
  {
   "cell_type": "markdown",
   "id": "ef6f6c3d",
   "metadata": {},
   "source": [
    "### Part 1: SQL Queries  \n",
    "You are provided with a pre-populated SQLite database named `airbnb.db`. Download [here](https://www.kaggle.com/datasets/arianazmoudeh/airbnbopendata) if you haven't already. Your task is to explore this database and write a series of SQL queries to perform the tasks detailed below. Queries should be optimised to run within 20 seconds or less.\n",
    "\n",
    "The tables and columns included in the `airbnb.db` are:\n",
    "\n",
    "- `listings`: `listing_id`, `host_id`, `listing_name`, `neighbourhood`, `room_type`, `price`, `minimum_nights`, `number_of_reviews`, `last_review`, `reviews_per_month`, `calculated_host_listings_count`, `availability_365`  \n",
    "- `hosts`: `host_id`, `host_name`, `host_since`, `host_location`, `host_response_time`, `host_response_rate`, `host_is_superhost`  \n",
    "- `reviews`: `review_id`, `listing_id`, `reviewer_id`, `review_date`, `comments`  \n",
    "- `reviewers`: `reviewer_id`, `reviewer_name`  \n",
    "- `calendar`: `listing_id`, `date`, `available`, `price`  \n",
    "- `neighbourhoods`: `neighbourhood`, `borough`  \n",
    "- `amenities`: `listing_id`, `amenity_name`"
   ]
  },
  {
   "cell_type": "code",
   "execution_count": 1,
   "id": "fea6aab4",
   "metadata": {},
   "outputs": [],
   "source": [
    "import os\n",
    "import json\n",
    "import random\n",
    "import sqlite3\n",
    "import sqlparse\n",
    "import pandas as pd\n",
    "import numpy as np\n",
    "\n",
    "import seaborn as sns\n",
    "import mysql.connector\n",
    "\n",
    "from sklearn.preprocessing import StandardScaler\n",
    "from sklearn.model_selection import train_test_split\n",
    "from sklearn.linear_model import LinearRegression\n",
    "from sklearn.metrics import r2_score, mean_squared_error\n",
    "from sklearn.preprocessing import PolynomialFeatures\n",
    "\n",
    "import matplotlib.pyplot as plt"
   ]
  },
  {
   "cell_type": "code",
   "execution_count": 15,
   "id": "7a8176ee",
   "metadata": {},
   "outputs": [
    {
     "name": "stdout",
     "output_type": "stream",
     "text": [
      "Opened SQLite database with version 3.49.1 successfully.\n"
     ]
    },
    {
     "data": {
      "text/html": [
       "<div>\n",
       "<style scoped>\n",
       "    .dataframe tbody tr th:only-of-type {\n",
       "        vertical-align: middle;\n",
       "    }\n",
       "\n",
       "    .dataframe tbody tr th {\n",
       "        vertical-align: top;\n",
       "    }\n",
       "\n",
       "    .dataframe thead th {\n",
       "        text-align: right;\n",
       "    }\n",
       "</style>\n",
       "<table border=\"1\" class=\"dataframe\">\n",
       "  <thead>\n",
       "    <tr style=\"text-align: right;\">\n",
       "      <th></th>\n",
       "      <th>name</th>\n",
       "    </tr>\n",
       "  </thead>\n",
       "  <tbody>\n",
       "    <tr>\n",
       "      <th>0</th>\n",
       "      <td>neighbourhood_groups</td>\n",
       "    </tr>\n",
       "    <tr>\n",
       "      <th>1</th>\n",
       "      <td>neighbourhoods</td>\n",
       "    </tr>\n",
       "    <tr>\n",
       "      <th>2</th>\n",
       "      <td>room_types</td>\n",
       "    </tr>\n",
       "    <tr>\n",
       "      <th>3</th>\n",
       "      <td>cancellation_policies</td>\n",
       "    </tr>\n",
       "    <tr>\n",
       "      <th>4</th>\n",
       "      <td>hosts</td>\n",
       "    </tr>\n",
       "    <tr>\n",
       "      <th>5</th>\n",
       "      <td>listings</td>\n",
       "    </tr>\n",
       "  </tbody>\n",
       "</table>\n",
       "</div>"
      ],
      "text/plain": [
       "                    name\n",
       "0   neighbourhood_groups\n",
       "1         neighbourhoods\n",
       "2             room_types\n",
       "3  cancellation_policies\n",
       "4                  hosts\n",
       "5               listings"
      ]
     },
     "execution_count": 15,
     "metadata": {},
     "output_type": "execute_result"
    }
   ],
   "source": [
    "# Load your database and create a database connection.\n",
    "# You can connect to the sql database in any way you wish. \n",
    "# Use this method if you are unsure how to proceed. \n",
    "# Ensure the bike_store.db file is in the same directory as this notebook.\n",
    "try:\n",
    "    with sqlite3.connect(\"airbnb_nyc.db\") as conn:\n",
    "        print(f\"Opened SQLite database with version {sqlite3.sqlite_version} successfully.\")\n",
    "\n",
    "except sqlite3.OperationalError as e:\n",
    "    print(\"Failed to open database:\", e)\n",
    "\n",
    "# List all tables in the database\n",
    "pd.read_sql('''SELECT name FROM sqlite_master WHERE type='table';''',conn)     #Does the same thing\n",
    "\n"
   ]
  },
  {
   "cell_type": "markdown",
   "id": "46eed67c",
   "metadata": {},
   "source": [
    "#### SQL Query 1: Top 10 Neighbourhoods by Average Listing Price\n",
    "\n",
    "#### This query helps identify the most expensive areas to stay in San Francisco.\n",
    "#### It calculates the average price of listings per neighbourhood, excluding free or zero-priced listings,\n",
    "#### and returns the top 10 neighbourhoods with the highest average prices.\n",
    "\n",
    "\n"
   ]
  }
 ],
 "metadata": {
  "kernelspec": {
   "display_name": "Python 3",
   "language": "python",
   "name": "python3"
  },
  "language_info": {
   "codemirror_mode": {
    "name": "ipython",
    "version": 3
   },
   "file_extension": ".py",
   "mimetype": "text/x-python",
   "name": "python",
   "nbconvert_exporter": "python",
   "pygments_lexer": "ipython3",
   "version": "3.11.9"
  }
 },
 "nbformat": 4,
 "nbformat_minor": 5
}
