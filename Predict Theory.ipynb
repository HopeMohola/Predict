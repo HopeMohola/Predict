{
 "cells": [
  {
   "cell_type": "markdown",
   "id": "671b2183",
   "metadata": {},
   "source": [
    "<p><strong>Part 1 [Theory]</strong> - SQL exam</p> \n",
    "In part 1 of the exam, we test our understanding of the various topics we have learnt in SQL."
   ]
  },
  {
   "cell_type": "markdown",
   "id": "afe15058",
   "metadata": {},
   "source": [
    "<p><strong>Q1 :</strong> Which of the following is the correct way to comment in SQL?</p>\n",
    "\n",
    "<ul style=\"list-style-type: none;\">\n",
    "  <li><strong>A.</strong> // This is a comment</li>\n",
    "  <li><strong>B.</strong> # This is a comment</li>\n",
    "  <li><strong>C.</strong> -- This is a comment</li>\n",
    "  <li><strong>D.</strong> /* This is a comment */</li>\n",
    "</ul>"
   ]
  },
  {
   "cell_type": "code",
   "execution_count": null,
   "id": "790e6ddf",
   "metadata": {
    "vscode": {
     "languageId": "plaintext"
    }
   },
   "outputs": [],
   "source": []
  }
 ],
 "metadata": {
  "kernelspec": {
   "display_name": "Python 3 (ipykernel)",
   "language": "python",
   "name": "python3"
  },
  "language_info": {
   "codemirror_mode": {
    "name": "ipython",
    "version": 3
   },
   "file_extension": ".py",
   "mimetype": "text/x-python",
   "name": "python",
   "nbconvert_exporter": "python",
   "pygments_lexer": "ipython3",
   "version": "3.12.4"
  }
 },
 "nbformat": 4,
 "nbformat_minor": 5
}
