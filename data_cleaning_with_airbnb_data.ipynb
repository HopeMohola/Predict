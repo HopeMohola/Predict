{
  "cells": [
    {
      "cell_type": "code",
      "execution_count": 203,
      "metadata": {
        "execution": {
          "iopub.execute_input": "2025-03-29T21:28:47.019768Z",
          "iopub.status.busy": "2025-03-29T21:28:47.019221Z",
          "iopub.status.idle": "2025-03-29T21:28:47.590122Z",
          "shell.execute_reply": "2025-03-29T21:28:47.588958Z",
          "shell.execute_reply.started": "2025-03-29T21:28:47.019716Z"
        },
        "id": "1xN03lY1K2bd",
        "trusted": true
      },
      "outputs": [],
      "source": [
        "import os\n",
        "import json\n",
        "import random\n",
        "import sqlite3\n",
        "import sqlparse\n",
        "import pandas as pd\n",
        "import numpy as np\n",
        "\n",
        "import seaborn as sns\n",
        "import mysql.connector\n",
        "\n",
        "from sklearn.preprocessing import StandardScaler\n",
        "from sklearn.model_selection import train_test_split\n",
        "from sklearn.linear_model import LinearRegression\n",
        "from sklearn.metrics import r2_score, mean_squared_error\n",
        "from sklearn.preprocessing import PolynomialFeatures\n",
        "\n",
        "import matplotlib.pyplot as plt"
      ]
    },
    {
      "cell_type": "code",
      "execution_count": 204,
      "metadata": {
        "colab": {
          "base_uri": "https://localhost:8080/",
          "height": 1000
        },
        "id": "LBNYpsRWK-HM",
        "outputId": "9b44749d-dd11-4a60-974e-62e11e45ab81"
      },
      "outputs": [
        {
          "name": "stderr",
          "output_type": "stream",
          "text": [
            "C:\\Users\\bonas\\AppData\\Local\\Temp\\ipykernel_5600\\974499630.py:10: DtypeWarning: Columns (25) have mixed types. Specify dtype option on import or set low_memory=False.\n",
            "  df = pd.read_csv('Airbnb_Open_Data.csv') # Now pd is recognized\n"
          ]
        },
        {
          "data": {
            "text/html": [
              "<div>\n",
              "<style scoped>\n",
              "    .dataframe tbody tr th:only-of-type {\n",
              "        vertical-align: middle;\n",
              "    }\n",
              "\n",
              "    .dataframe tbody tr th {\n",
              "        vertical-align: top;\n",
              "    }\n",
              "\n",
              "    .dataframe thead th {\n",
              "        text-align: right;\n",
              "    }\n",
              "</style>\n",
              "<table border=\"1\" class=\"dataframe\">\n",
              "  <thead>\n",
              "    <tr style=\"text-align: right;\">\n",
              "      <th></th>\n",
              "      <th>id</th>\n",
              "      <th>NAME</th>\n",
              "      <th>host id</th>\n",
              "      <th>host_identity_verified</th>\n",
              "      <th>host name</th>\n",
              "      <th>neighbourhood group</th>\n",
              "      <th>neighbourhood</th>\n",
              "      <th>lat</th>\n",
              "      <th>long</th>\n",
              "      <th>country</th>\n",
              "      <th>...</th>\n",
              "      <th>service fee</th>\n",
              "      <th>minimum nights</th>\n",
              "      <th>number of reviews</th>\n",
              "      <th>last review</th>\n",
              "      <th>reviews per month</th>\n",
              "      <th>review rate number</th>\n",
              "      <th>calculated host listings count</th>\n",
              "      <th>availability 365</th>\n",
              "      <th>house_rules</th>\n",
              "      <th>license</th>\n",
              "    </tr>\n",
              "  </thead>\n",
              "  <tbody>\n",
              "    <tr>\n",
              "      <th>0</th>\n",
              "      <td>1001254</td>\n",
              "      <td>Clean &amp; quiet apt home by the park</td>\n",
              "      <td>80014485718</td>\n",
              "      <td>unconfirmed</td>\n",
              "      <td>Madaline</td>\n",
              "      <td>Brooklyn</td>\n",
              "      <td>Kensington</td>\n",
              "      <td>40.64749</td>\n",
              "      <td>-73.97237</td>\n",
              "      <td>United States</td>\n",
              "      <td>...</td>\n",
              "      <td>$193</td>\n",
              "      <td>10.0</td>\n",
              "      <td>9.0</td>\n",
              "      <td>10/19/2021</td>\n",
              "      <td>0.21</td>\n",
              "      <td>4.0</td>\n",
              "      <td>6.0</td>\n",
              "      <td>286.0</td>\n",
              "      <td>Clean up and treat the home the way you'd like...</td>\n",
              "      <td>NaN</td>\n",
              "    </tr>\n",
              "    <tr>\n",
              "      <th>1</th>\n",
              "      <td>1002102</td>\n",
              "      <td>Skylit Midtown Castle</td>\n",
              "      <td>52335172823</td>\n",
              "      <td>verified</td>\n",
              "      <td>Jenna</td>\n",
              "      <td>Manhattan</td>\n",
              "      <td>Midtown</td>\n",
              "      <td>40.75362</td>\n",
              "      <td>-73.98377</td>\n",
              "      <td>United States</td>\n",
              "      <td>...</td>\n",
              "      <td>$28</td>\n",
              "      <td>30.0</td>\n",
              "      <td>45.0</td>\n",
              "      <td>5/21/2022</td>\n",
              "      <td>0.38</td>\n",
              "      <td>4.0</td>\n",
              "      <td>2.0</td>\n",
              "      <td>228.0</td>\n",
              "      <td>Pet friendly but please confirm with me if the...</td>\n",
              "      <td>NaN</td>\n",
              "    </tr>\n",
              "    <tr>\n",
              "      <th>2</th>\n",
              "      <td>1002403</td>\n",
              "      <td>THE VILLAGE OF HARLEM....NEW YORK !</td>\n",
              "      <td>78829239556</td>\n",
              "      <td>NaN</td>\n",
              "      <td>Elise</td>\n",
              "      <td>Manhattan</td>\n",
              "      <td>Harlem</td>\n",
              "      <td>40.80902</td>\n",
              "      <td>-73.94190</td>\n",
              "      <td>United States</td>\n",
              "      <td>...</td>\n",
              "      <td>$124</td>\n",
              "      <td>3.0</td>\n",
              "      <td>0.0</td>\n",
              "      <td>NaN</td>\n",
              "      <td>NaN</td>\n",
              "      <td>5.0</td>\n",
              "      <td>1.0</td>\n",
              "      <td>352.0</td>\n",
              "      <td>I encourage you to use my kitchen, cooking and...</td>\n",
              "      <td>NaN</td>\n",
              "    </tr>\n",
              "    <tr>\n",
              "      <th>3</th>\n",
              "      <td>1002755</td>\n",
              "      <td>NaN</td>\n",
              "      <td>85098326012</td>\n",
              "      <td>unconfirmed</td>\n",
              "      <td>Garry</td>\n",
              "      <td>Brooklyn</td>\n",
              "      <td>Clinton Hill</td>\n",
              "      <td>40.68514</td>\n",
              "      <td>-73.95976</td>\n",
              "      <td>United States</td>\n",
              "      <td>...</td>\n",
              "      <td>$74</td>\n",
              "      <td>30.0</td>\n",
              "      <td>270.0</td>\n",
              "      <td>7/5/2019</td>\n",
              "      <td>4.64</td>\n",
              "      <td>4.0</td>\n",
              "      <td>1.0</td>\n",
              "      <td>322.0</td>\n",
              "      <td>NaN</td>\n",
              "      <td>NaN</td>\n",
              "    </tr>\n",
              "    <tr>\n",
              "      <th>4</th>\n",
              "      <td>1003689</td>\n",
              "      <td>Entire Apt: Spacious Studio/Loft by central park</td>\n",
              "      <td>92037596077</td>\n",
              "      <td>verified</td>\n",
              "      <td>Lyndon</td>\n",
              "      <td>Manhattan</td>\n",
              "      <td>East Harlem</td>\n",
              "      <td>40.79851</td>\n",
              "      <td>-73.94399</td>\n",
              "      <td>United States</td>\n",
              "      <td>...</td>\n",
              "      <td>$41</td>\n",
              "      <td>10.0</td>\n",
              "      <td>9.0</td>\n",
              "      <td>11/19/2018</td>\n",
              "      <td>0.10</td>\n",
              "      <td>3.0</td>\n",
              "      <td>1.0</td>\n",
              "      <td>289.0</td>\n",
              "      <td>Please no smoking in the house, porch or on th...</td>\n",
              "      <td>NaN</td>\n",
              "    </tr>\n",
              "  </tbody>\n",
              "</table>\n",
              "<p>5 rows × 26 columns</p>\n",
              "</div>"
            ],
            "text/plain": [
              "        id                                              NAME      host id  \\\n",
              "0  1001254                Clean & quiet apt home by the park  80014485718   \n",
              "1  1002102                             Skylit Midtown Castle  52335172823   \n",
              "2  1002403               THE VILLAGE OF HARLEM....NEW YORK !  78829239556   \n",
              "3  1002755                                               NaN  85098326012   \n",
              "4  1003689  Entire Apt: Spacious Studio/Loft by central park  92037596077   \n",
              "\n",
              "  host_identity_verified host name neighbourhood group neighbourhood  \\\n",
              "0            unconfirmed  Madaline            Brooklyn    Kensington   \n",
              "1               verified     Jenna           Manhattan       Midtown   \n",
              "2                    NaN     Elise           Manhattan        Harlem   \n",
              "3            unconfirmed     Garry            Brooklyn  Clinton Hill   \n",
              "4               verified    Lyndon           Manhattan   East Harlem   \n",
              "\n",
              "        lat      long        country  ... service fee minimum nights  \\\n",
              "0  40.64749 -73.97237  United States  ...       $193            10.0   \n",
              "1  40.75362 -73.98377  United States  ...        $28            30.0   \n",
              "2  40.80902 -73.94190  United States  ...       $124             3.0   \n",
              "3  40.68514 -73.95976  United States  ...        $74            30.0   \n",
              "4  40.79851 -73.94399  United States  ...        $41            10.0   \n",
              "\n",
              "  number of reviews last review  reviews per month review rate number  \\\n",
              "0               9.0  10/19/2021               0.21                4.0   \n",
              "1              45.0   5/21/2022               0.38                4.0   \n",
              "2               0.0         NaN                NaN                5.0   \n",
              "3             270.0    7/5/2019               4.64                4.0   \n",
              "4               9.0  11/19/2018               0.10                3.0   \n",
              "\n",
              "  calculated host listings count  availability 365  \\\n",
              "0                            6.0             286.0   \n",
              "1                            2.0             228.0   \n",
              "2                            1.0             352.0   \n",
              "3                            1.0             322.0   \n",
              "4                            1.0             289.0   \n",
              "\n",
              "                                         house_rules license  \n",
              "0  Clean up and treat the home the way you'd like...     NaN  \n",
              "1  Pet friendly but please confirm with me if the...     NaN  \n",
              "2  I encourage you to use my kitchen, cooking and...     NaN  \n",
              "3                                                NaN     NaN  \n",
              "4  Please no smoking in the house, porch or on th...     NaN  \n",
              "\n",
              "[5 rows x 26 columns]"
            ]
          },
          "execution_count": 204,
          "metadata": {},
          "output_type": "execute_result"
        }
      ],
      "source": [
        "import pandas as pd # Importing the pandas library\n",
        "import numpy as np\n",
        "\n",
        "# prompt: upload rthe csv\n",
        "\n",
        "#from google.colab import files\n",
        "#uploaded = files.upload()\n",
        "# Assuming the uploaded file is named 'your_file.csv'\n",
        "# Replace 'your_file.csv' with the actual file name if it's different\n",
        "df = pd.read_csv('Airbnb_Open_Data.csv') # Now pd is recognized\n",
        "df.head()\n"
      ]
    },
    {
      "cell_type": "code",
      "execution_count": 205,
      "metadata": {
        "execution": {
          "iopub.execute_input": "2025-03-29T21:28:47.591634Z",
          "iopub.status.busy": "2025-03-29T21:28:47.591205Z",
          "iopub.status.idle": "2025-03-29T21:28:49.277812Z",
          "shell.execute_reply": "2025-03-29T21:28:49.27618Z",
          "shell.execute_reply.started": "2025-03-29T21:28:47.591606Z"
        },
        "id": "JEvKYkOLK2bh",
        "trusted": true
      },
      "outputs": [],
      "source": [
        "# df = pd.read_csv('/kaggle/input/airbnbopendata/Airbnb_Open_Data.csv')"
      ]
    },
    {
      "cell_type": "markdown",
      "metadata": {
        "id": "_GFCdexaK2cF"
      },
      "source": [
        "# *Renaming the columns*"
      ]
    },
    {
      "cell_type": "code",
      "execution_count": 206,
      "metadata": {
        "execution": {
          "iopub.execute_input": "2025-03-29T21:28:49.347403Z",
          "iopub.status.busy": "2025-03-29T21:28:49.346987Z",
          "iopub.status.idle": "2025-03-29T21:28:49.354147Z",
          "shell.execute_reply": "2025-03-29T21:28:49.3525Z",
          "shell.execute_reply.started": "2025-03-29T21:28:49.347364Z"
        },
        "id": "oMZ1th2sK2cP",
        "trusted": true
      },
      "outputs": [],
      "source": [
        "#df.columns = df.columns.str.upper()"
      ]
    },
    {
      "cell_type": "code",
      "execution_count": 207,
      "metadata": {
        "colab": {
          "base_uri": "https://localhost:8080/"
        },
        "execution": {
          "iopub.execute_input": "2025-03-29T21:28:49.355989Z",
          "iopub.status.busy": "2025-03-29T21:28:49.355489Z",
          "iopub.status.idle": "2025-03-29T21:28:49.475896Z",
          "shell.execute_reply": "2025-03-29T21:28:49.474523Z",
          "shell.execute_reply.started": "2025-03-29T21:28:49.355951Z"
        },
        "id": "_xDjfH3PK2cR",
        "outputId": "c2155b1d-42b1-4f21-e713-9f439c95905f",
        "trusted": true
      },
      "outputs": [
        {
          "name": "stdout",
          "output_type": "stream",
          "text": [
            "<class 'pandas.core.frame.DataFrame'>\n",
            "RangeIndex: 102599 entries, 0 to 102598\n",
            "Data columns (total 26 columns):\n",
            " #   Column                          Non-Null Count   Dtype  \n",
            "---  ------                          --------------   -----  \n",
            " 0   id                              102599 non-null  int64  \n",
            " 1   NAME                            102349 non-null  object \n",
            " 2   host id                         102599 non-null  int64  \n",
            " 3   host_identity_verified          102310 non-null  object \n",
            " 4   host name                       102193 non-null  object \n",
            " 5   neighbourhood group             102570 non-null  object \n",
            " 6   neighbourhood                   102583 non-null  object \n",
            " 7   lat                             102591 non-null  float64\n",
            " 8   long                            102591 non-null  float64\n",
            " 9   country                         102067 non-null  object \n",
            " 10  country code                    102468 non-null  object \n",
            " 11  instant_bookable                102494 non-null  object \n",
            " 12  cancellation_policy             102523 non-null  object \n",
            " 13  room type                       102599 non-null  object \n",
            " 14  Construction year               102385 non-null  float64\n",
            " 15  price                           102352 non-null  object \n",
            " 16  service fee                     102326 non-null  object \n",
            " 17  minimum nights                  102190 non-null  float64\n",
            " 18  number of reviews               102416 non-null  float64\n",
            " 19  last review                     86706 non-null   object \n",
            " 20  reviews per month               86720 non-null   float64\n",
            " 21  review rate number              102273 non-null  float64\n",
            " 22  calculated host listings count  102280 non-null  float64\n",
            " 23  availability 365                102151 non-null  float64\n",
            " 24  house_rules                     50468 non-null   object \n",
            " 25  license                         2 non-null       object \n",
            "dtypes: float64(9), int64(2), object(15)\n",
            "memory usage: 20.4+ MB\n"
          ]
        }
      ],
      "source": [
        "df.info()"
      ]
    },
    {
      "cell_type": "code",
      "execution_count": 208,
      "metadata": {
        "colab": {
          "base_uri": "https://localhost:8080/"
        },
        "execution": {
          "iopub.execute_input": "2025-03-29T21:28:49.479516Z",
          "iopub.status.busy": "2025-03-29T21:28:49.479232Z",
          "iopub.status.idle": "2025-03-29T21:28:49.486759Z",
          "shell.execute_reply": "2025-03-29T21:28:49.485121Z",
          "shell.execute_reply.started": "2025-03-29T21:28:49.479493Z"
        },
        "id": "dEpVUjCJK2cT",
        "outputId": "d99caa99-ef53-453a-84d0-23de89804802",
        "trusted": true
      },
      "outputs": [
        {
          "data": {
            "text/plain": [
              "Index(['id', 'NAME', 'host id', 'host_identity_verified', 'host name',\n",
              "       'neighbourhood group', 'neighbourhood', 'lat', 'long', 'country',\n",
              "       'country code', 'instant_bookable', 'cancellation_policy', 'room type',\n",
              "       'Construction year', 'price', 'service fee', 'minimum nights',\n",
              "       'number of reviews', 'last review', 'reviews per month',\n",
              "       'review rate number', 'calculated host listings count',\n",
              "       'availability 365', 'house_rules', 'license'],\n",
              "      dtype='object')"
            ]
          },
          "execution_count": 208,
          "metadata": {},
          "output_type": "execute_result"
        }
      ],
      "source": [
        "df.columns"
      ]
    },
    {
      "cell_type": "markdown",
      "metadata": {
        "id": "DULBPi42K2cU"
      },
      "source": [
        "# *Deleting the reduntant columns*"
      ]
    },
    {
      "cell_type": "code",
      "execution_count": 209,
      "metadata": {
        "execution": {
          "iopub.execute_input": "2025-03-29T21:28:49.489394Z",
          "iopub.status.busy": "2025-03-29T21:28:49.488982Z",
          "iopub.status.idle": "2025-03-29T21:28:49.509849Z",
          "shell.execute_reply": "2025-03-29T21:28:49.508764Z",
          "shell.execute_reply.started": "2025-03-29T21:28:49.48936Z"
        },
        "id": "45vin5qGK2cV",
        "trusted": true
      },
      "outputs": [],
      "source": [
        "\n",
        "columns_to_drop = ['license']"
      ]
    },
    {
      "cell_type": "code",
      "execution_count": 210,
      "metadata": {
        "execution": {
          "iopub.execute_input": "2025-03-29T21:28:49.511224Z",
          "iopub.status.busy": "2025-03-29T21:28:49.510944Z",
          "iopub.status.idle": "2025-03-29T21:28:49.549154Z",
          "shell.execute_reply": "2025-03-29T21:28:49.547506Z",
          "shell.execute_reply.started": "2025-03-29T21:28:49.511199Z"
        },
        "id": "erszb904K2cb",
        "trusted": true
      },
      "outputs": [],
      "source": [
        "df.drop(columns=columns_to_drop,inplace=True)"
      ]
    },
    {
      "cell_type": "code",
      "execution_count": 211,
      "metadata": {
        "colab": {
          "base_uri": "https://localhost:8080/"
        },
        "execution": {
          "iopub.execute_input": "2025-03-29T21:28:49.550905Z",
          "iopub.status.busy": "2025-03-29T21:28:49.550508Z",
          "iopub.status.idle": "2025-03-29T21:28:49.558628Z",
          "shell.execute_reply": "2025-03-29T21:28:49.557162Z",
          "shell.execute_reply.started": "2025-03-29T21:28:49.55087Z"
        },
        "id": "zpfn1wdeK2cf",
        "outputId": "01b9c790-a266-4dbb-8585-e834897e88fa",
        "trusted": true
      },
      "outputs": [],
      "source": [
        "#df.columns == columns_to_keep"
      ]
    },
    {
      "cell_type": "code",
      "execution_count": 212,
      "metadata": {
        "colab": {
          "base_uri": "https://localhost:8080/",
          "height": 481
        },
        "execution": {
          "iopub.execute_input": "2025-03-29T21:28:49.560422Z",
          "iopub.status.busy": "2025-03-29T21:28:49.559978Z",
          "iopub.status.idle": "2025-03-29T21:28:49.605372Z",
          "shell.execute_reply": "2025-03-29T21:28:49.604083Z",
          "shell.execute_reply.started": "2025-03-29T21:28:49.560389Z"
        },
        "id": "dWVAMYXEK2ci",
        "outputId": "1b18bdb5-02c3-4d27-bc64-b80b87f1720b",
        "trusted": true
      },
      "outputs": [],
      "source": [
        "#df.head()"
      ]
    },
    {
      "cell_type": "markdown",
      "metadata": {
        "id": "LnU77jSzK2ci"
      },
      "source": [
        "# *Dropping the duplicates*"
      ]
    },
    {
      "cell_type": "code",
      "execution_count": 213,
      "metadata": {
        "colab": {
          "base_uri": "https://localhost:8080/"
        },
        "execution": {
          "iopub.execute_input": "2025-03-29T21:28:49.607236Z",
          "iopub.status.busy": "2025-03-29T21:28:49.606818Z",
          "iopub.status.idle": "2025-03-29T21:28:49.819783Z",
          "shell.execute_reply": "2025-03-29T21:28:49.818514Z",
          "shell.execute_reply.started": "2025-03-29T21:28:49.607207Z"
        },
        "id": "DPw0etsrK2cj",
        "outputId": "aa70aa97-d819-4f20-b806-d0a16518c321",
        "trusted": true
      },
      "outputs": [
        {
          "data": {
            "text/plain": [
              "541"
            ]
          },
          "execution_count": 213,
          "metadata": {},
          "output_type": "execute_result"
        }
      ],
      "source": [
        "df.duplicated().sum()"
      ]
    },
    {
      "cell_type": "code",
      "execution_count": 214,
      "metadata": {
        "execution": {
          "iopub.execute_input": "2025-03-29T21:28:49.82144Z",
          "iopub.status.busy": "2025-03-29T21:28:49.821058Z",
          "iopub.status.idle": "2025-03-29T21:28:50.06507Z",
          "shell.execute_reply": "2025-03-29T21:28:50.06377Z",
          "shell.execute_reply.started": "2025-03-29T21:28:49.821404Z"
        },
        "id": "5e5g3AEsK2cj",
        "trusted": true
      },
      "outputs": [],
      "source": [
        "df.drop_duplicates(inplace=True)"
      ]
    },
    {
      "cell_type": "code",
      "execution_count": 215,
      "metadata": {
        "colab": {
          "base_uri": "https://localhost:8080/"
        },
        "execution": {
          "iopub.execute_input": "2025-03-29T21:28:50.066359Z",
          "iopub.status.busy": "2025-03-29T21:28:50.066091Z",
          "iopub.status.idle": "2025-03-29T21:28:50.273914Z",
          "shell.execute_reply": "2025-03-29T21:28:50.272692Z",
          "shell.execute_reply.started": "2025-03-29T21:28:50.066336Z"
        },
        "id": "Jv-T1zD2K2ck",
        "outputId": "4e2ed763-cbe7-4922-fe49-f88226cbd155",
        "trusted": true
      },
      "outputs": [
        {
          "data": {
            "text/plain": [
              "0"
            ]
          },
          "execution_count": 215,
          "metadata": {},
          "output_type": "execute_result"
        }
      ],
      "source": [
        "df.duplicated().sum()"
      ]
    },
    {
      "cell_type": "markdown",
      "metadata": {
        "id": "6sJov22VK2ck"
      },
      "source": [
        "# *Removing the NaN values*"
      ]
    },
    {
      "cell_type": "code",
      "execution_count": 216,
      "metadata": {
        "colab": {
          "base_uri": "https://localhost:8080/",
          "height": 774
        },
        "execution": {
          "iopub.execute_input": "2025-03-29T21:28:50.27526Z",
          "iopub.status.busy": "2025-03-29T21:28:50.274982Z",
          "iopub.status.idle": "2025-03-29T21:28:50.35793Z",
          "shell.execute_reply": "2025-03-29T21:28:50.356301Z",
          "shell.execute_reply.started": "2025-03-29T21:28:50.275235Z"
        },
        "id": "snPlQiR6K2cl",
        "outputId": "e91b9ce2-730f-4d9d-dbac-4a2d571c2d0f",
        "trusted": true
      },
      "outputs": [
        {
          "data": {
            "text/plain": [
              "id                                    0\n",
              "NAME                                250\n",
              "host id                               0\n",
              "host_identity_verified              289\n",
              "host name                           404\n",
              "neighbourhood group                  29\n",
              "neighbourhood                        16\n",
              "lat                                   8\n",
              "long                                  8\n",
              "country                             532\n",
              "country code                        131\n",
              "instant_bookable                    105\n",
              "cancellation_policy                  76\n",
              "room type                             0\n",
              "Construction year                   214\n",
              "price                               247\n",
              "service fee                         273\n",
              "minimum nights                      400\n",
              "number of reviews                   183\n",
              "last review                       15832\n",
              "reviews per month                 15818\n",
              "review rate number                  319\n",
              "calculated host listings count      319\n",
              "availability 365                    448\n",
              "house_rules                       51842\n",
              "dtype: int64"
            ]
          },
          "execution_count": 216,
          "metadata": {},
          "output_type": "execute_result"
        }
      ],
      "source": [
        "df.isna().sum()"
      ]
    },
    {
      "cell_type": "code",
      "execution_count": 217,
      "metadata": {},
      "outputs": [
        {
          "data": {
            "text/html": [
              "<div>\n",
              "<style scoped>\n",
              "    .dataframe tbody tr th:only-of-type {\n",
              "        vertical-align: middle;\n",
              "    }\n",
              "\n",
              "    .dataframe tbody tr th {\n",
              "        vertical-align: top;\n",
              "    }\n",
              "\n",
              "    .dataframe thead th {\n",
              "        text-align: right;\n",
              "    }\n",
              "</style>\n",
              "<table border=\"1\" class=\"dataframe\">\n",
              "  <thead>\n",
              "    <tr style=\"text-align: right;\">\n",
              "      <th></th>\n",
              "      <th>id</th>\n",
              "      <th>NAME</th>\n",
              "      <th>host id</th>\n",
              "      <th>host_identity_verified</th>\n",
              "      <th>host name</th>\n",
              "      <th>neighbourhood group</th>\n",
              "      <th>neighbourhood</th>\n",
              "      <th>lat</th>\n",
              "      <th>long</th>\n",
              "      <th>country</th>\n",
              "      <th>...</th>\n",
              "      <th>price</th>\n",
              "      <th>service fee</th>\n",
              "      <th>minimum nights</th>\n",
              "      <th>number of reviews</th>\n",
              "      <th>last review</th>\n",
              "      <th>reviews per month</th>\n",
              "      <th>review rate number</th>\n",
              "      <th>calculated host listings count</th>\n",
              "      <th>availability 365</th>\n",
              "      <th>house_rules</th>\n",
              "    </tr>\n",
              "  </thead>\n",
              "  <tbody>\n",
              "    <tr>\n",
              "      <th>0</th>\n",
              "      <td>1001254</td>\n",
              "      <td>Clean &amp; quiet apt home by the park</td>\n",
              "      <td>80014485718</td>\n",
              "      <td>unconfirmed</td>\n",
              "      <td>Madaline</td>\n",
              "      <td>Brooklyn</td>\n",
              "      <td>Kensington</td>\n",
              "      <td>40.64749</td>\n",
              "      <td>-73.97237</td>\n",
              "      <td>United States</td>\n",
              "      <td>...</td>\n",
              "      <td>$966</td>\n",
              "      <td>$193</td>\n",
              "      <td>10.0</td>\n",
              "      <td>9.0</td>\n",
              "      <td>10/19/2021</td>\n",
              "      <td>0.21</td>\n",
              "      <td>4.0</td>\n",
              "      <td>6.0</td>\n",
              "      <td>286.0</td>\n",
              "      <td>Clean up and treat the home the way you'd like...</td>\n",
              "    </tr>\n",
              "    <tr>\n",
              "      <th>1</th>\n",
              "      <td>1002102</td>\n",
              "      <td>Skylit Midtown Castle</td>\n",
              "      <td>52335172823</td>\n",
              "      <td>verified</td>\n",
              "      <td>Jenna</td>\n",
              "      <td>Manhattan</td>\n",
              "      <td>Midtown</td>\n",
              "      <td>40.75362</td>\n",
              "      <td>-73.98377</td>\n",
              "      <td>United States</td>\n",
              "      <td>...</td>\n",
              "      <td>$142</td>\n",
              "      <td>$28</td>\n",
              "      <td>30.0</td>\n",
              "      <td>45.0</td>\n",
              "      <td>5/21/2022</td>\n",
              "      <td>0.38</td>\n",
              "      <td>4.0</td>\n",
              "      <td>2.0</td>\n",
              "      <td>228.0</td>\n",
              "      <td>Pet friendly but please confirm with me if the...</td>\n",
              "    </tr>\n",
              "    <tr>\n",
              "      <th>2</th>\n",
              "      <td>1002403</td>\n",
              "      <td>THE VILLAGE OF HARLEM....NEW YORK !</td>\n",
              "      <td>78829239556</td>\n",
              "      <td>NaN</td>\n",
              "      <td>Elise</td>\n",
              "      <td>Manhattan</td>\n",
              "      <td>Harlem</td>\n",
              "      <td>40.80902</td>\n",
              "      <td>-73.94190</td>\n",
              "      <td>United States</td>\n",
              "      <td>...</td>\n",
              "      <td>$620</td>\n",
              "      <td>$124</td>\n",
              "      <td>3.0</td>\n",
              "      <td>0.0</td>\n",
              "      <td>NaN</td>\n",
              "      <td>NaN</td>\n",
              "      <td>5.0</td>\n",
              "      <td>1.0</td>\n",
              "      <td>352.0</td>\n",
              "      <td>I encourage you to use my kitchen, cooking and...</td>\n",
              "    </tr>\n",
              "    <tr>\n",
              "      <th>3</th>\n",
              "      <td>1002755</td>\n",
              "      <td>NaN</td>\n",
              "      <td>85098326012</td>\n",
              "      <td>unconfirmed</td>\n",
              "      <td>Garry</td>\n",
              "      <td>Brooklyn</td>\n",
              "      <td>Clinton Hill</td>\n",
              "      <td>40.68514</td>\n",
              "      <td>-73.95976</td>\n",
              "      <td>United States</td>\n",
              "      <td>...</td>\n",
              "      <td>$368</td>\n",
              "      <td>$74</td>\n",
              "      <td>30.0</td>\n",
              "      <td>270.0</td>\n",
              "      <td>7/5/2019</td>\n",
              "      <td>4.64</td>\n",
              "      <td>4.0</td>\n",
              "      <td>1.0</td>\n",
              "      <td>322.0</td>\n",
              "      <td>NaN</td>\n",
              "    </tr>\n",
              "    <tr>\n",
              "      <th>4</th>\n",
              "      <td>1003689</td>\n",
              "      <td>Entire Apt: Spacious Studio/Loft by central park</td>\n",
              "      <td>92037596077</td>\n",
              "      <td>verified</td>\n",
              "      <td>Lyndon</td>\n",
              "      <td>Manhattan</td>\n",
              "      <td>East Harlem</td>\n",
              "      <td>40.79851</td>\n",
              "      <td>-73.94399</td>\n",
              "      <td>United States</td>\n",
              "      <td>...</td>\n",
              "      <td>$204</td>\n",
              "      <td>$41</td>\n",
              "      <td>10.0</td>\n",
              "      <td>9.0</td>\n",
              "      <td>11/19/2018</td>\n",
              "      <td>0.10</td>\n",
              "      <td>3.0</td>\n",
              "      <td>1.0</td>\n",
              "      <td>289.0</td>\n",
              "      <td>Please no smoking in the house, porch or on th...</td>\n",
              "    </tr>\n",
              "  </tbody>\n",
              "</table>\n",
              "<p>5 rows × 25 columns</p>\n",
              "</div>"
            ],
            "text/plain": [
              "        id                                              NAME      host id  \\\n",
              "0  1001254                Clean & quiet apt home by the park  80014485718   \n",
              "1  1002102                             Skylit Midtown Castle  52335172823   \n",
              "2  1002403               THE VILLAGE OF HARLEM....NEW YORK !  78829239556   \n",
              "3  1002755                                               NaN  85098326012   \n",
              "4  1003689  Entire Apt: Spacious Studio/Loft by central park  92037596077   \n",
              "\n",
              "  host_identity_verified host name neighbourhood group neighbourhood  \\\n",
              "0            unconfirmed  Madaline            Brooklyn    Kensington   \n",
              "1               verified     Jenna           Manhattan       Midtown   \n",
              "2                    NaN     Elise           Manhattan        Harlem   \n",
              "3            unconfirmed     Garry            Brooklyn  Clinton Hill   \n",
              "4               verified    Lyndon           Manhattan   East Harlem   \n",
              "\n",
              "        lat      long        country  ...  price service fee minimum nights  \\\n",
              "0  40.64749 -73.97237  United States  ...  $966        $193            10.0   \n",
              "1  40.75362 -73.98377  United States  ...  $142         $28            30.0   \n",
              "2  40.80902 -73.94190  United States  ...  $620        $124             3.0   \n",
              "3  40.68514 -73.95976  United States  ...  $368         $74            30.0   \n",
              "4  40.79851 -73.94399  United States  ...  $204         $41            10.0   \n",
              "\n",
              "  number of reviews  last review reviews per month review rate number  \\\n",
              "0               9.0   10/19/2021              0.21                4.0   \n",
              "1              45.0    5/21/2022              0.38                4.0   \n",
              "2               0.0          NaN               NaN                5.0   \n",
              "3             270.0     7/5/2019              4.64                4.0   \n",
              "4               9.0   11/19/2018              0.10                3.0   \n",
              "\n",
              "   calculated host listings count  availability 365  \\\n",
              "0                             6.0             286.0   \n",
              "1                             2.0             228.0   \n",
              "2                             1.0             352.0   \n",
              "3                             1.0             322.0   \n",
              "4                             1.0             289.0   \n",
              "\n",
              "                                         house_rules  \n",
              "0  Clean up and treat the home the way you'd like...  \n",
              "1  Pet friendly but please confirm with me if the...  \n",
              "2  I encourage you to use my kitchen, cooking and...  \n",
              "3                                                NaN  \n",
              "4  Please no smoking in the house, porch or on th...  \n",
              "\n",
              "[5 rows x 25 columns]"
            ]
          },
          "execution_count": 217,
          "metadata": {},
          "output_type": "execute_result"
        }
      ],
      "source": [
        "df.head()"
      ]
    },
    {
      "cell_type": "code",
      "execution_count": 218,
      "metadata": {
        "execution": {
          "iopub.execute_input": "2025-03-29T21:28:50.359862Z",
          "iopub.status.busy": "2025-03-29T21:28:50.359407Z",
          "iopub.status.idle": "2025-03-29T21:28:50.449615Z",
          "shell.execute_reply": "2025-03-29T21:28:50.448324Z",
          "shell.execute_reply.started": "2025-03-29T21:28:50.359825Z"
        },
        "id": "mfE1dBU3K2co",
        "trusted": true
      },
      "outputs": [],
      "source": [
        "df.dropna(inplace=True)"
      ]
    },
    {
      "cell_type": "code",
      "execution_count": 219,
      "metadata": {},
      "outputs": [
        {
          "data": {
            "text/html": [
              "<div>\n",
              "<style scoped>\n",
              "    .dataframe tbody tr th:only-of-type {\n",
              "        vertical-align: middle;\n",
              "    }\n",
              "\n",
              "    .dataframe tbody tr th {\n",
              "        vertical-align: top;\n",
              "    }\n",
              "\n",
              "    .dataframe thead th {\n",
              "        text-align: right;\n",
              "    }\n",
              "</style>\n",
              "<table border=\"1\" class=\"dataframe\">\n",
              "  <thead>\n",
              "    <tr style=\"text-align: right;\">\n",
              "      <th></th>\n",
              "      <th>id</th>\n",
              "      <th>NAME</th>\n",
              "      <th>host id</th>\n",
              "      <th>host_identity_verified</th>\n",
              "      <th>host name</th>\n",
              "      <th>neighbourhood group</th>\n",
              "      <th>neighbourhood</th>\n",
              "      <th>lat</th>\n",
              "      <th>long</th>\n",
              "      <th>country</th>\n",
              "      <th>...</th>\n",
              "      <th>price</th>\n",
              "      <th>service fee</th>\n",
              "      <th>minimum nights</th>\n",
              "      <th>number of reviews</th>\n",
              "      <th>last review</th>\n",
              "      <th>reviews per month</th>\n",
              "      <th>review rate number</th>\n",
              "      <th>calculated host listings count</th>\n",
              "      <th>availability 365</th>\n",
              "      <th>house_rules</th>\n",
              "    </tr>\n",
              "  </thead>\n",
              "  <tbody>\n",
              "    <tr>\n",
              "      <th>0</th>\n",
              "      <td>1001254</td>\n",
              "      <td>Clean &amp; quiet apt home by the park</td>\n",
              "      <td>80014485718</td>\n",
              "      <td>unconfirmed</td>\n",
              "      <td>Madaline</td>\n",
              "      <td>Brooklyn</td>\n",
              "      <td>Kensington</td>\n",
              "      <td>40.64749</td>\n",
              "      <td>-73.97237</td>\n",
              "      <td>United States</td>\n",
              "      <td>...</td>\n",
              "      <td>$966</td>\n",
              "      <td>$193</td>\n",
              "      <td>10.0</td>\n",
              "      <td>9.0</td>\n",
              "      <td>10/19/2021</td>\n",
              "      <td>0.21</td>\n",
              "      <td>4.0</td>\n",
              "      <td>6.0</td>\n",
              "      <td>286.0</td>\n",
              "      <td>Clean up and treat the home the way you'd like...</td>\n",
              "    </tr>\n",
              "    <tr>\n",
              "      <th>1</th>\n",
              "      <td>1002102</td>\n",
              "      <td>Skylit Midtown Castle</td>\n",
              "      <td>52335172823</td>\n",
              "      <td>verified</td>\n",
              "      <td>Jenna</td>\n",
              "      <td>Manhattan</td>\n",
              "      <td>Midtown</td>\n",
              "      <td>40.75362</td>\n",
              "      <td>-73.98377</td>\n",
              "      <td>United States</td>\n",
              "      <td>...</td>\n",
              "      <td>$142</td>\n",
              "      <td>$28</td>\n",
              "      <td>30.0</td>\n",
              "      <td>45.0</td>\n",
              "      <td>5/21/2022</td>\n",
              "      <td>0.38</td>\n",
              "      <td>4.0</td>\n",
              "      <td>2.0</td>\n",
              "      <td>228.0</td>\n",
              "      <td>Pet friendly but please confirm with me if the...</td>\n",
              "    </tr>\n",
              "    <tr>\n",
              "      <th>4</th>\n",
              "      <td>1003689</td>\n",
              "      <td>Entire Apt: Spacious Studio/Loft by central park</td>\n",
              "      <td>92037596077</td>\n",
              "      <td>verified</td>\n",
              "      <td>Lyndon</td>\n",
              "      <td>Manhattan</td>\n",
              "      <td>East Harlem</td>\n",
              "      <td>40.79851</td>\n",
              "      <td>-73.94399</td>\n",
              "      <td>United States</td>\n",
              "      <td>...</td>\n",
              "      <td>$204</td>\n",
              "      <td>$41</td>\n",
              "      <td>10.0</td>\n",
              "      <td>9.0</td>\n",
              "      <td>11/19/2018</td>\n",
              "      <td>0.10</td>\n",
              "      <td>3.0</td>\n",
              "      <td>1.0</td>\n",
              "      <td>289.0</td>\n",
              "      <td>Please no smoking in the house, porch or on th...</td>\n",
              "    </tr>\n",
              "    <tr>\n",
              "      <th>5</th>\n",
              "      <td>1004098</td>\n",
              "      <td>Large Cozy 1 BR Apartment In Midtown East</td>\n",
              "      <td>45498551794</td>\n",
              "      <td>verified</td>\n",
              "      <td>Michelle</td>\n",
              "      <td>Manhattan</td>\n",
              "      <td>Murray Hill</td>\n",
              "      <td>40.74767</td>\n",
              "      <td>-73.97500</td>\n",
              "      <td>United States</td>\n",
              "      <td>...</td>\n",
              "      <td>$577</td>\n",
              "      <td>$115</td>\n",
              "      <td>3.0</td>\n",
              "      <td>74.0</td>\n",
              "      <td>6/22/2019</td>\n",
              "      <td>0.59</td>\n",
              "      <td>3.0</td>\n",
              "      <td>1.0</td>\n",
              "      <td>374.0</td>\n",
              "      <td>No smoking, please, and no drugs.</td>\n",
              "    </tr>\n",
              "    <tr>\n",
              "      <th>7</th>\n",
              "      <td>1005202</td>\n",
              "      <td>BlissArtsSpace!</td>\n",
              "      <td>90821839709</td>\n",
              "      <td>unconfirmed</td>\n",
              "      <td>Emma</td>\n",
              "      <td>Brooklyn</td>\n",
              "      <td>Bedford-Stuyvesant</td>\n",
              "      <td>40.68688</td>\n",
              "      <td>-73.95596</td>\n",
              "      <td>United States</td>\n",
              "      <td>...</td>\n",
              "      <td>$1,060</td>\n",
              "      <td>$212</td>\n",
              "      <td>45.0</td>\n",
              "      <td>49.0</td>\n",
              "      <td>10/5/2017</td>\n",
              "      <td>0.40</td>\n",
              "      <td>5.0</td>\n",
              "      <td>1.0</td>\n",
              "      <td>219.0</td>\n",
              "      <td>House Guidelines for our BnB We are delighted ...</td>\n",
              "    </tr>\n",
              "    <tr>\n",
              "      <th>...</th>\n",
              "      <td>...</td>\n",
              "      <td>...</td>\n",
              "      <td>...</td>\n",
              "      <td>...</td>\n",
              "      <td>...</td>\n",
              "      <td>...</td>\n",
              "      <td>...</td>\n",
              "      <td>...</td>\n",
              "      <td>...</td>\n",
              "      <td>...</td>\n",
              "      <td>...</td>\n",
              "      <td>...</td>\n",
              "      <td>...</td>\n",
              "      <td>...</td>\n",
              "      <td>...</td>\n",
              "      <td>...</td>\n",
              "      <td>...</td>\n",
              "      <td>...</td>\n",
              "      <td>...</td>\n",
              "      <td>...</td>\n",
              "      <td>...</td>\n",
              "    </tr>\n",
              "    <tr>\n",
              "      <th>102025</th>\n",
              "      <td>57349744</td>\n",
              "      <td>COZY Large Private APARTMENT in EAST VILLAGE</td>\n",
              "      <td>97186426683</td>\n",
              "      <td>verified</td>\n",
              "      <td>Luna</td>\n",
              "      <td>Manhattan</td>\n",
              "      <td>East Village</td>\n",
              "      <td>40.72588</td>\n",
              "      <td>-73.98598</td>\n",
              "      <td>United States</td>\n",
              "      <td>...</td>\n",
              "      <td>$878</td>\n",
              "      <td>$176</td>\n",
              "      <td>6.0</td>\n",
              "      <td>22.0</td>\n",
              "      <td>5/24/2019</td>\n",
              "      <td>0.87</td>\n",
              "      <td>2.0</td>\n",
              "      <td>1.0</td>\n",
              "      <td>15.0</td>\n",
              "      <td>No Smoking, No Pets</td>\n",
              "    </tr>\n",
              "    <tr>\n",
              "      <th>102028</th>\n",
              "      <td>57351400</td>\n",
              "      <td>Gorgeous condo 20min from NYC,close to the air...</td>\n",
              "      <td>27226581142</td>\n",
              "      <td>unconfirmed</td>\n",
              "      <td>Arthur</td>\n",
              "      <td>Queens</td>\n",
              "      <td>Rego Park</td>\n",
              "      <td>40.72999</td>\n",
              "      <td>-73.86043</td>\n",
              "      <td>United States</td>\n",
              "      <td>...</td>\n",
              "      <td>$994</td>\n",
              "      <td>$199</td>\n",
              "      <td>2.0</td>\n",
              "      <td>67.0</td>\n",
              "      <td>7/1/2019</td>\n",
              "      <td>2.58</td>\n",
              "      <td>5.0</td>\n",
              "      <td>1.0</td>\n",
              "      <td>278.0</td>\n",
              "      <td>1. Be respectful of me and my home 2. No Pets ...</td>\n",
              "    </tr>\n",
              "    <tr>\n",
              "      <th>102029</th>\n",
              "      <td>57351953</td>\n",
              "      <td>Cozy room in a 2B with backyard access</td>\n",
              "      <td>5155155913</td>\n",
              "      <td>unconfirmed</td>\n",
              "      <td>Cristina</td>\n",
              "      <td>Queens</td>\n",
              "      <td>Astoria</td>\n",
              "      <td>40.76987</td>\n",
              "      <td>-73.92679</td>\n",
              "      <td>United States</td>\n",
              "      <td>...</td>\n",
              "      <td>$822</td>\n",
              "      <td>$164</td>\n",
              "      <td>1.0</td>\n",
              "      <td>9.0</td>\n",
              "      <td>4/25/2019</td>\n",
              "      <td>0.91</td>\n",
              "      <td>3.0</td>\n",
              "      <td>1.0</td>\n",
              "      <td>0.0</td>\n",
              "      <td>I have other roommates so be respectful of that.</td>\n",
              "    </tr>\n",
              "    <tr>\n",
              "      <th>102031</th>\n",
              "      <td>57353057</td>\n",
              "      <td>Cozy bedroom in williamsburg</td>\n",
              "      <td>83101851929</td>\n",
              "      <td>verified</td>\n",
              "      <td>Russell</td>\n",
              "      <td>Brooklyn</td>\n",
              "      <td>Williamsburg</td>\n",
              "      <td>40.70870</td>\n",
              "      <td>-73.96710</td>\n",
              "      <td>United States</td>\n",
              "      <td>...</td>\n",
              "      <td>$1,078</td>\n",
              "      <td>$216</td>\n",
              "      <td>1.0</td>\n",
              "      <td>58.0</td>\n",
              "      <td>6/10/2019</td>\n",
              "      <td>2.08</td>\n",
              "      <td>5.0</td>\n",
              "      <td>2.0</td>\n",
              "      <td>120.0</td>\n",
              "      <td>- $150 Pet Fee - 14.45% Tax Will be adjusted i...</td>\n",
              "    </tr>\n",
              "    <tr>\n",
              "      <th>102040</th>\n",
              "      <td>57358028</td>\n",
              "      <td>Room in Queens, NY, near LGA.</td>\n",
              "      <td>56457739998</td>\n",
              "      <td>verified</td>\n",
              "      <td>Sonia</td>\n",
              "      <td>Queens</td>\n",
              "      <td>East Elmhurst</td>\n",
              "      <td>40.76245</td>\n",
              "      <td>-73.87938</td>\n",
              "      <td>United States</td>\n",
              "      <td>...</td>\n",
              "      <td>$982</td>\n",
              "      <td>$196</td>\n",
              "      <td>1.0</td>\n",
              "      <td>239.0</td>\n",
              "      <td>6/29/2019</td>\n",
              "      <td>8.58</td>\n",
              "      <td>2.0</td>\n",
              "      <td>2.0</td>\n",
              "      <td>361.0</td>\n",
              "      <td>1. Please clean-up after yourself in the kitch...</td>\n",
              "    </tr>\n",
              "  </tbody>\n",
              "</table>\n",
              "<p>39415 rows × 25 columns</p>\n",
              "</div>"
            ],
            "text/plain": [
              "              id                                               NAME  \\\n",
              "0        1001254                 Clean & quiet apt home by the park   \n",
              "1        1002102                              Skylit Midtown Castle   \n",
              "4        1003689   Entire Apt: Spacious Studio/Loft by central park   \n",
              "5        1004098          Large Cozy 1 BR Apartment In Midtown East   \n",
              "7        1005202                                    BlissArtsSpace!   \n",
              "...          ...                                                ...   \n",
              "102025  57349744       COZY Large Private APARTMENT in EAST VILLAGE   \n",
              "102028  57351400  Gorgeous condo 20min from NYC,close to the air...   \n",
              "102029  57351953             Cozy room in a 2B with backyard access   \n",
              "102031  57353057                       Cozy bedroom in williamsburg   \n",
              "102040  57358028                      Room in Queens, NY, near LGA.   \n",
              "\n",
              "            host id host_identity_verified host name neighbourhood group  \\\n",
              "0       80014485718            unconfirmed  Madaline            Brooklyn   \n",
              "1       52335172823               verified     Jenna           Manhattan   \n",
              "4       92037596077               verified    Lyndon           Manhattan   \n",
              "5       45498551794               verified  Michelle           Manhattan   \n",
              "7       90821839709            unconfirmed      Emma            Brooklyn   \n",
              "...             ...                    ...       ...                 ...   \n",
              "102025  97186426683               verified      Luna           Manhattan   \n",
              "102028  27226581142            unconfirmed    Arthur              Queens   \n",
              "102029   5155155913            unconfirmed  Cristina              Queens   \n",
              "102031  83101851929               verified   Russell            Brooklyn   \n",
              "102040  56457739998               verified     Sonia              Queens   \n",
              "\n",
              "             neighbourhood       lat      long        country  ...    price  \\\n",
              "0               Kensington  40.64749 -73.97237  United States  ...    $966    \n",
              "1                  Midtown  40.75362 -73.98377  United States  ...    $142    \n",
              "4              East Harlem  40.79851 -73.94399  United States  ...    $204    \n",
              "5              Murray Hill  40.74767 -73.97500  United States  ...    $577    \n",
              "7       Bedford-Stuyvesant  40.68688 -73.95596  United States  ...  $1,060    \n",
              "...                    ...       ...       ...            ...  ...      ...   \n",
              "102025        East Village  40.72588 -73.98598  United States  ...    $878    \n",
              "102028           Rego Park  40.72999 -73.86043  United States  ...    $994    \n",
              "102029             Astoria  40.76987 -73.92679  United States  ...    $822    \n",
              "102031        Williamsburg  40.70870 -73.96710  United States  ...  $1,078    \n",
              "102040       East Elmhurst  40.76245 -73.87938  United States  ...    $982    \n",
              "\n",
              "       service fee minimum nights number of reviews  last review  \\\n",
              "0            $193            10.0               9.0   10/19/2021   \n",
              "1             $28            30.0              45.0    5/21/2022   \n",
              "4             $41            10.0               9.0   11/19/2018   \n",
              "5            $115             3.0              74.0    6/22/2019   \n",
              "7            $212            45.0              49.0    10/5/2017   \n",
              "...            ...            ...               ...          ...   \n",
              "102025       $176             6.0              22.0    5/24/2019   \n",
              "102028       $199             2.0              67.0     7/1/2019   \n",
              "102029       $164             1.0               9.0    4/25/2019   \n",
              "102031       $216             1.0              58.0    6/10/2019   \n",
              "102040       $196             1.0             239.0    6/29/2019   \n",
              "\n",
              "       reviews per month review rate number  calculated host listings count  \\\n",
              "0                   0.21                4.0                             6.0   \n",
              "1                   0.38                4.0                             2.0   \n",
              "4                   0.10                3.0                             1.0   \n",
              "5                   0.59                3.0                             1.0   \n",
              "7                   0.40                5.0                             1.0   \n",
              "...                  ...                ...                             ...   \n",
              "102025              0.87                2.0                             1.0   \n",
              "102028              2.58                5.0                             1.0   \n",
              "102029              0.91                3.0                             1.0   \n",
              "102031              2.08                5.0                             2.0   \n",
              "102040              8.58                2.0                             2.0   \n",
              "\n",
              "        availability 365                                        house_rules  \n",
              "0                  286.0  Clean up and treat the home the way you'd like...  \n",
              "1                  228.0  Pet friendly but please confirm with me if the...  \n",
              "4                  289.0  Please no smoking in the house, porch or on th...  \n",
              "5                  374.0                  No smoking, please, and no drugs.  \n",
              "7                  219.0  House Guidelines for our BnB We are delighted ...  \n",
              "...                  ...                                                ...  \n",
              "102025              15.0                                No Smoking, No Pets  \n",
              "102028             278.0  1. Be respectful of me and my home 2. No Pets ...  \n",
              "102029               0.0   I have other roommates so be respectful of that.  \n",
              "102031             120.0  - $150 Pet Fee - 14.45% Tax Will be adjusted i...  \n",
              "102040             361.0  1. Please clean-up after yourself in the kitch...  \n",
              "\n",
              "[39415 rows x 25 columns]"
            ]
          },
          "execution_count": 219,
          "metadata": {},
          "output_type": "execute_result"
        }
      ],
      "source": [
        "df"
      ]
    },
    {
      "cell_type": "code",
      "execution_count": 220,
      "metadata": {
        "colab": {
          "base_uri": "https://localhost:8080/",
          "height": 774
        },
        "execution": {
          "iopub.execute_input": "2025-03-29T21:28:50.451636Z",
          "iopub.status.busy": "2025-03-29T21:28:50.451269Z",
          "iopub.status.idle": "2025-03-29T21:28:50.538274Z",
          "shell.execute_reply": "2025-03-29T21:28:50.537034Z",
          "shell.execute_reply.started": "2025-03-29T21:28:50.451609Z"
        },
        "id": "0CdOHF5eK2ct",
        "outputId": "b8691d5a-b955-48cc-91c7-d1d778af408c",
        "trusted": true
      },
      "outputs": [
        {
          "data": {
            "text/plain": [
              "id                                0\n",
              "NAME                              0\n",
              "host id                           0\n",
              "host_identity_verified            0\n",
              "host name                         0\n",
              "neighbourhood group               0\n",
              "neighbourhood                     0\n",
              "lat                               0\n",
              "long                              0\n",
              "country                           0\n",
              "country code                      0\n",
              "instant_bookable                  0\n",
              "cancellation_policy               0\n",
              "room type                         0\n",
              "Construction year                 0\n",
              "price                             0\n",
              "service fee                       0\n",
              "minimum nights                    0\n",
              "number of reviews                 0\n",
              "last review                       0\n",
              "reviews per month                 0\n",
              "review rate number                0\n",
              "calculated host listings count    0\n",
              "availability 365                  0\n",
              "house_rules                       0\n",
              "dtype: int64"
            ]
          },
          "execution_count": 220,
          "metadata": {},
          "output_type": "execute_result"
        }
      ],
      "source": [
        "df.isna().sum()"
      ]
    },
    {
      "cell_type": "markdown",
      "metadata": {
        "id": "WbB8eJD8K2cu"
      },
      "source": [
        "# *Cleaning individual columns*"
      ]
    },
    {
      "cell_type": "code",
      "execution_count": 221,
      "metadata": {
        "colab": {
          "base_uri": "https://localhost:8080/",
          "height": 401
        },
        "execution": {
          "iopub.execute_input": "2025-03-29T21:28:50.540393Z",
          "iopub.status.busy": "2025-03-29T21:28:50.539924Z",
          "iopub.status.idle": "2025-03-29T21:28:50.564881Z",
          "shell.execute_reply": "2025-03-29T21:28:50.563602Z",
          "shell.execute_reply.started": "2025-03-29T21:28:50.540351Z"
        },
        "id": "Uz6BOWO9K2cu",
        "outputId": "f28a696e-0dda-4add-e98f-a1b642b67112",
        "trusted": true
      },
      "outputs": [
        {
          "data": {
            "text/html": [
              "<div>\n",
              "<style scoped>\n",
              "    .dataframe tbody tr th:only-of-type {\n",
              "        vertical-align: middle;\n",
              "    }\n",
              "\n",
              "    .dataframe tbody tr th {\n",
              "        vertical-align: top;\n",
              "    }\n",
              "\n",
              "    .dataframe thead th {\n",
              "        text-align: right;\n",
              "    }\n",
              "</style>\n",
              "<table border=\"1\" class=\"dataframe\">\n",
              "  <thead>\n",
              "    <tr style=\"text-align: right;\">\n",
              "      <th></th>\n",
              "      <th>id</th>\n",
              "      <th>NAME</th>\n",
              "      <th>host id</th>\n",
              "      <th>host_identity_verified</th>\n",
              "      <th>host name</th>\n",
              "      <th>neighbourhood group</th>\n",
              "      <th>neighbourhood</th>\n",
              "      <th>lat</th>\n",
              "      <th>long</th>\n",
              "      <th>country</th>\n",
              "      <th>...</th>\n",
              "      <th>price</th>\n",
              "      <th>service fee</th>\n",
              "      <th>minimum nights</th>\n",
              "      <th>number of reviews</th>\n",
              "      <th>last review</th>\n",
              "      <th>reviews per month</th>\n",
              "      <th>review rate number</th>\n",
              "      <th>calculated host listings count</th>\n",
              "      <th>availability 365</th>\n",
              "      <th>house_rules</th>\n",
              "    </tr>\n",
              "  </thead>\n",
              "  <tbody>\n",
              "    <tr>\n",
              "      <th>0</th>\n",
              "      <td>1001254</td>\n",
              "      <td>Clean &amp; quiet apt home by the park</td>\n",
              "      <td>80014485718</td>\n",
              "      <td>unconfirmed</td>\n",
              "      <td>Madaline</td>\n",
              "      <td>Brooklyn</td>\n",
              "      <td>Kensington</td>\n",
              "      <td>40.64749</td>\n",
              "      <td>-73.97237</td>\n",
              "      <td>United States</td>\n",
              "      <td>...</td>\n",
              "      <td>$966</td>\n",
              "      <td>$193</td>\n",
              "      <td>10.0</td>\n",
              "      <td>9.0</td>\n",
              "      <td>10/19/2021</td>\n",
              "      <td>0.21</td>\n",
              "      <td>4.0</td>\n",
              "      <td>6.0</td>\n",
              "      <td>286.0</td>\n",
              "      <td>Clean up and treat the home the way you'd like...</td>\n",
              "    </tr>\n",
              "    <tr>\n",
              "      <th>1</th>\n",
              "      <td>1002102</td>\n",
              "      <td>Skylit Midtown Castle</td>\n",
              "      <td>52335172823</td>\n",
              "      <td>verified</td>\n",
              "      <td>Jenna</td>\n",
              "      <td>Manhattan</td>\n",
              "      <td>Midtown</td>\n",
              "      <td>40.75362</td>\n",
              "      <td>-73.98377</td>\n",
              "      <td>United States</td>\n",
              "      <td>...</td>\n",
              "      <td>$142</td>\n",
              "      <td>$28</td>\n",
              "      <td>30.0</td>\n",
              "      <td>45.0</td>\n",
              "      <td>5/21/2022</td>\n",
              "      <td>0.38</td>\n",
              "      <td>4.0</td>\n",
              "      <td>2.0</td>\n",
              "      <td>228.0</td>\n",
              "      <td>Pet friendly but please confirm with me if the...</td>\n",
              "    </tr>\n",
              "    <tr>\n",
              "      <th>4</th>\n",
              "      <td>1003689</td>\n",
              "      <td>Entire Apt: Spacious Studio/Loft by central park</td>\n",
              "      <td>92037596077</td>\n",
              "      <td>verified</td>\n",
              "      <td>Lyndon</td>\n",
              "      <td>Manhattan</td>\n",
              "      <td>East Harlem</td>\n",
              "      <td>40.79851</td>\n",
              "      <td>-73.94399</td>\n",
              "      <td>United States</td>\n",
              "      <td>...</td>\n",
              "      <td>$204</td>\n",
              "      <td>$41</td>\n",
              "      <td>10.0</td>\n",
              "      <td>9.0</td>\n",
              "      <td>11/19/2018</td>\n",
              "      <td>0.10</td>\n",
              "      <td>3.0</td>\n",
              "      <td>1.0</td>\n",
              "      <td>289.0</td>\n",
              "      <td>Please no smoking in the house, porch or on th...</td>\n",
              "    </tr>\n",
              "  </tbody>\n",
              "</table>\n",
              "<p>3 rows × 25 columns</p>\n",
              "</div>"
            ],
            "text/plain": [
              "        id                                              NAME      host id  \\\n",
              "0  1001254                Clean & quiet apt home by the park  80014485718   \n",
              "1  1002102                             Skylit Midtown Castle  52335172823   \n",
              "4  1003689  Entire Apt: Spacious Studio/Loft by central park  92037596077   \n",
              "\n",
              "  host_identity_verified host name neighbourhood group neighbourhood  \\\n",
              "0            unconfirmed  Madaline            Brooklyn    Kensington   \n",
              "1               verified     Jenna           Manhattan       Midtown   \n",
              "4               verified    Lyndon           Manhattan   East Harlem   \n",
              "\n",
              "        lat      long        country  ...  price service fee minimum nights  \\\n",
              "0  40.64749 -73.97237  United States  ...  $966        $193            10.0   \n",
              "1  40.75362 -73.98377  United States  ...  $142         $28            30.0   \n",
              "4  40.79851 -73.94399  United States  ...  $204         $41            10.0   \n",
              "\n",
              "  number of reviews  last review reviews per month review rate number  \\\n",
              "0               9.0   10/19/2021              0.21                4.0   \n",
              "1              45.0    5/21/2022              0.38                4.0   \n",
              "4               9.0   11/19/2018              0.10                3.0   \n",
              "\n",
              "   calculated host listings count  availability 365  \\\n",
              "0                             6.0             286.0   \n",
              "1                             2.0             228.0   \n",
              "4                             1.0             289.0   \n",
              "\n",
              "                                         house_rules  \n",
              "0  Clean up and treat the home the way you'd like...  \n",
              "1  Pet friendly but please confirm with me if the...  \n",
              "4  Please no smoking in the house, porch or on th...  \n",
              "\n",
              "[3 rows x 25 columns]"
            ]
          },
          "execution_count": 221,
          "metadata": {},
          "output_type": "execute_result"
        }
      ],
      "source": [
        "df.head(3)"
      ]
    },
    {
      "cell_type": "code",
      "execution_count": 222,
      "metadata": {
        "colab": {
          "base_uri": "https://localhost:8080/"
        },
        "execution": {
          "iopub.execute_input": "2025-03-29T21:28:50.566853Z",
          "iopub.status.busy": "2025-03-29T21:28:50.56638Z",
          "iopub.status.idle": "2025-03-29T21:28:50.661404Z",
          "shell.execute_reply": "2025-03-29T21:28:50.659539Z",
          "shell.execute_reply.started": "2025-03-29T21:28:50.566817Z"
        },
        "id": "MwgrFJONK2cw",
        "outputId": "a41031d4-570f-48ee-bc42-368ce9f11ac7",
        "trusted": true
      },
      "outputs": [
        {
          "name": "stdout",
          "output_type": "stream",
          "text": [
            "<class 'pandas.core.frame.DataFrame'>\n",
            "Index: 39415 entries, 0 to 102040\n",
            "Data columns (total 25 columns):\n",
            " #   Column                          Non-Null Count  Dtype  \n",
            "---  ------                          --------------  -----  \n",
            " 0   id                              39415 non-null  int64  \n",
            " 1   NAME                            39415 non-null  object \n",
            " 2   host id                         39415 non-null  int64  \n",
            " 3   host_identity_verified          39415 non-null  object \n",
            " 4   host name                       39415 non-null  object \n",
            " 5   neighbourhood group             39415 non-null  object \n",
            " 6   neighbourhood                   39415 non-null  object \n",
            " 7   lat                             39415 non-null  float64\n",
            " 8   long                            39415 non-null  float64\n",
            " 9   country                         39415 non-null  object \n",
            " 10  country code                    39415 non-null  object \n",
            " 11  instant_bookable                39415 non-null  object \n",
            " 12  cancellation_policy             39415 non-null  object \n",
            " 13  room type                       39415 non-null  object \n",
            " 14  Construction year               39415 non-null  float64\n",
            " 15  price                           39415 non-null  object \n",
            " 16  service fee                     39415 non-null  object \n",
            " 17  minimum nights                  39415 non-null  float64\n",
            " 18  number of reviews               39415 non-null  float64\n",
            " 19  last review                     39415 non-null  object \n",
            " 20  reviews per month               39415 non-null  float64\n",
            " 21  review rate number              39415 non-null  float64\n",
            " 22  calculated host listings count  39415 non-null  float64\n",
            " 23  availability 365                39415 non-null  float64\n",
            " 24  house_rules                     39415 non-null  object \n",
            "dtypes: float64(9), int64(2), object(14)\n",
            "memory usage: 7.8+ MB\n"
          ]
        }
      ],
      "source": [
        "df.info()"
      ]
    },
    {
      "cell_type": "markdown",
      "metadata": {
        "id": "R6koZUNwK2cx"
      },
      "source": [
        "# SERVICE FEE"
      ]
    },
    {
      "cell_type": "code",
      "execution_count": 223,
      "metadata": {
        "colab": {
          "base_uri": "https://localhost:8080/",
          "height": 458
        },
        "execution": {
          "iopub.execute_input": "2025-03-29T21:28:50.663582Z",
          "iopub.status.busy": "2025-03-29T21:28:50.662881Z",
          "iopub.status.idle": "2025-03-29T21:28:50.672495Z",
          "shell.execute_reply": "2025-03-29T21:28:50.671159Z",
          "shell.execute_reply.started": "2025-03-29T21:28:50.66354Z"
        },
        "id": "PxHWE_aCK2cz",
        "outputId": "72cbe0e2-30cb-4b3b-9179-a429a6d6cf9c",
        "trusted": true
      },
      "outputs": [
        {
          "data": {
            "text/plain": [
              "0         $193 \n",
              "1          $28 \n",
              "4          $41 \n",
              "5         $115 \n",
              "7         $212 \n",
              "          ...  \n",
              "102025    $176 \n",
              "102028    $199 \n",
              "102029    $164 \n",
              "102031    $216 \n",
              "102040    $196 \n",
              "Name: service fee, Length: 39415, dtype: object"
            ]
          },
          "execution_count": 223,
          "metadata": {},
          "output_type": "execute_result"
        }
      ],
      "source": [
        "df['service fee']"
      ]
    },
    {
      "cell_type": "code",
      "execution_count": 224,
      "metadata": {
        "colab": {
          "base_uri": "https://localhost:8080/"
        },
        "execution": {
          "iopub.execute_input": "2025-03-29T21:28:50.682381Z",
          "iopub.status.busy": "2025-03-29T21:28:50.68192Z",
          "iopub.status.idle": "2025-03-29T21:28:50.697433Z",
          "shell.execute_reply": "2025-03-29T21:28:50.69624Z",
          "shell.execute_reply.started": "2025-03-29T21:28:50.682342Z"
        },
        "id": "kSaLNROgK2dF",
        "outputId": "4bf4e514-a17d-4356-d3e6-9dfdbbddaebe",
        "trusted": true
      },
      "outputs": [
        {
          "data": {
            "text/plain": [
              "array(['$193 ', '$28 ', '$41 ', '$115 ', '$212 ', '$204 ', '$58 ',\n",
              "       '$121 ', '$219 ', '$74 ', '$171 ', '$118 ', '$168 ', '$106 ',\n",
              "       '$13 ', '$152 ', '$90 ', '$186 ', '$66 ', '$19 ', '$227 ', '$32 ',\n",
              "       '$189 ', '$101 ', '$77 ', '$231 ', '$133 ', '$35 ', '$82 ',\n",
              "       '$120 ', '$21 ', '$145 ', '$65 ', '$89 ', '$218 ', '$163 ', '$22 ',\n",
              "       '$182 ', '$165 ', '$37 ', '$17 ', '$48 ', '$11 ', '$131 ', '$102 ',\n",
              "       '$240 ', '$119 ', '$215 ', '$191 ', '$16 ', '$233 ', '$170 ',\n",
              "       '$201 ', '$109 ', '$105 ', '$123 ', '$12 ', '$238 ', '$157 ',\n",
              "       '$198 ', '$206 ', '$122 ', '$208 ', '$140 ', '$10 ', '$20 ',\n",
              "       '$14 ', '$110 ', '$88 ', '$98 ', '$234 ', '$151 ', '$172 ',\n",
              "       '$107 ', '$138 ', '$194 ', '$139 ', '$117 ', '$31 ', '$26 ',\n",
              "       '$156 ', '$124 ', '$162 ', '$93 ', '$51 ', '$239 ', '$161 ',\n",
              "       '$149 ', '$50 ', '$144 ', '$225 ', '$45 ', '$73 ', '$33 ', '$211 ',\n",
              "       '$167 ', '$236 ', '$185 ', '$83 ', '$30 ', '$36 ', '$183 ',\n",
              "       '$111 ', '$142 ', '$113 ', '$129 ', '$223 ', '$71 ', '$136 ',\n",
              "       '$95 ', '$46 ', '$126 ', '$79 ', '$24 ', '$49 ', '$232 ', '$72 ',\n",
              "       '$135 ', '$205 ', '$128 ', '$86 ', '$108 ', '$158 ', '$229 ',\n",
              "       '$137 ', '$127 ', '$176 ', '$148 ', '$92 ', '$169 ', '$187 ',\n",
              "       '$59 ', '$97 ', '$68 ', '$203 ', '$99 ', '$132 ', '$181 ', '$56 ',\n",
              "       '$196 ', '$237 ', '$216 ', '$125 ', '$25 ', '$23 ', '$43 ',\n",
              "       '$130 ', '$47 ', '$15 ', '$141 ', '$52 ', '$166 ', '$63 ', '$199 ',\n",
              "       '$195 ', '$40 ', '$202 ', '$70 ', '$184 ', '$160 ', '$75 ',\n",
              "       '$114 ', '$179 ', '$190 ', '$60 ', '$235 ', '$154 ', '$96 ',\n",
              "       '$80 ', '$177 ', '$153 ', '$87 ', '$173 ', '$214 ', '$197 ',\n",
              "       '$34 ', '$150 ', '$78 ', '$228 ', '$69 ', '$100 ', '$230 ', '$84 ',\n",
              "       '$188 ', '$217 ', '$192 ', '$42 ', '$18 ', '$147 ', '$76 ',\n",
              "       '$159 ', '$134 ', '$64 ', '$164 ', '$85 ', '$175 ', '$226 ',\n",
              "       '$57 ', '$112 ', '$207 ', '$44 ', '$81 ', '$104 ', '$39 ', '$143 ',\n",
              "       '$116 ', '$29 ', '$27 ', '$38 ', '$209 ', '$55 ', '$200 ', '$91 ',\n",
              "       '$210 ', '$155 ', '$174 ', '$67 ', '$94 ', '$61 ', '$221 ',\n",
              "       '$213 ', '$220 ', '$146 ', '$53 ', '$222 ', '$178 ', '$103 ',\n",
              "       '$180 ', '$62 ', '$54 ', '$224 '], dtype=object)"
            ]
          },
          "execution_count": 224,
          "metadata": {},
          "output_type": "execute_result"
        }
      ],
      "source": [
        "df['service fee'].unique()"
      ]
    },
    {
      "cell_type": "code",
      "execution_count": 225,
      "metadata": {
        "execution": {
          "iopub.execute_input": "2025-03-29T21:28:50.701383Z",
          "iopub.status.busy": "2025-03-29T21:28:50.701019Z",
          "iopub.status.idle": "2025-03-29T21:28:50.924929Z",
          "shell.execute_reply": "2025-03-29T21:28:50.923582Z",
          "shell.execute_reply.started": "2025-03-29T21:28:50.701352Z"
        },
        "id": "5rStN20uK2dG",
        "trusted": true
      },
      "outputs": [
        {
          "data": {
            "text/plain": [
              "0         193 \n",
              "1          28 \n",
              "4          41 \n",
              "5         115 \n",
              "7         212 \n",
              "          ... \n",
              "102025    176 \n",
              "102028    199 \n",
              "102029    164 \n",
              "102031    216 \n",
              "102040    196 \n",
              "Name: service fee, Length: 39415, dtype: object"
            ]
          },
          "execution_count": 225,
          "metadata": {},
          "output_type": "execute_result"
        }
      ],
      "source": [
        "df['service fee'] = df['service fee'].str.split('$').str[1]\n",
        "df['service fee']"
      ]
    },
    {
      "cell_type": "code",
      "execution_count": 226,
      "metadata": {
        "execution": {
          "iopub.execute_input": "2025-03-29T21:28:50.926476Z",
          "iopub.status.busy": "2025-03-29T21:28:50.926202Z",
          "iopub.status.idle": "2025-03-29T21:28:50.944327Z",
          "shell.execute_reply": "2025-03-29T21:28:50.942934Z",
          "shell.execute_reply.started": "2025-03-29T21:28:50.926452Z"
        },
        "id": "LCVJrmy1K2dH",
        "trusted": true
      },
      "outputs": [],
      "source": [
        "#df['service fee'] = df['service fee'].astype(int)"
      ]
    },
    {
      "cell_type": "code",
      "execution_count": 227,
      "metadata": {
        "colab": {
          "base_uri": "https://localhost:8080/"
        },
        "execution": {
          "iopub.execute_input": "2025-03-29T21:28:50.946053Z",
          "iopub.status.busy": "2025-03-29T21:28:50.945681Z",
          "iopub.status.idle": "2025-03-29T21:28:51.042319Z",
          "shell.execute_reply": "2025-03-29T21:28:51.040831Z",
          "shell.execute_reply.started": "2025-03-29T21:28:50.946002Z"
        },
        "id": "AUfAVxQMK2dK",
        "outputId": "cdbc2f91-baac-4d17-9346-a762b83f0c9a",
        "trusted": true
      },
      "outputs": [],
      "source": [
        "#df.info()"
      ]
    },
    {
      "cell_type": "markdown",
      "metadata": {
        "id": "EN0aWN8mK2dM"
      },
      "source": [
        "# PRICE"
      ]
    },
    {
      "cell_type": "code",
      "execution_count": 228,
      "metadata": {
        "colab": {
          "base_uri": "https://localhost:8080/",
          "height": 458
        },
        "execution": {
          "iopub.execute_input": "2025-03-29T21:28:51.044256Z",
          "iopub.status.busy": "2025-03-29T21:28:51.043876Z",
          "iopub.status.idle": "2025-03-29T21:28:51.053373Z",
          "shell.execute_reply": "2025-03-29T21:28:51.052125Z",
          "shell.execute_reply.started": "2025-03-29T21:28:51.044222Z"
        },
        "id": "Fn1Fd3PLK2dN",
        "outputId": "0b9efa8a-f8dd-4cf1-fb72-e460335a5ae4",
        "trusted": true
      },
      "outputs": [
        {
          "data": {
            "text/plain": [
              "0           $966 \n",
              "1           $142 \n",
              "4           $204 \n",
              "5           $577 \n",
              "7         $1,060 \n",
              "           ...   \n",
              "102025      $878 \n",
              "102028      $994 \n",
              "102029      $822 \n",
              "102031    $1,078 \n",
              "102040      $982 \n",
              "Name: price, Length: 39415, dtype: object"
            ]
          },
          "execution_count": 228,
          "metadata": {},
          "output_type": "execute_result"
        }
      ],
      "source": [
        "df['price']"
      ]
    },
    {
      "cell_type": "code",
      "execution_count": 229,
      "metadata": {
        "colab": {
          "base_uri": "https://localhost:8080/"
        },
        "execution": {
          "iopub.execute_input": "2025-03-29T21:28:51.055101Z",
          "iopub.status.busy": "2025-03-29T21:28:51.054528Z",
          "iopub.status.idle": "2025-03-29T21:28:51.081052Z",
          "shell.execute_reply": "2025-03-29T21:28:51.079791Z",
          "shell.execute_reply.started": "2025-03-29T21:28:51.055049Z"
        },
        "id": "viuCLN_-K2dN",
        "outputId": "06bbe36e-5c5a-4f0f-b84b-d488630a86de",
        "trusted": true
      },
      "outputs": [
        {
          "data": {
            "text/plain": [
              "array(['$966 ', '$142 ', '$204 ', ..., '$458 ', '$743 ', '$942 '],\n",
              "      dtype=object)"
            ]
          },
          "execution_count": 229,
          "metadata": {},
          "output_type": "execute_result"
        }
      ],
      "source": [
        "df['price'].unique()"
      ]
    },
    {
      "cell_type": "code",
      "execution_count": 230,
      "metadata": {
        "execution": {
          "iopub.execute_input": "2025-03-29T21:28:51.082737Z",
          "iopub.status.busy": "2025-03-29T21:28:51.082376Z",
          "iopub.status.idle": "2025-03-29T21:28:51.332167Z",
          "shell.execute_reply": "2025-03-29T21:28:51.330854Z",
          "shell.execute_reply.started": "2025-03-29T21:28:51.082707Z"
        },
        "id": "hLLR-6XWK2dP",
        "trusted": true
      },
      "outputs": [
        {
          "data": {
            "text/plain": [
              "0          966 \n",
              "1          142 \n",
              "4          204 \n",
              "5          577 \n",
              "7         1060 \n",
              "          ...  \n",
              "102025     878 \n",
              "102028     994 \n",
              "102029     822 \n",
              "102031    1078 \n",
              "102040     982 \n",
              "Name: price, Length: 39415, dtype: object"
            ]
          },
          "execution_count": 230,
          "metadata": {},
          "output_type": "execute_result"
        }
      ],
      "source": [
        "df['price'] = df['price'].str.split('$').str[1].str.replace(',','')\n",
        "df['price']"
      ]
    },
    {
      "cell_type": "code",
      "execution_count": 231,
      "metadata": {
        "execution": {
          "iopub.execute_input": "2025-03-29T21:28:51.333774Z",
          "iopub.status.busy": "2025-03-29T21:28:51.333398Z",
          "iopub.status.idle": "2025-03-29T21:28:51.353383Z",
          "shell.execute_reply": "2025-03-29T21:28:51.35216Z",
          "shell.execute_reply.started": "2025-03-29T21:28:51.333729Z"
        },
        "id": "IjPDG32sK2dQ",
        "trusted": true
      },
      "outputs": [],
      "source": [
        "#df['price'] = df['price'].astype(int)"
      ]
    },
    {
      "cell_type": "code",
      "execution_count": 232,
      "metadata": {
        "colab": {
          "base_uri": "https://localhost:8080/"
        },
        "execution": {
          "iopub.execute_input": "2025-03-29T21:28:51.355164Z",
          "iopub.status.busy": "2025-03-29T21:28:51.354748Z",
          "iopub.status.idle": "2025-03-29T21:28:51.442563Z",
          "shell.execute_reply": "2025-03-29T21:28:51.441385Z",
          "shell.execute_reply.started": "2025-03-29T21:28:51.355119Z"
        },
        "id": "0ADgBYv0K2dQ",
        "outputId": "da0a34e7-5449-4cff-b9a4-47300abee9ea",
        "trusted": true
      },
      "outputs": [],
      "source": [
        "#df.info()"
      ]
    },
    {
      "cell_type": "markdown",
      "metadata": {
        "id": "AjgcXuAbK2dR"
      },
      "source": [
        "# ROOM TYPE"
      ]
    },
    {
      "cell_type": "code",
      "execution_count": 233,
      "metadata": {
        "colab": {
          "base_uri": "https://localhost:8080/",
          "height": 458
        },
        "execution": {
          "iopub.execute_input": "2025-03-29T21:28:51.444151Z",
          "iopub.status.busy": "2025-03-29T21:28:51.443756Z",
          "iopub.status.idle": "2025-03-29T21:28:51.452575Z",
          "shell.execute_reply": "2025-03-29T21:28:51.450972Z",
          "shell.execute_reply.started": "2025-03-29T21:28:51.444106Z"
        },
        "id": "sZPhALHxK2dR",
        "outputId": "83dfd405-fca3-4493-ad46-f9ffb012a341",
        "trusted": true
      },
      "outputs": [
        {
          "data": {
            "text/plain": [
              "0            Private room\n",
              "1         Entire home/apt\n",
              "4         Entire home/apt\n",
              "5         Entire home/apt\n",
              "7            Private room\n",
              "               ...       \n",
              "102025    Entire home/apt\n",
              "102028    Entire home/apt\n",
              "102029       Private room\n",
              "102031       Private room\n",
              "102040       Private room\n",
              "Name: room type, Length: 39415, dtype: object"
            ]
          },
          "execution_count": 233,
          "metadata": {},
          "output_type": "execute_result"
        }
      ],
      "source": [
        "df['room type']"
      ]
    },
    {
      "cell_type": "code",
      "execution_count": 234,
      "metadata": {
        "colab": {
          "base_uri": "https://localhost:8080/"
        },
        "execution": {
          "iopub.execute_input": "2025-03-29T21:28:51.454614Z",
          "iopub.status.busy": "2025-03-29T21:28:51.453925Z",
          "iopub.status.idle": "2025-03-29T21:28:51.482154Z",
          "shell.execute_reply": "2025-03-29T21:28:51.480889Z",
          "shell.execute_reply.started": "2025-03-29T21:28:51.454561Z"
        },
        "id": "8pl9b5-cK2dR",
        "outputId": "29b90283-673a-4109-d694-4ec7e0e10140",
        "trusted": true
      },
      "outputs": [
        {
          "data": {
            "text/plain": [
              "array(['Private room', 'Entire home/apt', 'Shared room'], dtype=object)"
            ]
          },
          "execution_count": 234,
          "metadata": {},
          "output_type": "execute_result"
        }
      ],
      "source": [
        "df['room type'].unique()"
      ]
    },
    {
      "cell_type": "code",
      "execution_count": 235,
      "metadata": {
        "execution": {
          "iopub.execute_input": "2025-03-29T21:28:51.483729Z",
          "iopub.status.busy": "2025-03-29T21:28:51.483326Z",
          "iopub.status.idle": "2025-03-29T21:28:52.121815Z",
          "shell.execute_reply": "2025-03-29T21:28:52.120535Z",
          "shell.execute_reply.started": "2025-03-29T21:28:51.483685Z"
        },
        "id": "wSWqXq8cK2dS",
        "trusted": true
      },
      "outputs": [],
      "source": [
        "from sklearn.preprocessing import OneHotEncoder\n",
        "\n",
        "#encoder = OneHotEncoder()"
      ]
    },
    {
      "cell_type": "code",
      "execution_count": 236,
      "metadata": {
        "execution": {
          "iopub.execute_input": "2025-03-29T21:28:52.12318Z",
          "iopub.status.busy": "2025-03-29T21:28:52.122631Z",
          "iopub.status.idle": "2025-03-29T21:28:52.166431Z",
          "shell.execute_reply": "2025-03-29T21:28:52.165144Z",
          "shell.execute_reply.started": "2025-03-29T21:28:52.123153Z"
        },
        "id": "N_7JXbpgK2dd",
        "trusted": true
      },
      "outputs": [],
      "source": [
        "#encoded = encoder.fit_transform(df[['ROOM TYPE']]).toarray()"
      ]
    },
    {
      "cell_type": "code",
      "execution_count": 237,
      "metadata": {
        "execution": {
          "iopub.execute_input": "2025-03-29T21:28:52.167781Z",
          "iopub.status.busy": "2025-03-29T21:28:52.167432Z",
          "iopub.status.idle": "2025-03-29T21:28:52.173766Z",
          "shell.execute_reply": "2025-03-29T21:28:52.172289Z",
          "shell.execute_reply.started": "2025-03-29T21:28:52.167753Z"
        },
        "id": "LPokFGGyK2de",
        "trusted": true
      },
      "outputs": [],
      "source": [
        "#df_room_type = pd.DataFrame(encoded,columns=encoder.get_feature_names_out())"
      ]
    },
    {
      "cell_type": "code",
      "execution_count": 238,
      "metadata": {
        "colab": {
          "base_uri": "https://localhost:8080/",
          "height": 424
        },
        "execution": {
          "iopub.execute_input": "2025-03-29T21:28:52.175478Z",
          "iopub.status.busy": "2025-03-29T21:28:52.17507Z",
          "iopub.status.idle": "2025-03-29T21:28:52.202723Z",
          "shell.execute_reply": "2025-03-29T21:28:52.20155Z",
          "shell.execute_reply.started": "2025-03-29T21:28:52.175438Z"
        },
        "id": "CMmTSFVdK2df",
        "outputId": "a696e5ab-1161-4626-86bf-f7e2e02224f3",
        "trusted": true
      },
      "outputs": [],
      "source": [
        "#df_room_type"
      ]
    },
    {
      "cell_type": "code",
      "execution_count": 239,
      "metadata": {
        "execution": {
          "iopub.execute_input": "2025-03-29T21:28:52.204573Z",
          "iopub.status.busy": "2025-03-29T21:28:52.204152Z",
          "iopub.status.idle": "2025-03-29T21:28:52.250041Z",
          "shell.execute_reply": "2025-03-29T21:28:52.248811Z",
          "shell.execute_reply.started": "2025-03-29T21:28:52.204538Z"
        },
        "id": "nVTCNc7pK2df",
        "trusted": true
      },
      "outputs": [],
      "source": [
        "#df = pd.concat([df,df_room_type],axis=1)"
      ]
    },
    {
      "cell_type": "code",
      "execution_count": 240,
      "metadata": {
        "execution": {
          "iopub.execute_input": "2025-03-29T21:28:52.251881Z",
          "iopub.status.busy": "2025-03-29T21:28:52.25138Z",
          "iopub.status.idle": "2025-03-29T21:28:52.284004Z",
          "shell.execute_reply": "2025-03-29T21:28:52.282877Z",
          "shell.execute_reply.started": "2025-03-29T21:28:52.251845Z"
        },
        "id": "SoFssIfgK2dg",
        "trusted": true
      },
      "outputs": [],
      "source": [
        "#df.drop(columns=['ROOM TYPE'],inplace=True)"
      ]
    },
    {
      "cell_type": "code",
      "execution_count": 241,
      "metadata": {
        "colab": {
          "base_uri": "https://localhost:8080/",
          "height": 401
        },
        "execution": {
          "iopub.execute_input": "2025-03-29T21:28:52.285871Z",
          "iopub.status.busy": "2025-03-29T21:28:52.285449Z",
          "iopub.status.idle": "2025-03-29T21:28:52.313953Z",
          "shell.execute_reply": "2025-03-29T21:28:52.312796Z",
          "shell.execute_reply.started": "2025-03-29T21:28:52.285833Z"
        },
        "id": "xKqRpkHlK2dg",
        "outputId": "3f077458-290b-4d9e-923b-68f28447704f",
        "trusted": true
      },
      "outputs": [],
      "source": [
        "#df.head(3)"
      ]
    },
    {
      "cell_type": "code",
      "execution_count": 242,
      "metadata": {
        "colab": {
          "base_uri": "https://localhost:8080/"
        },
        "execution": {
          "iopub.execute_input": "2025-03-29T21:28:52.315276Z",
          "iopub.status.busy": "2025-03-29T21:28:52.315017Z",
          "iopub.status.idle": "2025-03-29T21:28:52.383921Z",
          "shell.execute_reply": "2025-03-29T21:28:52.382808Z",
          "shell.execute_reply.started": "2025-03-29T21:28:52.315255Z"
        },
        "id": "C0jOEd1OK2dh",
        "outputId": "6b7ba73f-8bea-4fc6-ca99-247e59814bf9",
        "trusted": true
      },
      "outputs": [],
      "source": [
        "#df.info()"
      ]
    },
    {
      "cell_type": "markdown",
      "metadata": {
        "id": "QCrFIAM1K2dh"
      },
      "source": [
        "# CANCELLATION_POLICY"
      ]
    },
    {
      "cell_type": "code",
      "execution_count": 243,
      "metadata": {
        "colab": {
          "base_uri": "https://localhost:8080/",
          "height": 458
        },
        "execution": {
          "iopub.execute_input": "2025-03-29T21:28:52.385407Z",
          "iopub.status.busy": "2025-03-29T21:28:52.385146Z",
          "iopub.status.idle": "2025-03-29T21:28:52.393675Z",
          "shell.execute_reply": "2025-03-29T21:28:52.392401Z",
          "shell.execute_reply.started": "2025-03-29T21:28:52.385385Z"
        },
        "id": "zujYq_o6K2di",
        "outputId": "9da2ed58-aee2-47de-ae1c-a717ec4eacfd",
        "trusted": true
      },
      "outputs": [
        {
          "data": {
            "text/plain": [
              "0           strict\n",
              "1         moderate\n",
              "4         moderate\n",
              "5         flexible\n",
              "7         moderate\n",
              "            ...   \n",
              "102025      strict\n",
              "102028    moderate\n",
              "102029    flexible\n",
              "102031    flexible\n",
              "102040      strict\n",
              "Name: cancellation_policy, Length: 39415, dtype: object"
            ]
          },
          "execution_count": 243,
          "metadata": {},
          "output_type": "execute_result"
        }
      ],
      "source": [
        "df['cancellation_policy']"
      ]
    },
    {
      "cell_type": "code",
      "execution_count": 244,
      "metadata": {
        "colab": {
          "base_uri": "https://localhost:8080/"
        },
        "execution": {
          "iopub.execute_input": "2025-03-29T21:28:52.394913Z",
          "iopub.status.busy": "2025-03-29T21:28:52.394459Z",
          "iopub.status.idle": "2025-03-29T21:28:52.417301Z",
          "shell.execute_reply": "2025-03-29T21:28:52.415982Z",
          "shell.execute_reply.started": "2025-03-29T21:28:52.394872Z"
        },
        "id": "4ZBCQGCPK2di",
        "outputId": "12cfba01-dc8d-4d24-af9f-580f45b650ae",
        "trusted": true
      },
      "outputs": [
        {
          "data": {
            "text/plain": [
              "array(['strict', 'moderate', 'flexible'], dtype=object)"
            ]
          },
          "execution_count": 244,
          "metadata": {},
          "output_type": "execute_result"
        }
      ],
      "source": [
        "df['cancellation_policy'].unique()"
      ]
    },
    {
      "cell_type": "code",
      "execution_count": 245,
      "metadata": {
        "colab": {
          "base_uri": "https://localhost:8080/"
        },
        "execution": {
          "iopub.execute_input": "2025-03-29T21:28:52.419038Z",
          "iopub.status.busy": "2025-03-29T21:28:52.418604Z",
          "iopub.status.idle": "2025-03-29T21:28:52.442634Z",
          "shell.execute_reply": "2025-03-29T21:28:52.441448Z",
          "shell.execute_reply.started": "2025-03-29T21:28:52.418999Z"
        },
        "id": "e40l0RiyK2dj",
        "outputId": "b3cc9976-a509-4366-c21e-2d8a83a47753",
        "trusted": true
      },
      "outputs": [],
      "source": [
        "#df['cancellation_policy'].isna().sum()"
      ]
    },
    {
      "cell_type": "code",
      "execution_count": 246,
      "metadata": {
        "colab": {
          "base_uri": "https://localhost:8080/",
          "height": 496
        },
        "execution": {
          "iopub.execute_input": "2025-03-29T21:28:52.444126Z",
          "iopub.status.busy": "2025-03-29T21:28:52.443794Z",
          "iopub.status.idle": "2025-03-29T21:28:52.492666Z",
          "shell.execute_reply": "2025-03-29T21:28:52.491148Z",
          "shell.execute_reply.started": "2025-03-29T21:28:52.4441Z"
        },
        "id": "R-eolo4XK2dk",
        "outputId": "21276135-40d9-409a-dbfc-fcccc409343c",
        "trusted": true
      },
      "outputs": [],
      "source": [
        "#df[df['cancellation_policy'].isna()]"
      ]
    },
    {
      "cell_type": "code",
      "execution_count": 247,
      "metadata": {
        "execution": {
          "iopub.execute_input": "2025-03-29T21:28:52.494394Z",
          "iopub.status.busy": "2025-03-29T21:28:52.493993Z",
          "iopub.status.idle": "2025-03-29T21:28:52.566228Z",
          "shell.execute_reply": "2025-03-29T21:28:52.565102Z",
          "shell.execute_reply.started": "2025-03-29T21:28:52.494358Z"
        },
        "id": "ZN3ZDkDbK2dk",
        "trusted": true
      },
      "outputs": [],
      "source": [
        "#df.dropna(inplace=True)"
      ]
    },
    {
      "cell_type": "code",
      "execution_count": 248,
      "metadata": {
        "execution": {
          "iopub.execute_input": "2025-03-29T21:28:52.582026Z",
          "iopub.status.busy": "2025-03-29T21:28:52.58161Z",
          "iopub.status.idle": "2025-03-29T21:28:52.624046Z",
          "shell.execute_reply": "2025-03-29T21:28:52.622874Z",
          "shell.execute_reply.started": "2025-03-29T21:28:52.581998Z"
        },
        "id": "llX6MRUUK2dn",
        "trusted": true
      },
      "outputs": [],
      "source": [
        "#encoded = encoder.fit_transform(df[['CANCELLATION_POLICY']]).toarray()"
      ]
    },
    {
      "cell_type": "code",
      "execution_count": 249,
      "metadata": {
        "colab": {
          "base_uri": "https://localhost:8080/"
        },
        "execution": {
          "iopub.execute_input": "2025-03-29T21:28:52.62574Z",
          "iopub.status.busy": "2025-03-29T21:28:52.625316Z",
          "iopub.status.idle": "2025-03-29T21:28:52.645056Z",
          "shell.execute_reply": "2025-03-29T21:28:52.643759Z",
          "shell.execute_reply.started": "2025-03-29T21:28:52.6257Z"
        },
        "id": "Ibbsr4uTK2dq",
        "outputId": "0a558136-b575-461e-88b0-1fb6cac4b8a4",
        "trusted": true
      },
      "outputs": [],
      "source": [
        "#encoded"
      ]
    },
    {
      "cell_type": "code",
      "execution_count": 250,
      "metadata": {
        "execution": {
          "iopub.execute_input": "2025-03-29T21:28:52.646696Z",
          "iopub.status.busy": "2025-03-29T21:28:52.646323Z",
          "iopub.status.idle": "2025-03-29T21:28:52.664417Z",
          "shell.execute_reply": "2025-03-29T21:28:52.663214Z",
          "shell.execute_reply.started": "2025-03-29T21:28:52.646634Z"
        },
        "id": "Pn4_k_G9K2ds",
        "trusted": true
      },
      "outputs": [],
      "source": [
        "#df_can_policy = pd.DataFrame(encoded,columns=encoder.get_feature_names_out())"
      ]
    },
    {
      "cell_type": "code",
      "execution_count": 251,
      "metadata": {
        "colab": {
          "base_uri": "https://localhost:8080/",
          "height": 424
        },
        "execution": {
          "iopub.execute_input": "2025-03-29T21:28:52.666167Z",
          "iopub.status.busy": "2025-03-29T21:28:52.665717Z",
          "iopub.status.idle": "2025-03-29T21:28:52.691556Z",
          "shell.execute_reply": "2025-03-29T21:28:52.690107Z",
          "shell.execute_reply.started": "2025-03-29T21:28:52.666129Z"
        },
        "id": "QZv3DF7-K2dt",
        "outputId": "acb0ec9b-bb5d-491f-b879-bab63fbba185",
        "trusted": true
      },
      "outputs": [],
      "source": [
        "#df_can_policy"
      ]
    },
    {
      "cell_type": "code",
      "execution_count": 252,
      "metadata": {
        "execution": {
          "iopub.execute_input": "2025-03-29T21:28:52.693155Z",
          "iopub.status.busy": "2025-03-29T21:28:52.69283Z",
          "iopub.status.idle": "2025-03-29T21:28:52.746829Z",
          "shell.execute_reply": "2025-03-29T21:28:52.745823Z",
          "shell.execute_reply.started": "2025-03-29T21:28:52.693129Z"
        },
        "id": "pAYgBfTyK2dt",
        "trusted": true
      },
      "outputs": [],
      "source": [
        "#df = pd.concat([df,df_can_policy],axis=True)"
      ]
    },
    {
      "cell_type": "code",
      "execution_count": 253,
      "metadata": {
        "execution": {
          "iopub.execute_input": "2025-03-29T21:28:52.748167Z",
          "iopub.status.busy": "2025-03-29T21:28:52.747886Z",
          "iopub.status.idle": "2025-03-29T21:28:52.767636Z",
          "shell.execute_reply": "2025-03-29T21:28:52.766598Z",
          "shell.execute_reply.started": "2025-03-29T21:28:52.748142Z"
        },
        "id": "IDNoglncK2du",
        "trusted": true
      },
      "outputs": [],
      "source": [
        "#df.drop(columns=['CANCELLATION_POLICY'],inplace=True)"
      ]
    },
    {
      "cell_type": "code",
      "execution_count": 254,
      "metadata": {
        "colab": {
          "base_uri": "https://localhost:8080/"
        },
        "execution": {
          "iopub.execute_input": "2025-03-29T21:28:52.769096Z",
          "iopub.status.busy": "2025-03-29T21:28:52.768603Z",
          "iopub.status.idle": "2025-03-29T21:28:52.833611Z",
          "shell.execute_reply": "2025-03-29T21:28:52.832209Z",
          "shell.execute_reply.started": "2025-03-29T21:28:52.769063Z"
        },
        "id": "AE5xrs95K2dz",
        "outputId": "1bc52b02-f2ac-4384-8580-884f987d7875",
        "trusted": true
      },
      "outputs": [],
      "source": [
        "#df.info()"
      ]
    },
    {
      "cell_type": "markdown",
      "metadata": {
        "id": "NPU0PO4eK2d4"
      },
      "source": [
        "# INSTANT_BOOKABLE"
      ]
    },
    {
      "cell_type": "code",
      "execution_count": 255,
      "metadata": {
        "colab": {
          "base_uri": "https://localhost:8080/",
          "height": 458
        },
        "execution": {
          "iopub.execute_input": "2025-03-29T21:28:52.835275Z",
          "iopub.status.busy": "2025-03-29T21:28:52.834827Z",
          "iopub.status.idle": "2025-03-29T21:28:52.844413Z",
          "shell.execute_reply": "2025-03-29T21:28:52.843152Z",
          "shell.execute_reply.started": "2025-03-29T21:28:52.835239Z"
        },
        "id": "D2JVtrHGK2d4",
        "outputId": "779f9caa-e160-42f8-d490-6a820568fa89",
        "trusted": true
      },
      "outputs": [
        {
          "data": {
            "text/plain": [
              "0         False\n",
              "1         False\n",
              "4         False\n",
              "5          True\n",
              "7         False\n",
              "          ...  \n",
              "102025    False\n",
              "102028    False\n",
              "102029    False\n",
              "102031     True\n",
              "102040     True\n",
              "Name: instant_bookable, Length: 39415, dtype: object"
            ]
          },
          "execution_count": 255,
          "metadata": {},
          "output_type": "execute_result"
        }
      ],
      "source": [
        "df['instant_bookable']"
      ]
    },
    {
      "cell_type": "code",
      "execution_count": 256,
      "metadata": {
        "colab": {
          "base_uri": "https://localhost:8080/"
        },
        "execution": {
          "iopub.execute_input": "2025-03-29T21:28:52.846144Z",
          "iopub.status.busy": "2025-03-29T21:28:52.845822Z",
          "iopub.status.idle": "2025-03-29T21:28:52.867425Z",
          "shell.execute_reply": "2025-03-29T21:28:52.866104Z",
          "shell.execute_reply.started": "2025-03-29T21:28:52.846119Z"
        },
        "id": "QZvOfUVhK2d8",
        "outputId": "a739db9f-6d02-4592-8479-39211b5207f1",
        "trusted": true
      },
      "outputs": [
        {
          "data": {
            "text/plain": [
              "array([False, True], dtype=object)"
            ]
          },
          "execution_count": 256,
          "metadata": {},
          "output_type": "execute_result"
        }
      ],
      "source": [
        "df['instant_bookable'].unique()"
      ]
    },
    {
      "cell_type": "code",
      "execution_count": 257,
      "metadata": {
        "execution": {
          "iopub.execute_input": "2025-03-29T21:28:52.869158Z",
          "iopub.status.busy": "2025-03-29T21:28:52.868748Z",
          "iopub.status.idle": "2025-03-29T21:28:52.943814Z",
          "shell.execute_reply": "2025-03-29T21:28:52.942675Z",
          "shell.execute_reply.started": "2025-03-29T21:28:52.869121Z"
        },
        "id": "GtrgSMeTK2d9",
        "trusted": true
      },
      "outputs": [],
      "source": [
        "#df.dropna(inplace=True)"
      ]
    },
    {
      "cell_type": "code",
      "execution_count": 258,
      "metadata": {
        "colab": {
          "base_uri": "https://localhost:8080/"
        },
        "execution": {
          "iopub.execute_input": "2025-03-29T21:28:52.945193Z",
          "iopub.status.busy": "2025-03-29T21:28:52.944845Z",
          "iopub.status.idle": "2025-03-29T21:28:52.955085Z",
          "shell.execute_reply": "2025-03-29T21:28:52.953459Z",
          "shell.execute_reply.started": "2025-03-29T21:28:52.945161Z"
        },
        "id": "GjlayPVEK2d9",
        "outputId": "8261a23e-06c2-4073-e799-4be0bc6d6756",
        "trusted": true
      },
      "outputs": [],
      "source": [
        "#df['instant_bookable'].unique()"
      ]
    },
    {
      "cell_type": "code",
      "execution_count": 259,
      "metadata": {
        "colab": {
          "base_uri": "https://localhost:8080/"
        },
        "execution": {
          "iopub.execute_input": "2025-03-29T21:28:52.956529Z",
          "iopub.status.busy": "2025-03-29T21:28:52.956248Z",
          "iopub.status.idle": "2025-03-29T21:28:52.980262Z",
          "shell.execute_reply": "2025-03-29T21:28:52.9792Z",
          "shell.execute_reply.started": "2025-03-29T21:28:52.956506Z"
        },
        "id": "1-IMchdKK2d-",
        "outputId": "6e0bd199-a23c-4ebf-acf2-ec4135dd8581",
        "trusted": true
      },
      "outputs": [],
      "source": [
        "#df['instant_bookable'].isna().sum()"
      ]
    },
    {
      "cell_type": "code",
      "execution_count": 260,
      "metadata": {
        "execution": {
          "iopub.execute_input": "2025-03-29T21:28:52.981564Z",
          "iopub.status.busy": "2025-03-29T21:28:52.9813Z",
          "iopub.status.idle": "2025-03-29T21:28:53.031039Z",
          "shell.execute_reply": "2025-03-29T21:28:53.029746Z",
          "shell.execute_reply.started": "2025-03-29T21:28:52.981542Z"
        },
        "id": "dmirA2D-K2d_",
        "trusted": true
      },
      "outputs": [],
      "source": [
        "#df['instant_bookable'] = df['instant_bookable'].apply(lambda x:1 if x==True else 0)"
      ]
    },
    {
      "cell_type": "code",
      "execution_count": 261,
      "metadata": {
        "colab": {
          "base_uri": "https://localhost:8080/",
          "height": 178
        },
        "execution": {
          "iopub.execute_input": "2025-03-29T21:28:53.03316Z",
          "iopub.status.busy": "2025-03-29T21:28:53.032752Z",
          "iopub.status.idle": "2025-03-29T21:28:53.05332Z",
          "shell.execute_reply": "2025-03-29T21:28:53.052001Z",
          "shell.execute_reply.started": "2025-03-29T21:28:53.033132Z"
        },
        "id": "A2o30yL5K2d_",
        "outputId": "50cf7537-e923-4b17-a2dc-f0aac20a1564",
        "trusted": true
      },
      "outputs": [
        {
          "data": {
            "text/plain": [
              "instant_bookable\n",
              "False    19793\n",
              "True     19622\n",
              "Name: count, dtype: int64"
            ]
          },
          "execution_count": 261,
          "metadata": {},
          "output_type": "execute_result"
        }
      ],
      "source": [
        "df['instant_bookable'].value_counts()"
      ]
    },
    {
      "cell_type": "code",
      "execution_count": 262,
      "metadata": {
        "colab": {
          "base_uri": "https://localhost:8080/"
        },
        "execution": {
          "iopub.execute_input": "2025-03-29T21:28:53.054976Z",
          "iopub.status.busy": "2025-03-29T21:28:53.054544Z",
          "iopub.status.idle": "2025-03-29T21:28:53.127458Z",
          "shell.execute_reply": "2025-03-29T21:28:53.126058Z",
          "shell.execute_reply.started": "2025-03-29T21:28:53.054942Z"
        },
        "id": "DP_RGmljK2eA",
        "outputId": "096205e7-723a-4cf8-dd06-7a8e2374337b",
        "trusted": true
      },
      "outputs": [],
      "source": [
        "#df.info()"
      ]
    },
    {
      "cell_type": "markdown",
      "metadata": {
        "id": "8wSgsvhBK2eB"
      },
      "source": [
        "# COUNTRY & COUNTRY CODE"
      ]
    },
    {
      "cell_type": "code",
      "execution_count": 263,
      "metadata": {
        "colab": {
          "base_uri": "https://localhost:8080/",
          "height": 458
        },
        "execution": {
          "iopub.execute_input": "2025-03-29T21:28:53.128895Z",
          "iopub.status.busy": "2025-03-29T21:28:53.128584Z",
          "iopub.status.idle": "2025-03-29T21:28:53.137334Z",
          "shell.execute_reply": "2025-03-29T21:28:53.136135Z",
          "shell.execute_reply.started": "2025-03-29T21:28:53.128869Z"
        },
        "id": "djTv5NI9K2eB",
        "outputId": "7449951e-462f-4d3f-b788-d79bd6b8be26",
        "trusted": true
      },
      "outputs": [
        {
          "data": {
            "text/plain": [
              "0         US\n",
              "1         US\n",
              "4         US\n",
              "5         US\n",
              "7         US\n",
              "          ..\n",
              "102025    US\n",
              "102028    US\n",
              "102029    US\n",
              "102031    US\n",
              "102040    US\n",
              "Name: country code, Length: 39415, dtype: object"
            ]
          },
          "execution_count": 263,
          "metadata": {},
          "output_type": "execute_result"
        }
      ],
      "source": [
        "df['country code']"
      ]
    },
    {
      "cell_type": "code",
      "execution_count": 264,
      "metadata": {
        "colab": {
          "base_uri": "https://localhost:8080/",
          "height": 147
        },
        "execution": {
          "iopub.execute_input": "2025-03-29T21:28:53.138781Z",
          "iopub.status.busy": "2025-03-29T21:28:53.138388Z",
          "iopub.status.idle": "2025-03-29T21:28:53.165142Z",
          "shell.execute_reply": "2025-03-29T21:28:53.16367Z",
          "shell.execute_reply.started": "2025-03-29T21:28:53.138754Z"
        },
        "id": "byQ3502cK2eC",
        "outputId": "f49f18d0-79ab-4888-a92c-875931f8abe4",
        "trusted": true
      },
      "outputs": [
        {
          "data": {
            "text/plain": [
              "country code\n",
              "US    39415\n",
              "Name: count, dtype: int64"
            ]
          },
          "execution_count": 264,
          "metadata": {},
          "output_type": "execute_result"
        }
      ],
      "source": [
        "df['country code'].value_counts()"
      ]
    },
    {
      "cell_type": "code",
      "execution_count": 265,
      "metadata": {
        "colab": {
          "base_uri": "https://localhost:8080/",
          "height": 147
        },
        "execution": {
          "iopub.execute_input": "2025-03-29T21:28:53.177327Z",
          "iopub.status.busy": "2025-03-29T21:28:53.176783Z",
          "iopub.status.idle": "2025-03-29T21:28:53.196379Z",
          "shell.execute_reply": "2025-03-29T21:28:53.194831Z",
          "shell.execute_reply.started": "2025-03-29T21:28:53.177293Z"
        },
        "id": "X7ANoY-yK2eD",
        "outputId": "f66e9ac2-718b-4338-9792-e68c4d7d11d1",
        "trusted": true
      },
      "outputs": [
        {
          "data": {
            "text/plain": [
              "country\n",
              "United States    39415\n",
              "Name: count, dtype: int64"
            ]
          },
          "execution_count": 265,
          "metadata": {},
          "output_type": "execute_result"
        }
      ],
      "source": [
        "df['country'].value_counts()"
      ]
    },
    {
      "cell_type": "code",
      "execution_count": 266,
      "metadata": {
        "execution": {
          "iopub.execute_input": "2025-03-29T21:28:53.200609Z",
          "iopub.status.busy": "2025-03-29T21:28:53.200236Z",
          "iopub.status.idle": "2025-03-29T21:28:53.214411Z",
          "shell.execute_reply": "2025-03-29T21:28:53.213064Z",
          "shell.execute_reply.started": "2025-03-29T21:28:53.200538Z"
        },
        "id": "5XPA87YLK2eD",
        "trusted": true
      },
      "outputs": [],
      "source": [
        "#df['country'] = 1\n",
        "#df['country code'] = 1"
      ]
    },
    {
      "cell_type": "markdown",
      "metadata": {
        "id": "mrdN60t8K2eM"
      },
      "source": [
        "# NEIGHBOURHOOD"
      ]
    },
    {
      "cell_type": "code",
      "execution_count": 267,
      "metadata": {
        "colab": {
          "base_uri": "https://localhost:8080/",
          "height": 458
        },
        "execution": {
          "iopub.execute_input": "2025-03-29T21:28:53.278187Z",
          "iopub.status.busy": "2025-03-29T21:28:53.277773Z",
          "iopub.status.idle": "2025-03-29T21:28:53.286781Z",
          "shell.execute_reply": "2025-03-29T21:28:53.285555Z",
          "shell.execute_reply.started": "2025-03-29T21:28:53.278151Z"
        },
        "id": "NXuIHl1DK2eO",
        "outputId": "79911934-06b5-497d-a1ed-76a83a64140b",
        "trusted": true
      },
      "outputs": [
        {
          "data": {
            "text/plain": [
              "0                 Kensington\n",
              "1                    Midtown\n",
              "4                East Harlem\n",
              "5                Murray Hill\n",
              "7         Bedford-Stuyvesant\n",
              "                 ...        \n",
              "102025          East Village\n",
              "102028             Rego Park\n",
              "102029               Astoria\n",
              "102031          Williamsburg\n",
              "102040         East Elmhurst\n",
              "Name: neighbourhood, Length: 39415, dtype: object"
            ]
          },
          "execution_count": 267,
          "metadata": {},
          "output_type": "execute_result"
        }
      ],
      "source": [
        "df['neighbourhood']"
      ]
    },
    {
      "cell_type": "code",
      "execution_count": 268,
      "metadata": {
        "colab": {
          "base_uri": "https://localhost:8080/"
        },
        "execution": {
          "iopub.execute_input": "2025-03-29T21:28:53.288114Z",
          "iopub.status.busy": "2025-03-29T21:28:53.28783Z",
          "iopub.status.idle": "2025-03-29T21:28:53.314191Z",
          "shell.execute_reply": "2025-03-29T21:28:53.312895Z",
          "shell.execute_reply.started": "2025-03-29T21:28:53.288091Z"
        },
        "id": "0ZAN7Na8K2eO",
        "outputId": "f4d73703-8fab-4cea-b58e-0aa675accd18",
        "trusted": true
      },
      "outputs": [
        {
          "data": {
            "text/plain": [
              "array(['Kensington', 'Midtown', 'East Harlem', 'Murray Hill',\n",
              "       'Bedford-Stuyvesant', \"Hell's Kitchen\", 'Upper West Side',\n",
              "       'Bushwick', 'South Slope', 'Williamsburg', 'Harlem', 'Gowanus',\n",
              "       'Clinton Hill', 'East Village', 'Flatlands', 'Fort Greene',\n",
              "       'West Village', 'Prospect Heights', 'Financial District',\n",
              "       'Ridgewood', 'Park Slope', 'Flatiron District', 'Windsor Terrace',\n",
              "       'Roosevelt Island', 'Lower East Side', 'Greenpoint', 'Chinatown',\n",
              "       'Chelsea', 'Carroll Gardens', 'Inwood', 'Kingsbridge', 'Astoria',\n",
              "       'Boerum Hill', 'Washington Heights', 'Rockaway Beach',\n",
              "       'Crown Heights', 'Upper East Side', 'Woodlawn', 'Sunnyside',\n",
              "       'Gramercy', 'East New York', 'Prospect-Lefferts Gardens',\n",
              "       'Sheepshead Bay', 'Theater District', 'Emerson Hill',\n",
              "       'Long Island City', 'Fort Hamilton', 'Bensonhurst', 'Sunset Park',\n",
              "       'Concourse', 'Kips Bay', 'Brighton Beach', 'St. Albans',\n",
              "       'Arrochar', 'East Flatbush', 'Nolita', 'Wakefield',\n",
              "       'Greenwich Village', 'Cobble Hill', 'Clifton', 'Bay Ridge',\n",
              "       'Flatbush', 'Graniteville', 'Spuyten Duyvil', 'Stapleton',\n",
              "       'Briarwood', 'Columbia St', 'Mott Haven', 'Jackson Heights',\n",
              "       'Canarsie', 'Jamaica', 'Battery Park City', 'Morningside Heights',\n",
              "       'Tribeca', 'Two Bridges', 'Civic Center', 'SoHo', 'Allerton',\n",
              "       'Morris Heights', 'Woodside', 'Rego Park', 'Flushing',\n",
              "       'Brooklyn Heights', 'Arverne', 'Elmhurst', 'Tottenville',\n",
              "       'Tompkinsville', 'NoHo', 'Ditmars Steinway', 'Mariners Harbor',\n",
              "       'East Elmhurst', 'Little Italy', 'Bayside', 'Downtown Brooklyn',\n",
              "       'Fieldston', 'Kew Gardens', 'Midwood', 'College Point',\n",
              "       'Mount Eden', 'Vinegar Hill', 'DUMBO', 'City Island',\n",
              "       'Port Morris', 'Queens Village', 'Glendale', 'Cypress Hills',\n",
              "       'Red Hook', 'Maspeth', 'Port Richmond', 'Shore Acres',\n",
              "       'Williamsbridge', 'Soundview', 'Forest Hills', 'Stuyvesant Town',\n",
              "       'Parkchester', 'Dyker Heights', 'Borough Park', 'Richmond Hill',\n",
              "       'Sea Gate', 'Riverdale', 'Kew Gardens Hills', 'Ozone Park',\n",
              "       'Bay Terrace', 'Co-op City', 'Claremont Village', 'Whitestone',\n",
              "       'University Heights', 'Woodhaven', 'Concourse Village',\n",
              "       'Navy Yard', 'St. George', 'Gravesend', 'Middle Village',\n",
              "       'Brownsville', 'Eltingville', 'Longwood', 'Clason Point',\n",
              "       'Norwood', 'Lighthouse Hill', 'Belle Harbor', 'Van Nest',\n",
              "       'Bellerose', 'Fresh Meadows', 'Mount Hope', 'Eastchester',\n",
              "       'Morris Park', 'Far Rockaway', 'Tremont', 'Corona',\n",
              "       'Springfield Gardens', 'Great Kills', 'Jamaica Estates',\n",
              "       'Manhattan Beach', 'West Brighton', 'Marble Hill', 'Hunts Point',\n",
              "       'Neponsit', 'Randall Manor', 'Throgs Neck', 'Todt Hill',\n",
              "       'West Farms', 'Silver Lake', 'Highbridge', 'Howard Beach',\n",
              "       'Concord', 'Grymes Hill', 'Laurelton', 'Pelham Gardens',\n",
              "       'Rosedale', 'Pelham Bay', 'Edgemere', 'Baychester', 'Bergen Beach',\n",
              "       'Cambria Heights', 'Richmondtown', 'South Ozone Park', 'Fordham',\n",
              "       'Howland Hook', \"Prince's Bay\", 'South Beach', 'Bronxdale',\n",
              "       'Holliswood', 'Bath Beach', 'North Riverdale', 'Midland Beach',\n",
              "       'Jamaica Hills', 'Castleton Corners', 'Oakwood', 'Castle Hill',\n",
              "       'Coney Island', 'Schuylerville', 'Douglaston', 'Huguenot',\n",
              "       'Edenwald', 'Belmont', 'Dongan Hills', 'Grant City', 'Westerleigh',\n",
              "       'East Morrisania', 'Westchester Square', 'Little Neck', 'Rosebank',\n",
              "       'Unionport', 'Mill Basin', 'Hollis', 'Morrisania', 'Arden Heights',\n",
              "       \"Bull's Head\", 'Olinville', 'Bayswater', 'Rossville',\n",
              "       'Breezy Point', 'Willowbrook', 'New Brighton', 'New Dorp Beach',\n",
              "       'Melrose', 'Bay Terrace, Staten Island', 'New Springville'],\n",
              "      dtype=object)"
            ]
          },
          "execution_count": 268,
          "metadata": {},
          "output_type": "execute_result"
        }
      ],
      "source": [
        "df['neighbourhood'].unique()"
      ]
    },
    {
      "cell_type": "code",
      "execution_count": 269,
      "metadata": {
        "colab": {
          "base_uri": "https://localhost:8080/"
        },
        "execution": {
          "iopub.execute_input": "2025-03-29T21:28:53.315572Z",
          "iopub.status.busy": "2025-03-29T21:28:53.315248Z",
          "iopub.status.idle": "2025-03-29T21:28:53.333399Z",
          "shell.execute_reply": "2025-03-29T21:28:53.331976Z",
          "shell.execute_reply.started": "2025-03-29T21:28:53.315546Z"
        },
        "id": "rTP1yI66K2eP",
        "outputId": "353d053d-d82e-4b76-da7f-f917e3a60ca6",
        "trusted": true
      },
      "outputs": [],
      "source": [
        "#df['neighbourhood'].isna().sum()"
      ]
    },
    {
      "cell_type": "code",
      "execution_count": 270,
      "metadata": {
        "execution": {
          "iopub.execute_input": "2025-03-29T21:28:53.335034Z",
          "iopub.status.busy": "2025-03-29T21:28:53.334568Z",
          "iopub.status.idle": "2025-03-29T21:28:53.350469Z",
          "shell.execute_reply": "2025-03-29T21:28:53.349211Z",
          "shell.execute_reply.started": "2025-03-29T21:28:53.335001Z"
        },
        "id": "Y8KCgbOiK2eQ",
        "trusted": true
      },
      "outputs": [],
      "source": [
        "from sklearn.preprocessing import LabelEncoder\n",
        "\n",
        "#label = LabelEncoder()"
      ]
    },
    {
      "cell_type": "code",
      "execution_count": 271,
      "metadata": {
        "colab": {
          "base_uri": "https://localhost:8080/"
        },
        "execution": {
          "iopub.execute_input": "2025-03-29T21:28:53.35252Z",
          "iopub.status.busy": "2025-03-29T21:28:53.352139Z",
          "iopub.status.idle": "2025-03-29T21:28:53.395283Z",
          "shell.execute_reply": "2025-03-29T21:28:53.394008Z",
          "shell.execute_reply.started": "2025-03-29T21:28:53.35249Z"
        },
        "id": "fu31RxioK2eQ",
        "outputId": "3c8c3f67-ebff-4fee-9ac1-a81f339e8f59",
        "trusted": true
      },
      "outputs": [],
      "source": [
        "#encoded = label.fit_transform(df[['NEIGHBOURHOOD']])"
      ]
    },
    {
      "cell_type": "code",
      "execution_count": 272,
      "metadata": {
        "colab": {
          "base_uri": "https://localhost:8080/"
        },
        "execution": {
          "iopub.execute_input": "2025-03-29T21:28:53.396786Z",
          "iopub.status.busy": "2025-03-29T21:28:53.396375Z",
          "iopub.status.idle": "2025-03-29T21:28:53.403886Z",
          "shell.execute_reply": "2025-03-29T21:28:53.402737Z",
          "shell.execute_reply.started": "2025-03-29T21:28:53.396749Z"
        },
        "id": "eTtOuYFwK2eQ",
        "outputId": "09282de5-380c-43e7-ce84-670228935f1f",
        "trusted": true
      },
      "outputs": [],
      "source": [
        "#encoded"
      ]
    },
    {
      "cell_type": "code",
      "execution_count": 273,
      "metadata": {
        "execution": {
          "iopub.execute_input": "2025-03-29T21:28:53.405447Z",
          "iopub.status.busy": "2025-03-29T21:28:53.40504Z",
          "iopub.status.idle": "2025-03-29T21:28:53.421833Z",
          "shell.execute_reply": "2025-03-29T21:28:53.420575Z",
          "shell.execute_reply.started": "2025-03-29T21:28:53.405416Z"
        },
        "id": "HSPtoj9EK2eR",
        "trusted": true
      },
      "outputs": [
        {
          "data": {
            "text/plain": [
              "\"df_neighbourhood = pd.DataFrame({\\n    'NEIGHBOURHOOD_ENCODED' : encoded\\n})\""
            ]
          },
          "execution_count": 273,
          "metadata": {},
          "output_type": "execute_result"
        }
      ],
      "source": [
        "'''df_neighbourhood = pd.DataFrame({\n",
        "    'NEIGHBOURHOOD_ENCODED' : encoded\n",
        "})'''"
      ]
    },
    {
      "cell_type": "code",
      "execution_count": 274,
      "metadata": {
        "colab": {
          "base_uri": "https://localhost:8080/",
          "height": 424
        },
        "execution": {
          "iopub.execute_input": "2025-03-29T21:28:53.423106Z",
          "iopub.status.busy": "2025-03-29T21:28:53.422784Z",
          "iopub.status.idle": "2025-03-29T21:28:53.446334Z",
          "shell.execute_reply": "2025-03-29T21:28:53.445021Z",
          "shell.execute_reply.started": "2025-03-29T21:28:53.423079Z"
        },
        "id": "rGE7-IDoK2eR",
        "outputId": "6aac7e61-1bf7-4194-9801-f3c778e0d98f",
        "trusted": true
      },
      "outputs": [],
      "source": [
        "#df_neighbourhood"
      ]
    },
    {
      "cell_type": "code",
      "execution_count": 275,
      "metadata": {
        "execution": {
          "iopub.execute_input": "2025-03-29T21:28:53.447371Z",
          "iopub.status.busy": "2025-03-29T21:28:53.447124Z",
          "iopub.status.idle": "2025-03-29T21:28:53.490614Z",
          "shell.execute_reply": "2025-03-29T21:28:53.489457Z",
          "shell.execute_reply.started": "2025-03-29T21:28:53.447349Z"
        },
        "id": "e0gCIl5lK2eS",
        "trusted": true
      },
      "outputs": [],
      "source": [
        "#df = pd.concat([df,df_neighbourhood],axis=1)"
      ]
    },
    {
      "cell_type": "code",
      "execution_count": 276,
      "metadata": {
        "execution": {
          "iopub.execute_input": "2025-03-29T21:28:53.492234Z",
          "iopub.status.busy": "2025-03-29T21:28:53.491968Z",
          "iopub.status.idle": "2025-03-29T21:28:53.513372Z",
          "shell.execute_reply": "2025-03-29T21:28:53.51223Z",
          "shell.execute_reply.started": "2025-03-29T21:28:53.492211Z"
        },
        "id": "66yQP2sYK2eS",
        "trusted": true
      },
      "outputs": [],
      "source": [
        "#df.drop(columns=['NEIGHBOURHOOD'],inplace=True)"
      ]
    },
    {
      "cell_type": "code",
      "execution_count": 277,
      "metadata": {
        "execution": {
          "iopub.execute_input": "2025-03-29T21:28:53.5147Z",
          "iopub.status.busy": "2025-03-29T21:28:53.514405Z",
          "iopub.status.idle": "2025-03-29T21:28:53.559899Z",
          "shell.execute_reply": "2025-03-29T21:28:53.558906Z",
          "shell.execute_reply.started": "2025-03-29T21:28:53.514662Z"
        },
        "id": "9UtNs9ZgK2eT",
        "trusted": true
      },
      "outputs": [],
      "source": [
        "#df.dropna(inplace=True)"
      ]
    },
    {
      "cell_type": "code",
      "execution_count": 278,
      "metadata": {
        "colab": {
          "base_uri": "https://localhost:8080/"
        },
        "execution": {
          "iopub.execute_input": "2025-03-29T21:28:53.561168Z",
          "iopub.status.busy": "2025-03-29T21:28:53.560914Z",
          "iopub.status.idle": "2025-03-29T21:28:53.605453Z",
          "shell.execute_reply": "2025-03-29T21:28:53.603987Z",
          "shell.execute_reply.started": "2025-03-29T21:28:53.561147Z"
        },
        "id": "o9hD0lEFK2eU",
        "outputId": "335911f0-3a89-4cd6-a484-d88d7cb828ef",
        "trusted": true
      },
      "outputs": [],
      "source": [
        "#df.info()"
      ]
    },
    {
      "cell_type": "markdown",
      "metadata": {
        "id": "Ils4Y291K2eU"
      },
      "source": [
        "# NEIGHBOURHOOD GROUP"
      ]
    },
    {
      "cell_type": "code",
      "execution_count": 279,
      "metadata": {
        "colab": {
          "base_uri": "https://localhost:8080/",
          "height": 458
        },
        "execution": {
          "iopub.execute_input": "2025-03-29T21:28:53.606828Z",
          "iopub.status.busy": "2025-03-29T21:28:53.606539Z",
          "iopub.status.idle": "2025-03-29T21:28:53.614808Z",
          "shell.execute_reply": "2025-03-29T21:28:53.613367Z",
          "shell.execute_reply.started": "2025-03-29T21:28:53.606804Z"
        },
        "id": "SrBnBn5uK2eU",
        "outputId": "912106c6-66bf-4055-8885-7f215eb5c271",
        "trusted": true
      },
      "outputs": [
        {
          "data": {
            "text/plain": [
              "0          Brooklyn\n",
              "1         Manhattan\n",
              "4         Manhattan\n",
              "5         Manhattan\n",
              "7          Brooklyn\n",
              "            ...    \n",
              "102025    Manhattan\n",
              "102028       Queens\n",
              "102029       Queens\n",
              "102031     Brooklyn\n",
              "102040       Queens\n",
              "Name: neighbourhood group, Length: 39415, dtype: object"
            ]
          },
          "execution_count": 279,
          "metadata": {},
          "output_type": "execute_result"
        }
      ],
      "source": [
        "df['neighbourhood group']"
      ]
    },
    {
      "cell_type": "code",
      "execution_count": 280,
      "metadata": {
        "colab": {
          "base_uri": "https://localhost:8080/"
        },
        "execution": {
          "iopub.execute_input": "2025-03-29T21:28:53.616772Z",
          "iopub.status.busy": "2025-03-29T21:28:53.616327Z",
          "iopub.status.idle": "2025-03-29T21:28:53.641047Z",
          "shell.execute_reply": "2025-03-29T21:28:53.639886Z",
          "shell.execute_reply.started": "2025-03-29T21:28:53.616724Z"
        },
        "id": "Xn9v6KusK2ea",
        "outputId": "1f332da3-de79-421d-a048-856cb4245284",
        "trusted": true
      },
      "outputs": [
        {
          "data": {
            "text/plain": [
              "0"
            ]
          },
          "execution_count": 280,
          "metadata": {},
          "output_type": "execute_result"
        }
      ],
      "source": [
        "df['neighbourhood group'].isna().sum()"
      ]
    },
    {
      "cell_type": "code",
      "execution_count": 281,
      "metadata": {
        "colab": {
          "base_uri": "https://localhost:8080/"
        },
        "execution": {
          "iopub.execute_input": "2025-03-29T21:28:53.64247Z",
          "iopub.status.busy": "2025-03-29T21:28:53.642156Z",
          "iopub.status.idle": "2025-03-29T21:28:53.66212Z",
          "shell.execute_reply": "2025-03-29T21:28:53.661019Z",
          "shell.execute_reply.started": "2025-03-29T21:28:53.642445Z"
        },
        "id": "MNNfIB0mK2ea",
        "outputId": "a1bc4161-9d75-4dfe-eb2b-69034094fa51",
        "trusted": true
      },
      "outputs": [
        {
          "data": {
            "text/plain": [
              "array(['Brooklyn', 'Manhattan', 'Queens', 'Bronx', 'Staten Island'],\n",
              "      dtype=object)"
            ]
          },
          "execution_count": 281,
          "metadata": {},
          "output_type": "execute_result"
        }
      ],
      "source": [
        "df['neighbourhood group'].unique()"
      ]
    },
    {
      "cell_type": "code",
      "execution_count": 282,
      "metadata": {
        "colab": {
          "base_uri": "https://localhost:8080/"
        },
        "execution": {
          "iopub.execute_input": "2025-03-29T21:28:53.66352Z",
          "iopub.status.busy": "2025-03-29T21:28:53.663197Z",
          "iopub.status.idle": "2025-03-29T21:28:53.697731Z",
          "shell.execute_reply": "2025-03-29T21:28:53.696231Z",
          "shell.execute_reply.started": "2025-03-29T21:28:53.663481Z"
        },
        "id": "mRgw4aqPK2ec",
        "outputId": "48e0412c-7923-45a6-c969-5d8835573355",
        "trusted": true
      },
      "outputs": [],
      "source": [
        "#encoded = label.fit_transform(df[['NEIGHBOURHOOD GROUP']])"
      ]
    },
    {
      "cell_type": "code",
      "execution_count": 283,
      "metadata": {
        "colab": {
          "base_uri": "https://localhost:8080/"
        },
        "execution": {
          "iopub.execute_input": "2025-03-29T21:28:53.699075Z",
          "iopub.status.busy": "2025-03-29T21:28:53.698765Z",
          "iopub.status.idle": "2025-03-29T21:28:53.706189Z",
          "shell.execute_reply": "2025-03-29T21:28:53.704838Z",
          "shell.execute_reply.started": "2025-03-29T21:28:53.699047Z"
        },
        "id": "vfFhrduwK2ee",
        "outputId": "a6d4c7ac-31bd-4650-947b-4ad00bc96379",
        "trusted": true
      },
      "outputs": [],
      "source": [
        "#encoded"
      ]
    },
    {
      "cell_type": "code",
      "execution_count": 284,
      "metadata": {
        "execution": {
          "iopub.execute_input": "2025-03-29T21:28:53.707886Z",
          "iopub.status.busy": "2025-03-29T21:28:53.707429Z",
          "iopub.status.idle": "2025-03-29T21:28:53.723669Z",
          "shell.execute_reply": "2025-03-29T21:28:53.722305Z",
          "shell.execute_reply.started": "2025-03-29T21:28:53.707842Z"
        },
        "id": "57QEY5a3K2ef",
        "trusted": true
      },
      "outputs": [
        {
          "data": {
            "text/plain": [
              "\" = pd.DataFrame({\\n    'NEIGHBOURHOOD GROUP_ENCODED' : encoded\\n})\""
            ]
          },
          "execution_count": 284,
          "metadata": {},
          "output_type": "execute_result"
        }
      ],
      "source": [
        "''' = pd.DataFrame({\n",
        "    'NEIGHBOURHOOD GROUP_ENCODED' : encoded\n",
        "})'''"
      ]
    },
    {
      "cell_type": "code",
      "execution_count": 285,
      "metadata": {
        "colab": {
          "base_uri": "https://localhost:8080/",
          "height": 424
        },
        "execution": {
          "iopub.execute_input": "2025-03-29T21:28:53.725255Z",
          "iopub.status.busy": "2025-03-29T21:28:53.724866Z",
          "iopub.status.idle": "2025-03-29T21:28:53.747515Z",
          "shell.execute_reply": "2025-03-29T21:28:53.746461Z",
          "shell.execute_reply.started": "2025-03-29T21:28:53.725214Z"
        },
        "id": "7eMw1JutK2eg",
        "outputId": "6f1a3d20-2482-4d77-f0ed-bf3b49aad324",
        "trusted": true
      },
      "outputs": [],
      "source": [
        "#df_neighbourhood_group"
      ]
    },
    {
      "cell_type": "code",
      "execution_count": 286,
      "metadata": {
        "execution": {
          "iopub.execute_input": "2025-03-29T21:28:53.748879Z",
          "iopub.status.busy": "2025-03-29T21:28:53.748571Z",
          "iopub.status.idle": "2025-03-29T21:28:53.786548Z",
          "shell.execute_reply": "2025-03-29T21:28:53.785547Z",
          "shell.execute_reply.started": "2025-03-29T21:28:53.748853Z"
        },
        "id": "IbwuA6mEK2eg",
        "trusted": true
      },
      "outputs": [],
      "source": [
        "#df = pd.concat([df,df_neighbourhood_group],axis=1)"
      ]
    },
    {
      "cell_type": "code",
      "execution_count": 287,
      "metadata": {
        "execution": {
          "iopub.execute_input": "2025-03-29T21:28:53.787915Z",
          "iopub.status.busy": "2025-03-29T21:28:53.787609Z",
          "iopub.status.idle": "2025-03-29T21:28:53.804798Z",
          "shell.execute_reply": "2025-03-29T21:28:53.803715Z",
          "shell.execute_reply.started": "2025-03-29T21:28:53.787891Z"
        },
        "id": "4VecrT4FK2eh",
        "trusted": true
      },
      "outputs": [],
      "source": [
        "#df.drop(columns=['NEIGHBOURHOOD GROUP'],inplace=True)"
      ]
    },
    {
      "cell_type": "code",
      "execution_count": 288,
      "metadata": {
        "execution": {
          "iopub.execute_input": "2025-03-29T21:28:53.80738Z",
          "iopub.status.busy": "2025-03-29T21:28:53.806558Z",
          "iopub.status.idle": "2025-03-29T21:28:53.8477Z",
          "shell.execute_reply": "2025-03-29T21:28:53.846564Z",
          "shell.execute_reply.started": "2025-03-29T21:28:53.807325Z"
        },
        "id": "ZmuZAFN8K2ei",
        "trusted": true
      },
      "outputs": [],
      "source": [
        "#df.dropna(inplace=True)"
      ]
    },
    {
      "cell_type": "code",
      "execution_count": 289,
      "metadata": {
        "colab": {
          "base_uri": "https://localhost:8080/"
        },
        "execution": {
          "iopub.execute_input": "2025-03-29T21:28:53.849178Z",
          "iopub.status.busy": "2025-03-29T21:28:53.848852Z",
          "iopub.status.idle": "2025-03-29T21:28:53.889845Z",
          "shell.execute_reply": "2025-03-29T21:28:53.888713Z",
          "shell.execute_reply.started": "2025-03-29T21:28:53.849152Z"
        },
        "id": "5aXm-rS0K2ei",
        "outputId": "0e8b3541-90d8-4528-9265-16dd56143aaa",
        "trusted": true
      },
      "outputs": [],
      "source": [
        "#df.info()"
      ]
    },
    {
      "cell_type": "code",
      "execution_count": 290,
      "metadata": {
        "colab": {
          "base_uri": "https://localhost:8080/",
          "height": 458
        },
        "execution": {
          "iopub.execute_input": "2025-03-29T21:28:53.891019Z",
          "iopub.status.busy": "2025-03-29T21:28:53.890777Z",
          "iopub.status.idle": "2025-03-29T21:28:53.899232Z",
          "shell.execute_reply": "2025-03-29T21:28:53.898124Z",
          "shell.execute_reply.started": "2025-03-29T21:28:53.890997Z"
        },
        "id": "GrugLMgoK2ej",
        "outputId": "ec0f8a17-3843-481a-8e2a-ac47c0b56679",
        "trusted": true
      },
      "outputs": [
        {
          "data": {
            "text/plain": [
              "0         Madaline\n",
              "1            Jenna\n",
              "4           Lyndon\n",
              "5         Michelle\n",
              "7             Emma\n",
              "            ...   \n",
              "102025        Luna\n",
              "102028      Arthur\n",
              "102029    Cristina\n",
              "102031     Russell\n",
              "102040       Sonia\n",
              "Name: host name, Length: 39415, dtype: object"
            ]
          },
          "execution_count": 290,
          "metadata": {},
          "output_type": "execute_result"
        }
      ],
      "source": [
        "df['host name']"
      ]
    },
    {
      "cell_type": "code",
      "execution_count": 291,
      "metadata": {
        "colab": {
          "base_uri": "https://localhost:8080/"
        },
        "execution": {
          "iopub.execute_input": "2025-03-29T21:28:53.90081Z",
          "iopub.status.busy": "2025-03-29T21:28:53.900384Z",
          "iopub.status.idle": "2025-03-29T21:28:53.926314Z",
          "shell.execute_reply": "2025-03-29T21:28:53.925017Z",
          "shell.execute_reply.started": "2025-03-29T21:28:53.900773Z"
        },
        "id": "JutIQ2kBK2ek",
        "outputId": "0082d7dc-8177-4c79-fe34-a4c1dc65b67d",
        "trusted": true
      },
      "outputs": [
        {
          "data": {
            "text/plain": [
              "array(['Madaline', 'Jenna', 'Lyndon', ..., 'Minh', 'Dier', 'Apostle John'],\n",
              "      dtype=object)"
            ]
          },
          "execution_count": 291,
          "metadata": {},
          "output_type": "execute_result"
        }
      ],
      "source": [
        "df['host name'].unique()"
      ]
    },
    {
      "cell_type": "code",
      "execution_count": 292,
      "metadata": {
        "colab": {
          "base_uri": "https://localhost:8080/"
        },
        "execution": {
          "iopub.execute_input": "2025-03-29T21:28:53.928008Z",
          "iopub.status.busy": "2025-03-29T21:28:53.927546Z",
          "iopub.status.idle": "2025-03-29T21:28:53.992262Z",
          "shell.execute_reply": "2025-03-29T21:28:53.991057Z",
          "shell.execute_reply.started": "2025-03-29T21:28:53.92798Z"
        },
        "id": "-byzFvrjK2el",
        "outputId": "23361d6c-130d-4af2-c778-c6e73c782c91",
        "trusted": true
      },
      "outputs": [],
      "source": [
        "#encoded = label.fit_transform(df[['HOST NAME']])"
      ]
    },
    {
      "cell_type": "code",
      "execution_count": 293,
      "metadata": {
        "colab": {
          "base_uri": "https://localhost:8080/"
        },
        "execution": {
          "iopub.execute_input": "2025-03-29T21:28:53.993284Z",
          "iopub.status.busy": "2025-03-29T21:28:53.993037Z",
          "iopub.status.idle": "2025-03-29T21:28:54.000165Z",
          "shell.execute_reply": "2025-03-29T21:28:53.999072Z",
          "shell.execute_reply.started": "2025-03-29T21:28:53.993262Z"
        },
        "id": "grFBOLYaK2el",
        "outputId": "5a4e3160-1b6f-485b-b01f-5d6e5b926672",
        "trusted": true
      },
      "outputs": [],
      "source": [
        "#encoded"
      ]
    },
    {
      "cell_type": "code",
      "execution_count": 294,
      "metadata": {
        "execution": {
          "iopub.execute_input": "2025-03-29T21:28:54.00184Z",
          "iopub.status.busy": "2025-03-29T21:28:54.001431Z",
          "iopub.status.idle": "2025-03-29T21:28:54.017321Z",
          "shell.execute_reply": "2025-03-29T21:28:54.01619Z",
          "shell.execute_reply.started": "2025-03-29T21:28:54.001807Z"
        },
        "id": "7ELP2tEVK2ep",
        "trusted": true
      },
      "outputs": [],
      "source": [
        "#df_hostname = pd.DataFrame({\n",
        "#})"
      ]
    },
    {
      "cell_type": "code",
      "execution_count": 295,
      "metadata": {
        "colab": {
          "base_uri": "https://localhost:8080/",
          "height": 424
        },
        "execution": {
          "iopub.execute_input": "2025-03-29T21:28:54.019036Z",
          "iopub.status.busy": "2025-03-29T21:28:54.018741Z",
          "iopub.status.idle": "2025-03-29T21:28:54.043262Z",
          "shell.execute_reply": "2025-03-29T21:28:54.041943Z",
          "shell.execute_reply.started": "2025-03-29T21:28:54.019012Z"
        },
        "id": "g8cm075RK2eq",
        "outputId": "d894e264-0e9c-41aa-a576-48e08f5054d3",
        "trusted": true
      },
      "outputs": [],
      "source": [
        "#df_hostname"
      ]
    },
    {
      "cell_type": "code",
      "execution_count": 296,
      "metadata": {
        "execution": {
          "iopub.execute_input": "2025-03-29T21:28:54.044824Z",
          "iopub.status.busy": "2025-03-29T21:28:54.044474Z",
          "iopub.status.idle": "2025-03-29T21:28:54.083902Z",
          "shell.execute_reply": "2025-03-29T21:28:54.082763Z",
          "shell.execute_reply.started": "2025-03-29T21:28:54.044784Z"
        },
        "id": "uJTQkvspK2er",
        "trusted": true
      },
      "outputs": [],
      "source": [
        "#df = pd.concat([df,df_hostname],axis=1)"
      ]
    },
    {
      "cell_type": "code",
      "execution_count": 297,
      "metadata": {
        "execution": {
          "iopub.execute_input": "2025-03-29T21:28:54.085287Z",
          "iopub.status.busy": "2025-03-29T21:28:54.085038Z",
          "iopub.status.idle": "2025-03-29T21:28:54.103688Z",
          "shell.execute_reply": "2025-03-29T21:28:54.102511Z",
          "shell.execute_reply.started": "2025-03-29T21:28:54.085264Z"
        },
        "id": "6_HtHefOK2er",
        "trusted": true
      },
      "outputs": [],
      "source": [
        "#df.drop(columns=['HOST NAME'],inplace=True)"
      ]
    },
    {
      "cell_type": "code",
      "execution_count": 298,
      "metadata": {
        "execution": {
          "iopub.execute_input": "2025-03-29T21:28:54.105118Z",
          "iopub.status.busy": "2025-03-29T21:28:54.10481Z",
          "iopub.status.idle": "2025-03-29T21:28:54.140145Z",
          "shell.execute_reply": "2025-03-29T21:28:54.139026Z",
          "shell.execute_reply.started": "2025-03-29T21:28:54.105084Z"
        },
        "id": "QZMt9cqNK2er",
        "trusted": true
      },
      "outputs": [],
      "source": [
        "#df.dropna(inplace=True)"
      ]
    },
    {
      "cell_type": "code",
      "execution_count": 299,
      "metadata": {
        "colab": {
          "base_uri": "https://localhost:8080/",
          "height": 446
        },
        "execution": {
          "iopub.execute_input": "2025-03-29T21:28:54.141564Z",
          "iopub.status.busy": "2025-03-29T21:28:54.141286Z",
          "iopub.status.idle": "2025-03-29T21:28:54.172982Z",
          "shell.execute_reply": "2025-03-29T21:28:54.171704Z",
          "shell.execute_reply.started": "2025-03-29T21:28:54.14154Z"
        },
        "id": "ucHqLDoXK2et",
        "outputId": "a43d4506-945f-45c0-d9de-6b54c574adc7",
        "trusted": true
      },
      "outputs": [],
      "source": [
        "#df.head()"
      ]
    },
    {
      "cell_type": "code",
      "execution_count": 300,
      "metadata": {
        "colab": {
          "base_uri": "https://localhost:8080/"
        },
        "execution": {
          "iopub.execute_input": "2025-03-29T21:28:54.174373Z",
          "iopub.status.busy": "2025-03-29T21:28:54.174088Z",
          "iopub.status.idle": "2025-03-29T21:28:54.208165Z",
          "shell.execute_reply": "2025-03-29T21:28:54.206953Z",
          "shell.execute_reply.started": "2025-03-29T21:28:54.174349Z"
        },
        "id": "DD26SAReK2ev",
        "outputId": "f77ae275-3f9e-4799-8095-154d454c4117",
        "trusted": true
      },
      "outputs": [
        {
          "name": "stdout",
          "output_type": "stream",
          "text": [
            "<class 'pandas.core.frame.DataFrame'>\n",
            "Index: 39415 entries, 0 to 102040\n",
            "Data columns (total 25 columns):\n",
            " #   Column                          Non-Null Count  Dtype  \n",
            "---  ------                          --------------  -----  \n",
            " 0   id                              39415 non-null  int64  \n",
            " 1   NAME                            39415 non-null  object \n",
            " 2   host id                         39415 non-null  int64  \n",
            " 3   host_identity_verified          39415 non-null  object \n",
            " 4   host name                       39415 non-null  object \n",
            " 5   neighbourhood group             39415 non-null  object \n",
            " 6   neighbourhood                   39415 non-null  object \n",
            " 7   lat                             39415 non-null  float64\n",
            " 8   long                            39415 non-null  float64\n",
            " 9   country                         39415 non-null  object \n",
            " 10  country code                    39415 non-null  object \n",
            " 11  instant_bookable                39415 non-null  object \n",
            " 12  cancellation_policy             39415 non-null  object \n",
            " 13  room type                       39415 non-null  object \n",
            " 14  Construction year               39415 non-null  float64\n",
            " 15  price                           39415 non-null  object \n",
            " 16  service fee                     39415 non-null  object \n",
            " 17  minimum nights                  39415 non-null  float64\n",
            " 18  number of reviews               39415 non-null  float64\n",
            " 19  last review                     39415 non-null  object \n",
            " 20  reviews per month               39415 non-null  float64\n",
            " 21  review rate number              39415 non-null  float64\n",
            " 22  calculated host listings count  39415 non-null  float64\n",
            " 23  availability 365                39415 non-null  float64\n",
            " 24  house_rules                     39415 non-null  object \n",
            "dtypes: float64(9), int64(2), object(14)\n",
            "memory usage: 7.8+ MB\n"
          ]
        }
      ],
      "source": [
        "df.info()"
      ]
    },
    {
      "cell_type": "markdown",
      "metadata": {
        "id": "BCD138trK2ew"
      },
      "source": [
        "# HOST_IDENTITY_VERIFIED"
      ]
    },
    {
      "cell_type": "code",
      "execution_count": 301,
      "metadata": {
        "colab": {
          "base_uri": "https://localhost:8080/",
          "height": 458
        },
        "execution": {
          "iopub.execute_input": "2025-03-29T21:28:54.209723Z",
          "iopub.status.busy": "2025-03-29T21:28:54.209397Z",
          "iopub.status.idle": "2025-03-29T21:28:54.218227Z",
          "shell.execute_reply": "2025-03-29T21:28:54.216994Z",
          "shell.execute_reply.started": "2025-03-29T21:28:54.209691Z"
        },
        "id": "TgxXQwFhK2ex",
        "outputId": "81c664ea-1eb1-4be5-eb04-d9f406d51f6c",
        "trusted": true
      },
      "outputs": [
        {
          "data": {
            "text/plain": [
              "0         unconfirmed\n",
              "1            verified\n",
              "4            verified\n",
              "5            verified\n",
              "7         unconfirmed\n",
              "             ...     \n",
              "102025       verified\n",
              "102028    unconfirmed\n",
              "102029    unconfirmed\n",
              "102031       verified\n",
              "102040       verified\n",
              "Name: host_identity_verified, Length: 39415, dtype: object"
            ]
          },
          "execution_count": 301,
          "metadata": {},
          "output_type": "execute_result"
        }
      ],
      "source": [
        "df['host_identity_verified']"
      ]
    },
    {
      "cell_type": "code",
      "execution_count": 302,
      "metadata": {
        "colab": {
          "base_uri": "https://localhost:8080/"
        },
        "execution": {
          "iopub.execute_input": "2025-03-29T21:28:54.219959Z",
          "iopub.status.busy": "2025-03-29T21:28:54.219455Z",
          "iopub.status.idle": "2025-03-29T21:28:54.244257Z",
          "shell.execute_reply": "2025-03-29T21:28:54.243028Z",
          "shell.execute_reply.started": "2025-03-29T21:28:54.219927Z"
        },
        "id": "efsCOH9uK2ey",
        "outputId": "8e46299c-2124-4d56-dad8-46b5675c11b3",
        "trusted": true
      },
      "outputs": [
        {
          "data": {
            "text/plain": [
              "array(['unconfirmed', 'verified'], dtype=object)"
            ]
          },
          "execution_count": 302,
          "metadata": {},
          "output_type": "execute_result"
        }
      ],
      "source": [
        "df['host_identity_verified'].unique()"
      ]
    },
    {
      "cell_type": "code",
      "execution_count": 303,
      "metadata": {
        "colab": {
          "base_uri": "https://localhost:8080/"
        },
        "execution": {
          "iopub.execute_input": "2025-03-29T21:28:54.24613Z",
          "iopub.status.busy": "2025-03-29T21:28:54.245769Z",
          "iopub.status.idle": "2025-03-29T21:28:54.266555Z",
          "shell.execute_reply": "2025-03-29T21:28:54.265141Z",
          "shell.execute_reply.started": "2025-03-29T21:28:54.246101Z"
        },
        "id": "-45lpBk9K2ez",
        "outputId": "b96fb124-fc43-4353-d676-69e7a497490e",
        "trusted": true
      },
      "outputs": [],
      "source": [
        "#df['host_identity_verified'].isna().sum()"
      ]
    },
    {
      "cell_type": "code",
      "execution_count": 304,
      "metadata": {
        "execution": {
          "iopub.execute_input": "2025-03-29T21:28:54.268303Z",
          "iopub.status.busy": "2025-03-29T21:28:54.268001Z",
          "iopub.status.idle": "2025-03-29T21:28:54.319321Z",
          "shell.execute_reply": "2025-03-29T21:28:54.317997Z",
          "shell.execute_reply.started": "2025-03-29T21:28:54.268263Z"
        },
        "id": "z3_4w1BnK2ez",
        "trusted": true
      },
      "outputs": [],
      "source": [
        "#df['host_identity_verified'] = df['host_identity_verified'].apply(lambda x:1 if x=='verified' else 0)"
      ]
    },
    {
      "cell_type": "code",
      "execution_count": 305,
      "metadata": {
        "colab": {
          "base_uri": "https://localhost:8080/",
          "height": 178
        },
        "execution": {
          "iopub.execute_input": "2025-03-29T21:28:54.321073Z",
          "iopub.status.busy": "2025-03-29T21:28:54.320638Z",
          "iopub.status.idle": "2025-03-29T21:28:54.332991Z",
          "shell.execute_reply": "2025-03-29T21:28:54.331774Z",
          "shell.execute_reply.started": "2025-03-29T21:28:54.321032Z"
        },
        "id": "u7jFVwGPK2e0",
        "outputId": "3ba547b5-ca31-4154-f612-4f8c5641d1db",
        "trusted": true
      },
      "outputs": [
        {
          "data": {
            "text/plain": [
              "host_identity_verified\n",
              "verified       19833\n",
              "unconfirmed    19582\n",
              "Name: count, dtype: int64"
            ]
          },
          "execution_count": 305,
          "metadata": {},
          "output_type": "execute_result"
        }
      ],
      "source": [
        "df['host_identity_verified'].value_counts()"
      ]
    },
    {
      "cell_type": "code",
      "execution_count": 306,
      "metadata": {
        "colab": {
          "base_uri": "https://localhost:8080/"
        },
        "execution": {
          "iopub.execute_input": "2025-03-29T21:28:54.334575Z",
          "iopub.status.busy": "2025-03-29T21:28:54.334155Z",
          "iopub.status.idle": "2025-03-29T21:28:54.37703Z",
          "shell.execute_reply": "2025-03-29T21:28:54.375662Z",
          "shell.execute_reply.started": "2025-03-29T21:28:54.334537Z"
        },
        "id": "RBXM_5SHK2e0",
        "outputId": "f88eecb9-de8f-4473-f3e2-5fa8fc702763",
        "trusted": true
      },
      "outputs": [
        {
          "name": "stdout",
          "output_type": "stream",
          "text": [
            "<class 'pandas.core.frame.DataFrame'>\n",
            "Index: 39415 entries, 0 to 102040\n",
            "Data columns (total 25 columns):\n",
            " #   Column                          Non-Null Count  Dtype  \n",
            "---  ------                          --------------  -----  \n",
            " 0   id                              39415 non-null  int64  \n",
            " 1   NAME                            39415 non-null  object \n",
            " 2   host id                         39415 non-null  int64  \n",
            " 3   host_identity_verified          39415 non-null  object \n",
            " 4   host name                       39415 non-null  object \n",
            " 5   neighbourhood group             39415 non-null  object \n",
            " 6   neighbourhood                   39415 non-null  object \n",
            " 7   lat                             39415 non-null  float64\n",
            " 8   long                            39415 non-null  float64\n",
            " 9   country                         39415 non-null  object \n",
            " 10  country code                    39415 non-null  object \n",
            " 11  instant_bookable                39415 non-null  object \n",
            " 12  cancellation_policy             39415 non-null  object \n",
            " 13  room type                       39415 non-null  object \n",
            " 14  Construction year               39415 non-null  float64\n",
            " 15  price                           39415 non-null  object \n",
            " 16  service fee                     39415 non-null  object \n",
            " 17  minimum nights                  39415 non-null  float64\n",
            " 18  number of reviews               39415 non-null  float64\n",
            " 19  last review                     39415 non-null  object \n",
            " 20  reviews per month               39415 non-null  float64\n",
            " 21  review rate number              39415 non-null  float64\n",
            " 22  calculated host listings count  39415 non-null  float64\n",
            " 23  availability 365                39415 non-null  float64\n",
            " 24  house_rules                     39415 non-null  object \n",
            "dtypes: float64(9), int64(2), object(14)\n",
            "memory usage: 7.8+ MB\n"
          ]
        }
      ],
      "source": [
        "df.info()"
      ]
    },
    {
      "cell_type": "markdown",
      "metadata": {
        "id": "E5vAv42tK2e1"
      },
      "source": [
        "# NAME"
      ]
    },
    {
      "cell_type": "code",
      "execution_count": 307,
      "metadata": {
        "colab": {
          "base_uri": "https://localhost:8080/",
          "height": 458
        },
        "execution": {
          "iopub.execute_input": "2025-03-29T21:28:54.378323Z",
          "iopub.status.busy": "2025-03-29T21:28:54.378035Z",
          "iopub.status.idle": "2025-03-29T21:28:54.386809Z",
          "shell.execute_reply": "2025-03-29T21:28:54.385593Z",
          "shell.execute_reply.started": "2025-03-29T21:28:54.378297Z"
        },
        "id": "S7wAszIhK2e1",
        "outputId": "b18b96e6-fbec-4066-97c1-880d2d02089d",
        "trusted": true
      },
      "outputs": [
        {
          "data": {
            "text/plain": [
              "0                        Clean & quiet apt home by the park\n",
              "1                                     Skylit Midtown Castle\n",
              "4          Entire Apt: Spacious Studio/Loft by central park\n",
              "5                 Large Cozy 1 BR Apartment In Midtown East\n",
              "7                                           BlissArtsSpace!\n",
              "                                ...                        \n",
              "102025         COZY Large Private APARTMENT in EAST VILLAGE\n",
              "102028    Gorgeous condo 20min from NYC,close to the air...\n",
              "102029               Cozy room in a 2B with backyard access\n",
              "102031                         Cozy bedroom in williamsburg\n",
              "102040                        Room in Queens, NY, near LGA.\n",
              "Name: NAME, Length: 39415, dtype: object"
            ]
          },
          "execution_count": 307,
          "metadata": {},
          "output_type": "execute_result"
        }
      ],
      "source": [
        "df['NAME']"
      ]
    },
    {
      "cell_type": "code",
      "execution_count": 308,
      "metadata": {
        "colab": {
          "base_uri": "https://localhost:8080/"
        },
        "execution": {
          "iopub.execute_input": "2025-03-29T21:28:54.388334Z",
          "iopub.status.busy": "2025-03-29T21:28:54.387964Z",
          "iopub.status.idle": "2025-03-29T21:28:54.427798Z",
          "shell.execute_reply": "2025-03-29T21:28:54.426661Z",
          "shell.execute_reply.started": "2025-03-29T21:28:54.388306Z"
        },
        "id": "SMs25GExK2e2",
        "outputId": "4c57abde-04df-4e14-9132-4d589deadf13",
        "trusted": true
      },
      "outputs": [
        {
          "data": {
            "text/plain": [
              "array(['Clean & quiet apt home by the park', 'Skylit Midtown Castle',\n",
              "       'Entire Apt: Spacious Studio/Loft by central park', ...,\n",
              "       'Beautiful Duplex & Private Terrace in Williamsburg',\n",
              "       'Cozy room by South Seaport', 'Elmhurst 1st Fl Rightl Bedroom'],\n",
              "      dtype=object)"
            ]
          },
          "execution_count": 308,
          "metadata": {},
          "output_type": "execute_result"
        }
      ],
      "source": [
        "df['NAME'].unique()"
      ]
    },
    {
      "cell_type": "code",
      "execution_count": 309,
      "metadata": {
        "colab": {
          "base_uri": "https://localhost:8080/",
          "height": 490
        },
        "execution": {
          "iopub.execute_input": "2025-03-29T21:28:54.429299Z",
          "iopub.status.busy": "2025-03-29T21:28:54.42903Z",
          "iopub.status.idle": "2025-03-29T21:28:54.490852Z",
          "shell.execute_reply": "2025-03-29T21:28:54.489597Z",
          "shell.execute_reply.started": "2025-03-29T21:28:54.429276Z"
        },
        "id": "N_BViIW7K2e-",
        "outputId": "0b916b00-79b5-412b-ff73-c8bf2048b4d3",
        "trusted": true
      },
      "outputs": [
        {
          "data": {
            "text/plain": [
              "NAME\n",
              "Private Room                                      12\n",
              "Home away from home                               12\n",
              "Cozy Apartment                                     9\n",
              "Cozy Brooklyn Apartment                            9\n",
              "20-25 minutes to downtown NYC/30-40 to midtown     9\n",
              "                                                  ..\n",
              "large house with inground pool/spa                 1\n",
              "Classic Harlem --- Economy Room                    1\n",
              "Large Beautiful BedStuy Apartment                  1\n",
              "Private room in middle of Bushwick                 1\n",
              "Elmhurst 1st Fl Rightl Bedroom                     1\n",
              "Name: count, Length: 24773, dtype: int64"
            ]
          },
          "execution_count": 309,
          "metadata": {},
          "output_type": "execute_result"
        }
      ],
      "source": [
        "df['NAME'].value_counts()"
      ]
    },
    {
      "cell_type": "code",
      "execution_count": 310,
      "metadata": {
        "colab": {
          "base_uri": "https://localhost:8080/"
        },
        "execution": {
          "iopub.execute_input": "2025-03-29T21:28:54.492374Z",
          "iopub.status.busy": "2025-03-29T21:28:54.491989Z",
          "iopub.status.idle": "2025-03-29T21:28:54.743919Z",
          "shell.execute_reply": "2025-03-29T21:28:54.742839Z",
          "shell.execute_reply.started": "2025-03-29T21:28:54.492338Z"
        },
        "id": "g29jpQU0K2fA",
        "outputId": "d82dac6a-ff32-440f-ef0d-2aae4e59736f",
        "trusted": true
      },
      "outputs": [],
      "source": [
        "#encoded = label.fit_transform(df[['NAME']])"
      ]
    },
    {
      "cell_type": "code",
      "execution_count": 311,
      "metadata": {
        "colab": {
          "base_uri": "https://localhost:8080/"
        },
        "execution": {
          "iopub.execute_input": "2025-03-29T21:28:54.745291Z",
          "iopub.status.busy": "2025-03-29T21:28:54.744993Z",
          "iopub.status.idle": "2025-03-29T21:28:54.752205Z",
          "shell.execute_reply": "2025-03-29T21:28:54.751131Z",
          "shell.execute_reply.started": "2025-03-29T21:28:54.745259Z"
        },
        "id": "zgebgqaIK2fB",
        "outputId": "187f6feb-87bf-4714-910d-138a2bd9aa7b",
        "trusted": true
      },
      "outputs": [],
      "source": [
        "#encoded"
      ]
    },
    {
      "cell_type": "code",
      "execution_count": 312,
      "metadata": {
        "execution": {
          "iopub.execute_input": "2025-03-29T21:28:54.753559Z",
          "iopub.status.busy": "2025-03-29T21:28:54.753299Z",
          "iopub.status.idle": "2025-03-29T21:28:54.770382Z",
          "shell.execute_reply": "2025-03-29T21:28:54.769164Z",
          "shell.execute_reply.started": "2025-03-29T21:28:54.753535Z"
        },
        "id": "093aEjk0K2fB",
        "trusted": true
      },
      "outputs": [],
      "source": [
        "#df_name = pd.DataFrame({\n",
        "#    'NAME_ENCODED' : encoded\n",
        "#})"
      ]
    },
    {
      "cell_type": "code",
      "execution_count": 313,
      "metadata": {
        "colab": {
          "base_uri": "https://localhost:8080/",
          "height": 424
        },
        "execution": {
          "iopub.execute_input": "2025-03-29T21:28:54.772093Z",
          "iopub.status.busy": "2025-03-29T21:28:54.771721Z",
          "iopub.status.idle": "2025-03-29T21:28:54.795176Z",
          "shell.execute_reply": "2025-03-29T21:28:54.793969Z",
          "shell.execute_reply.started": "2025-03-29T21:28:54.772057Z"
        },
        "id": "t-K17750K2fC",
        "outputId": "543edd7f-30e6-4ef0-8e50-ecd4bacc8553",
        "trusted": true
      },
      "outputs": [],
      "source": [
        "#df_name"
      ]
    },
    {
      "cell_type": "code",
      "execution_count": 314,
      "metadata": {
        "execution": {
          "iopub.execute_input": "2025-03-29T21:28:54.796778Z",
          "iopub.status.busy": "2025-03-29T21:28:54.796414Z",
          "iopub.status.idle": "2025-03-29T21:28:54.840159Z",
          "shell.execute_reply": "2025-03-29T21:28:54.838811Z",
          "shell.execute_reply.started": "2025-03-29T21:28:54.796752Z"
        },
        "id": "jNnVkwKoK2fD",
        "trusted": true
      },
      "outputs": [],
      "source": [
        "#df = pd.concat([df,df_name],axis=1)"
      ]
    },
    {
      "cell_type": "code",
      "execution_count": 315,
      "metadata": {
        "execution": {
          "iopub.execute_input": "2025-03-29T21:28:54.841727Z",
          "iopub.status.busy": "2025-03-29T21:28:54.841306Z",
          "iopub.status.idle": "2025-03-29T21:28:54.875136Z",
          "shell.execute_reply": "2025-03-29T21:28:54.874011Z",
          "shell.execute_reply.started": "2025-03-29T21:28:54.84169Z"
        },
        "id": "ZfYIe-UJK2fE",
        "trusted": true
      },
      "outputs": [],
      "source": [
        "#df.drop(columns=['NAME'],inplace=True)"
      ]
    },
    {
      "cell_type": "code",
      "execution_count": 316,
      "metadata": {
        "execution": {
          "iopub.execute_input": "2025-03-29T21:28:54.876428Z",
          "iopub.status.busy": "2025-03-29T21:28:54.876165Z",
          "iopub.status.idle": "2025-03-29T21:28:54.901538Z",
          "shell.execute_reply": "2025-03-29T21:28:54.900413Z",
          "shell.execute_reply.started": "2025-03-29T21:28:54.876403Z"
        },
        "id": "WjfBChLjK2fE",
        "trusted": true
      },
      "outputs": [],
      "source": [
        "#df.dropna(inplace=True)"
      ]
    },
    {
      "cell_type": "code",
      "execution_count": 317,
      "metadata": {
        "colab": {
          "base_uri": "https://localhost:8080/"
        },
        "execution": {
          "iopub.execute_input": "2025-03-29T21:28:54.90314Z",
          "iopub.status.busy": "2025-03-29T21:28:54.90272Z",
          "iopub.status.idle": "2025-03-29T21:28:54.931495Z",
          "shell.execute_reply": "2025-03-29T21:28:54.930267Z",
          "shell.execute_reply.started": "2025-03-29T21:28:54.903101Z"
        },
        "id": "yKuOOt_PK2fF",
        "outputId": "5f6b17f5-867a-4111-acd9-4490890427e4",
        "trusted": true
      },
      "outputs": [
        {
          "name": "stdout",
          "output_type": "stream",
          "text": [
            "<class 'pandas.core.frame.DataFrame'>\n",
            "Index: 39415 entries, 0 to 102040\n",
            "Data columns (total 25 columns):\n",
            " #   Column                          Non-Null Count  Dtype  \n",
            "---  ------                          --------------  -----  \n",
            " 0   id                              39415 non-null  int64  \n",
            " 1   NAME                            39415 non-null  object \n",
            " 2   host id                         39415 non-null  int64  \n",
            " 3   host_identity_verified          39415 non-null  object \n",
            " 4   host name                       39415 non-null  object \n",
            " 5   neighbourhood group             39415 non-null  object \n",
            " 6   neighbourhood                   39415 non-null  object \n",
            " 7   lat                             39415 non-null  float64\n",
            " 8   long                            39415 non-null  float64\n",
            " 9   country                         39415 non-null  object \n",
            " 10  country code                    39415 non-null  object \n",
            " 11  instant_bookable                39415 non-null  object \n",
            " 12  cancellation_policy             39415 non-null  object \n",
            " 13  room type                       39415 non-null  object \n",
            " 14  Construction year               39415 non-null  float64\n",
            " 15  price                           39415 non-null  object \n",
            " 16  service fee                     39415 non-null  object \n",
            " 17  minimum nights                  39415 non-null  float64\n",
            " 18  number of reviews               39415 non-null  float64\n",
            " 19  last review                     39415 non-null  object \n",
            " 20  reviews per month               39415 non-null  float64\n",
            " 21  review rate number              39415 non-null  float64\n",
            " 22  calculated host listings count  39415 non-null  float64\n",
            " 23  availability 365                39415 non-null  float64\n",
            " 24  house_rules                     39415 non-null  object \n",
            "dtypes: float64(9), int64(2), object(14)\n",
            "memory usage: 7.8+ MB\n"
          ]
        }
      ],
      "source": [
        "df.info()"
      ]
    },
    {
      "cell_type": "code",
      "execution_count": 318,
      "metadata": {
        "colab": {
          "base_uri": "https://localhost:8080/"
        },
        "execution": {
          "iopub.execute_input": "2025-03-29T21:28:54.933212Z",
          "iopub.status.busy": "2025-03-29T21:28:54.932835Z",
          "iopub.status.idle": "2025-03-29T21:28:54.995623Z",
          "shell.execute_reply": "2025-03-29T21:28:54.994541Z",
          "shell.execute_reply.started": "2025-03-29T21:28:54.933175Z"
        },
        "id": "Tbc6J0WyK2fF",
        "outputId": "3da28936-02d9-4d59-a699-48ca702afd18",
        "trusted": true
      },
      "outputs": [],
      "source": [
        "#df.duplicated().sum()"
      ]
    },
    {
      "cell_type": "code",
      "execution_count": 319,
      "metadata": {
        "colab": {
          "base_uri": "https://localhost:8080/",
          "height": 290
        },
        "execution": {
          "iopub.execute_input": "2025-03-29T21:28:54.996776Z",
          "iopub.status.busy": "2025-03-29T21:28:54.996497Z",
          "iopub.status.idle": "2025-03-29T21:28:55.029368Z",
          "shell.execute_reply": "2025-03-29T21:28:55.028102Z",
          "shell.execute_reply.started": "2025-03-29T21:28:54.996752Z"
        },
        "id": "AIpowvjsK2fG",
        "outputId": "a128fee2-82ba-4593-c720-bbc1e4e35a3d",
        "trusted": true
      },
      "outputs": [
        {
          "data": {
            "text/html": [
              "<div>\n",
              "<style scoped>\n",
              "    .dataframe tbody tr th:only-of-type {\n",
              "        vertical-align: middle;\n",
              "    }\n",
              "\n",
              "    .dataframe tbody tr th {\n",
              "        vertical-align: top;\n",
              "    }\n",
              "\n",
              "    .dataframe thead th {\n",
              "        text-align: right;\n",
              "    }\n",
              "</style>\n",
              "<table border=\"1\" class=\"dataframe\">\n",
              "  <thead>\n",
              "    <tr style=\"text-align: right;\">\n",
              "      <th></th>\n",
              "      <th>id</th>\n",
              "      <th>NAME</th>\n",
              "      <th>host id</th>\n",
              "      <th>host_identity_verified</th>\n",
              "      <th>host name</th>\n",
              "      <th>neighbourhood group</th>\n",
              "      <th>neighbourhood</th>\n",
              "      <th>lat</th>\n",
              "      <th>long</th>\n",
              "      <th>country</th>\n",
              "      <th>...</th>\n",
              "      <th>price</th>\n",
              "      <th>service fee</th>\n",
              "      <th>minimum nights</th>\n",
              "      <th>number of reviews</th>\n",
              "      <th>last review</th>\n",
              "      <th>reviews per month</th>\n",
              "      <th>review rate number</th>\n",
              "      <th>calculated host listings count</th>\n",
              "      <th>availability 365</th>\n",
              "      <th>house_rules</th>\n",
              "    </tr>\n",
              "  </thead>\n",
              "  <tbody>\n",
              "    <tr>\n",
              "      <th>0</th>\n",
              "      <td>1001254</td>\n",
              "      <td>Clean &amp; quiet apt home by the park</td>\n",
              "      <td>80014485718</td>\n",
              "      <td>unconfirmed</td>\n",
              "      <td>Madaline</td>\n",
              "      <td>Brooklyn</td>\n",
              "      <td>Kensington</td>\n",
              "      <td>40.64749</td>\n",
              "      <td>-73.97237</td>\n",
              "      <td>United States</td>\n",
              "      <td>...</td>\n",
              "      <td>966</td>\n",
              "      <td>193</td>\n",
              "      <td>10.0</td>\n",
              "      <td>9.0</td>\n",
              "      <td>10/19/2021</td>\n",
              "      <td>0.21</td>\n",
              "      <td>4.0</td>\n",
              "      <td>6.0</td>\n",
              "      <td>286.0</td>\n",
              "      <td>Clean up and treat the home the way you'd like...</td>\n",
              "    </tr>\n",
              "    <tr>\n",
              "      <th>1</th>\n",
              "      <td>1002102</td>\n",
              "      <td>Skylit Midtown Castle</td>\n",
              "      <td>52335172823</td>\n",
              "      <td>verified</td>\n",
              "      <td>Jenna</td>\n",
              "      <td>Manhattan</td>\n",
              "      <td>Midtown</td>\n",
              "      <td>40.75362</td>\n",
              "      <td>-73.98377</td>\n",
              "      <td>United States</td>\n",
              "      <td>...</td>\n",
              "      <td>142</td>\n",
              "      <td>28</td>\n",
              "      <td>30.0</td>\n",
              "      <td>45.0</td>\n",
              "      <td>5/21/2022</td>\n",
              "      <td>0.38</td>\n",
              "      <td>4.0</td>\n",
              "      <td>2.0</td>\n",
              "      <td>228.0</td>\n",
              "      <td>Pet friendly but please confirm with me if the...</td>\n",
              "    </tr>\n",
              "    <tr>\n",
              "      <th>4</th>\n",
              "      <td>1003689</td>\n",
              "      <td>Entire Apt: Spacious Studio/Loft by central park</td>\n",
              "      <td>92037596077</td>\n",
              "      <td>verified</td>\n",
              "      <td>Lyndon</td>\n",
              "      <td>Manhattan</td>\n",
              "      <td>East Harlem</td>\n",
              "      <td>40.79851</td>\n",
              "      <td>-73.94399</td>\n",
              "      <td>United States</td>\n",
              "      <td>...</td>\n",
              "      <td>204</td>\n",
              "      <td>41</td>\n",
              "      <td>10.0</td>\n",
              "      <td>9.0</td>\n",
              "      <td>11/19/2018</td>\n",
              "      <td>0.10</td>\n",
              "      <td>3.0</td>\n",
              "      <td>1.0</td>\n",
              "      <td>289.0</td>\n",
              "      <td>Please no smoking in the house, porch or on th...</td>\n",
              "    </tr>\n",
              "    <tr>\n",
              "      <th>5</th>\n",
              "      <td>1004098</td>\n",
              "      <td>Large Cozy 1 BR Apartment In Midtown East</td>\n",
              "      <td>45498551794</td>\n",
              "      <td>verified</td>\n",
              "      <td>Michelle</td>\n",
              "      <td>Manhattan</td>\n",
              "      <td>Murray Hill</td>\n",
              "      <td>40.74767</td>\n",
              "      <td>-73.97500</td>\n",
              "      <td>United States</td>\n",
              "      <td>...</td>\n",
              "      <td>577</td>\n",
              "      <td>115</td>\n",
              "      <td>3.0</td>\n",
              "      <td>74.0</td>\n",
              "      <td>6/22/2019</td>\n",
              "      <td>0.59</td>\n",
              "      <td>3.0</td>\n",
              "      <td>1.0</td>\n",
              "      <td>374.0</td>\n",
              "      <td>No smoking, please, and no drugs.</td>\n",
              "    </tr>\n",
              "    <tr>\n",
              "      <th>7</th>\n",
              "      <td>1005202</td>\n",
              "      <td>BlissArtsSpace!</td>\n",
              "      <td>90821839709</td>\n",
              "      <td>unconfirmed</td>\n",
              "      <td>Emma</td>\n",
              "      <td>Brooklyn</td>\n",
              "      <td>Bedford-Stuyvesant</td>\n",
              "      <td>40.68688</td>\n",
              "      <td>-73.95596</td>\n",
              "      <td>United States</td>\n",
              "      <td>...</td>\n",
              "      <td>1060</td>\n",
              "      <td>212</td>\n",
              "      <td>45.0</td>\n",
              "      <td>49.0</td>\n",
              "      <td>10/5/2017</td>\n",
              "      <td>0.40</td>\n",
              "      <td>5.0</td>\n",
              "      <td>1.0</td>\n",
              "      <td>219.0</td>\n",
              "      <td>House Guidelines for our BnB We are delighted ...</td>\n",
              "    </tr>\n",
              "    <tr>\n",
              "      <th>...</th>\n",
              "      <td>...</td>\n",
              "      <td>...</td>\n",
              "      <td>...</td>\n",
              "      <td>...</td>\n",
              "      <td>...</td>\n",
              "      <td>...</td>\n",
              "      <td>...</td>\n",
              "      <td>...</td>\n",
              "      <td>...</td>\n",
              "      <td>...</td>\n",
              "      <td>...</td>\n",
              "      <td>...</td>\n",
              "      <td>...</td>\n",
              "      <td>...</td>\n",
              "      <td>...</td>\n",
              "      <td>...</td>\n",
              "      <td>...</td>\n",
              "      <td>...</td>\n",
              "      <td>...</td>\n",
              "      <td>...</td>\n",
              "      <td>...</td>\n",
              "    </tr>\n",
              "    <tr>\n",
              "      <th>102025</th>\n",
              "      <td>57349744</td>\n",
              "      <td>COZY Large Private APARTMENT in EAST VILLAGE</td>\n",
              "      <td>97186426683</td>\n",
              "      <td>verified</td>\n",
              "      <td>Luna</td>\n",
              "      <td>Manhattan</td>\n",
              "      <td>East Village</td>\n",
              "      <td>40.72588</td>\n",
              "      <td>-73.98598</td>\n",
              "      <td>United States</td>\n",
              "      <td>...</td>\n",
              "      <td>878</td>\n",
              "      <td>176</td>\n",
              "      <td>6.0</td>\n",
              "      <td>22.0</td>\n",
              "      <td>5/24/2019</td>\n",
              "      <td>0.87</td>\n",
              "      <td>2.0</td>\n",
              "      <td>1.0</td>\n",
              "      <td>15.0</td>\n",
              "      <td>No Smoking, No Pets</td>\n",
              "    </tr>\n",
              "    <tr>\n",
              "      <th>102028</th>\n",
              "      <td>57351400</td>\n",
              "      <td>Gorgeous condo 20min from NYC,close to the air...</td>\n",
              "      <td>27226581142</td>\n",
              "      <td>unconfirmed</td>\n",
              "      <td>Arthur</td>\n",
              "      <td>Queens</td>\n",
              "      <td>Rego Park</td>\n",
              "      <td>40.72999</td>\n",
              "      <td>-73.86043</td>\n",
              "      <td>United States</td>\n",
              "      <td>...</td>\n",
              "      <td>994</td>\n",
              "      <td>199</td>\n",
              "      <td>2.0</td>\n",
              "      <td>67.0</td>\n",
              "      <td>7/1/2019</td>\n",
              "      <td>2.58</td>\n",
              "      <td>5.0</td>\n",
              "      <td>1.0</td>\n",
              "      <td>278.0</td>\n",
              "      <td>1. Be respectful of me and my home 2. No Pets ...</td>\n",
              "    </tr>\n",
              "    <tr>\n",
              "      <th>102029</th>\n",
              "      <td>57351953</td>\n",
              "      <td>Cozy room in a 2B with backyard access</td>\n",
              "      <td>5155155913</td>\n",
              "      <td>unconfirmed</td>\n",
              "      <td>Cristina</td>\n",
              "      <td>Queens</td>\n",
              "      <td>Astoria</td>\n",
              "      <td>40.76987</td>\n",
              "      <td>-73.92679</td>\n",
              "      <td>United States</td>\n",
              "      <td>...</td>\n",
              "      <td>822</td>\n",
              "      <td>164</td>\n",
              "      <td>1.0</td>\n",
              "      <td>9.0</td>\n",
              "      <td>4/25/2019</td>\n",
              "      <td>0.91</td>\n",
              "      <td>3.0</td>\n",
              "      <td>1.0</td>\n",
              "      <td>0.0</td>\n",
              "      <td>I have other roommates so be respectful of that.</td>\n",
              "    </tr>\n",
              "    <tr>\n",
              "      <th>102031</th>\n",
              "      <td>57353057</td>\n",
              "      <td>Cozy bedroom in williamsburg</td>\n",
              "      <td>83101851929</td>\n",
              "      <td>verified</td>\n",
              "      <td>Russell</td>\n",
              "      <td>Brooklyn</td>\n",
              "      <td>Williamsburg</td>\n",
              "      <td>40.70870</td>\n",
              "      <td>-73.96710</td>\n",
              "      <td>United States</td>\n",
              "      <td>...</td>\n",
              "      <td>1078</td>\n",
              "      <td>216</td>\n",
              "      <td>1.0</td>\n",
              "      <td>58.0</td>\n",
              "      <td>6/10/2019</td>\n",
              "      <td>2.08</td>\n",
              "      <td>5.0</td>\n",
              "      <td>2.0</td>\n",
              "      <td>120.0</td>\n",
              "      <td>- $150 Pet Fee - 14.45% Tax Will be adjusted i...</td>\n",
              "    </tr>\n",
              "    <tr>\n",
              "      <th>102040</th>\n",
              "      <td>57358028</td>\n",
              "      <td>Room in Queens, NY, near LGA.</td>\n",
              "      <td>56457739998</td>\n",
              "      <td>verified</td>\n",
              "      <td>Sonia</td>\n",
              "      <td>Queens</td>\n",
              "      <td>East Elmhurst</td>\n",
              "      <td>40.76245</td>\n",
              "      <td>-73.87938</td>\n",
              "      <td>United States</td>\n",
              "      <td>...</td>\n",
              "      <td>982</td>\n",
              "      <td>196</td>\n",
              "      <td>1.0</td>\n",
              "      <td>239.0</td>\n",
              "      <td>6/29/2019</td>\n",
              "      <td>8.58</td>\n",
              "      <td>2.0</td>\n",
              "      <td>2.0</td>\n",
              "      <td>361.0</td>\n",
              "      <td>1. Please clean-up after yourself in the kitch...</td>\n",
              "    </tr>\n",
              "  </tbody>\n",
              "</table>\n",
              "<p>39415 rows × 25 columns</p>\n",
              "</div>"
            ],
            "text/plain": [
              "              id                                               NAME  \\\n",
              "0        1001254                 Clean & quiet apt home by the park   \n",
              "1        1002102                              Skylit Midtown Castle   \n",
              "4        1003689   Entire Apt: Spacious Studio/Loft by central park   \n",
              "5        1004098          Large Cozy 1 BR Apartment In Midtown East   \n",
              "7        1005202                                    BlissArtsSpace!   \n",
              "...          ...                                                ...   \n",
              "102025  57349744       COZY Large Private APARTMENT in EAST VILLAGE   \n",
              "102028  57351400  Gorgeous condo 20min from NYC,close to the air...   \n",
              "102029  57351953             Cozy room in a 2B with backyard access   \n",
              "102031  57353057                       Cozy bedroom in williamsburg   \n",
              "102040  57358028                      Room in Queens, NY, near LGA.   \n",
              "\n",
              "            host id host_identity_verified host name neighbourhood group  \\\n",
              "0       80014485718            unconfirmed  Madaline            Brooklyn   \n",
              "1       52335172823               verified     Jenna           Manhattan   \n",
              "4       92037596077               verified    Lyndon           Manhattan   \n",
              "5       45498551794               verified  Michelle           Manhattan   \n",
              "7       90821839709            unconfirmed      Emma            Brooklyn   \n",
              "...             ...                    ...       ...                 ...   \n",
              "102025  97186426683               verified      Luna           Manhattan   \n",
              "102028  27226581142            unconfirmed    Arthur              Queens   \n",
              "102029   5155155913            unconfirmed  Cristina              Queens   \n",
              "102031  83101851929               verified   Russell            Brooklyn   \n",
              "102040  56457739998               verified     Sonia              Queens   \n",
              "\n",
              "             neighbourhood       lat      long        country  ...  price  \\\n",
              "0               Kensington  40.64749 -73.97237  United States  ...   966    \n",
              "1                  Midtown  40.75362 -73.98377  United States  ...   142    \n",
              "4              East Harlem  40.79851 -73.94399  United States  ...   204    \n",
              "5              Murray Hill  40.74767 -73.97500  United States  ...   577    \n",
              "7       Bedford-Stuyvesant  40.68688 -73.95596  United States  ...  1060    \n",
              "...                    ...       ...       ...            ...  ...    ...   \n",
              "102025        East Village  40.72588 -73.98598  United States  ...   878    \n",
              "102028           Rego Park  40.72999 -73.86043  United States  ...   994    \n",
              "102029             Astoria  40.76987 -73.92679  United States  ...   822    \n",
              "102031        Williamsburg  40.70870 -73.96710  United States  ...  1078    \n",
              "102040       East Elmhurst  40.76245 -73.87938  United States  ...   982    \n",
              "\n",
              "       service fee minimum nights number of reviews  last review  \\\n",
              "0             193            10.0               9.0   10/19/2021   \n",
              "1              28            30.0              45.0    5/21/2022   \n",
              "4              41            10.0               9.0   11/19/2018   \n",
              "5             115             3.0              74.0    6/22/2019   \n",
              "7             212            45.0              49.0    10/5/2017   \n",
              "...            ...            ...               ...          ...   \n",
              "102025        176             6.0              22.0    5/24/2019   \n",
              "102028        199             2.0              67.0     7/1/2019   \n",
              "102029        164             1.0               9.0    4/25/2019   \n",
              "102031        216             1.0              58.0    6/10/2019   \n",
              "102040        196             1.0             239.0    6/29/2019   \n",
              "\n",
              "       reviews per month review rate number  calculated host listings count  \\\n",
              "0                   0.21                4.0                             6.0   \n",
              "1                   0.38                4.0                             2.0   \n",
              "4                   0.10                3.0                             1.0   \n",
              "5                   0.59                3.0                             1.0   \n",
              "7                   0.40                5.0                             1.0   \n",
              "...                  ...                ...                             ...   \n",
              "102025              0.87                2.0                             1.0   \n",
              "102028              2.58                5.0                             1.0   \n",
              "102029              0.91                3.0                             1.0   \n",
              "102031              2.08                5.0                             2.0   \n",
              "102040              8.58                2.0                             2.0   \n",
              "\n",
              "        availability 365                                        house_rules  \n",
              "0                  286.0  Clean up and treat the home the way you'd like...  \n",
              "1                  228.0  Pet friendly but please confirm with me if the...  \n",
              "4                  289.0  Please no smoking in the house, porch or on th...  \n",
              "5                  374.0                  No smoking, please, and no drugs.  \n",
              "7                  219.0  House Guidelines for our BnB We are delighted ...  \n",
              "...                  ...                                                ...  \n",
              "102025              15.0                                No Smoking, No Pets  \n",
              "102028             278.0  1. Be respectful of me and my home 2. No Pets ...  \n",
              "102029               0.0   I have other roommates so be respectful of that.  \n",
              "102031             120.0  - $150 Pet Fee - 14.45% Tax Will be adjusted i...  \n",
              "102040             361.0  1. Please clean-up after yourself in the kitch...  \n",
              "\n",
              "[39415 rows x 25 columns]"
            ]
          },
          "execution_count": 319,
          "metadata": {},
          "output_type": "execute_result"
        }
      ],
      "source": [
        "df"
      ]
    },
    {
      "cell_type": "code",
      "execution_count": 200,
      "metadata": {
        "id": "ZcqBIZhbPRo7"
      },
      "outputs": [],
      "source": [
        "# prompt: create a new csv file with updated datatha has new data\n",
        "\n",
        "# Assuming df is the DataFrame from the provided code\n",
        "df.to_csv('updated_airbnb_data.csv', index=False)\n"
      ]
    },
    {
      "cell_type": "markdown",
      "metadata": {},
      "source": [
        "# CREATING THE airbnb_nyc SCHEMA"
      ]
    },
    {
      "cell_type": "code",
      "execution_count": 121,
      "metadata": {},
      "outputs": [],
      "source": [
        "# Step 1: Connect without specifying the database\n",
        "conn = mysql.connector.connect(\n",
        "    host=\"127.0.0.1\",\n",
        "    user=\"root\",\n",
        "    password=\"Bonakele.1\"\n",
        ")\n",
        "cursor = conn.cursor()\n",
        "\n",
        "# Step 2: Create the database if it doesn't exist\n",
        "cursor.execute(\"CREATE DATABASE IF NOT EXISTS airbnb_nyc\")\n",
        "cursor.execute(\"USE airbnb_nyc\")"
      ]
    },
    {
      "cell_type": "markdown",
      "metadata": {},
      "source": [
        "# CREATE TABLES IN SCHEMA\n",
        "- Come up with table names\n",
        "- Insert values for tables with unique and few values \n",
        "- Upload cleaned airbnb_nyc for table seperation\n",
        "- Standardize column names"
      ]
    },
    {
      "cell_type": "code",
      "execution_count": null,
      "metadata": {},
      "outputs": [],
      "source": [
        "# Neighbourhood Groups\n",
        "cursor.execute(\"\"\"\n",
        "CREATE TABLE IF NOT EXISTS neighbourhood_groups (\n",
        "    id INT AUTO_INCREMENT PRIMARY KEY,\n",
        "    name VARCHAR(50) NOT NULL UNIQUE\n",
        ")\n",
        "\"\"\")\n",
        "\n",
        "# Neighbourhoods\n",
        "cursor.execute(\"\"\"\n",
        "CREATE TABLE IF NOT EXISTS neighbourhoods (\n",
        "    id INT AUTO_INCREMENT PRIMARY KEY,\n",
        "    name VARCHAR(100) NOT NULL,\n",
        "    neighbourhood_group_id INT NOT NULL,\n",
        "    UNIQUE (name, neighbourhood_group_id),\n",
        "    FOREIGN KEY (neighbourhood_group_id) REFERENCES neighbourhood_groups(id)\n",
        ")\n",
        "\"\"\")\n",
        "\n",
        "# Room Types\n",
        "cursor.execute(\"\"\"\n",
        "CREATE TABLE IF NOT EXISTS room_types (\n",
        "    id INT AUTO_INCREMENT PRIMARY KEY,\n",
        "    type VARCHAR(50) NOT NULL UNIQUE\n",
        ")\n",
        "\"\"\")\n",
        "\n",
        "# Cancellation Policies\n",
        "cursor.execute(\"\"\"\n",
        "CREATE TABLE IF NOT EXISTS cancellation_policies (\n",
        "    id INT AUTO_INCREMENT PRIMARY KEY,\n",
        "    policy VARCHAR(50) NOT NULL UNIQUE\n",
        ")\n",
        "\"\"\")\n",
        "\n",
        "# Hosts\n",
        "cursor.execute(\"\"\"\n",
        "CREATE TABLE IF NOT EXISTS hosts (\n",
        "    id BIGINT PRIMARY KEY,\n",
        "    name VARCHAR(100),\n",
        "    identity_verified VARCHAR(20)\n",
        ")\n",
        "\"\"\")\n",
        "\n",
        "# Listings\n",
        "cursor.execute(\"\"\"\n",
        "CREATE TABLE IF NOT EXISTS listings (\n",
        "    id BIGINT PRIMARY KEY,\n",
        "    name VARCHAR(255),\n",
        "    host_id BIGINT NOT NULL,\n",
        "    neighbourhood_id INT,\n",
        "    latitude DECIMAL(10, 8),\n",
        "    longitude DECIMAL(11, 8),\n",
        "    country VARCHAR(50),\n",
        "    country_code VARCHAR(10),\n",
        "    room_type_id INT,\n",
        "    construction_year INT,\n",
        "    price DECIMAL(10, 2),\n",
        "    service_fee DECIMAL(10, 2),\n",
        "    minimum_nights INT,\n",
        "    number_of_reviews INT,\n",
        "    last_review DATE,\n",
        "    reviews_per_month DECIMAL(5, 2),\n",
        "    review_rate_number INT,\n",
        "    calculated_host_listings_count INT,\n",
        "    availability_365 INT,\n",
        "    instant_bookable BOOLEAN,\n",
        "    cancellation_policy_id INT,\n",
        "    house_rules TEXT,\n",
        "    FOREIGN KEY (host_id) REFERENCES hosts(id),\n",
        "    FOREIGN KEY (neighbourhood_id) REFERENCES neighbourhoods(id),\n",
        "    FOREIGN KEY (room_type_id) REFERENCES room_types(id),\n",
        "    FOREIGN KEY (cancellation_policy_id) REFERENCES cancellation_policies(id)\n",
        ")\n",
        "\"\"\")\n",
        "\n",
        "cursor.execute(\"INSERT IGNORE INTO neighbourhood_groups (name) VALUES ('Brooklyn'), ('Manhattan'), ('Queens'), ('Bronx'), ('Staten Island')\")\n",
        "cursor.execute(\"INSERT IGNORE INTO room_types (type) VALUES ('Private room'), ('Entire home/apt'), ('Shared room')\")\n",
        "cursor.execute(\"INSERT IGNORE INTO cancellation_policies (policy) VALUES ('strict'), ('moderate'), ('flexible')\")\n",
        "conn.commit()\n",
        "\n",
        "df = pd.read_csv(\"updated_airbnb_data.csv\")\n",
        "\n",
        "# Standardize column names\n",
        "df.columns = [col.strip().lower().replace(\" \", \"_\") for col in df.columns]"
      ]
    },
    {
      "cell_type": "markdown",
      "metadata": {},
      "source": [
        "# INSERT VALUES FOR TABLES WITH A LOT OF ROWS USING DF"
      ]
    },
    {
      "cell_type": "code",
      "execution_count": 126,
      "metadata": {},
      "outputs": [],
      "source": [
        "# Insert unique neighbourhoods\n",
        "neighbourhoods = df[['neighbourhood', 'neighbourhood_group']].drop_duplicates()\n",
        "\n",
        "for _, row in neighbourhoods.iterrows():\n",
        "    group_name = row['neighbourhood_group']\n",
        "    if pd.notnull(group_name):  # Skip if it's NaN\n",
        "        group_name = str(group_name)  # Convert to string just in case\n",
        "        cursor.execute(\"SELECT id FROM neighbourhood_groups WHERE name = %s\", (group_name,))\n",
        "        group_id = cursor.fetchone()\n",
        "        if group_id:\n",
        "            # Now insert into neighbourhoods table\n",
        "            cursor.execute(\"\"\"\n",
        "                INSERT IGNORE INTO neighbourhoods (name, neighbourhood_group_id)\n",
        "                VALUES (%s, %s)\n",
        "            \"\"\", (row['neighbourhood'], group_id[0]))\n",
        "\n",
        "# Insert unique hosts  \n",
        "\n",
        "hosts = df[['host_id', 'host_name', 'host_identity_verified']].drop_duplicates()\n",
        "\n",
        "# Ensure types are correct\n",
        "hosts['host_id'] = hosts['host_id'].astype(int)\n",
        "hosts['host_name'] = hosts['host_name'].astype(str)\n",
        "hosts['host_identity_verified'] = hosts['host_identity_verified'].astype(str)\n",
        "\n",
        "# Now insert\n",
        "for _, row in hosts.iterrows():\n",
        "    cursor.execute(\"\"\"\n",
        "        INSERT IGNORE INTO hosts (id, name, identity_verified)\n",
        "        VALUES (%s, %s, %s)\n",
        "    \"\"\", (row['host_id'], row['host_name'], row['host_identity_verified']))\n",
        "\n",
        "\n",
        "\n",
        "# Insert unique listings\n",
        "df_clean = df.dropna(subset=['neighbourhood', 'room_type', 'cancellation_policy', 'host_id'])\n",
        "\n",
        "# Ensure all lookup columns are the correct types\n",
        "df_clean['neighbourhood'] = df_clean['neighbourhood'].astype(str)\n",
        "df_clean['room_type'] = df_clean['room_type'].astype(str)\n",
        "df_clean['cancellation_policy'] = df_clean['cancellation_policy'].astype(str)\n",
        "df_clean['host_id'] = df_clean['host_id'].astype(int)\n",
        "\n",
        "# Then insert listings (or perform the lookup)\n",
        "for _, row in df_clean.iterrows():\n",
        "    cursor.execute(\"SELECT id FROM neighbourhoods WHERE name = %s\", (row['neighbourhood'],))\n",
        "    neighbourhood_id = cursor.fetchone()\n",
        "\n",
        "    cursor.execute(\"SELECT id FROM room_types WHERE type = %s\", (row['room_type'],))\n",
        "    room_type_id = cursor.fetchone()\n",
        "\n",
        "    cursor.execute(\"SELECT id FROM cancellation_policies WHERE policy = %s\", (row['cancellation_policy'],))\n",
        "    cancellation_policy_id = cursor.fetchone()\n",
        "    \n",
        "    # Insert listing\n",
        "    cursor.execute(\"\"\"\n",
        "        INSERT IGNORE INTO listings (\n",
        "            id, name, host_id, neighbourhood_id, latitude, longitude, country,\n",
        "            country_code, room_type_id, construction_year, price, service_fee,\n",
        "            minimum_nights, number_of_reviews, last_review, reviews_per_month,\n",
        "            review_rate_number, calculated_host_listings_count, availability_365,\n",
        "            instant_bookable, cancellation_policy_id, house_rules\n",
        "        )\n",
        "        VALUES (%s, %s, %s, %s, %s, %s, %s, %s, %s, %s, %s, %s, %s, %s, %s, %s, %s, %s, %s, %s, %s, %s)\n",
        "    \"\"\", (\n",
        "        row['id'], row['name'], row['host_id'], neighbourhood_id[0] if neighbourhood_id else None,\n",
        "        row['lat'], row['long'], row['country'], row['country_code'], room_type_id[0] if room_type_id else None,\n",
        "        row['construction_year'], row['price'], row['service_fee'],\n",
        "        row['minimum_nights'], row['number_of_reviews'], row['last_review'],\n",
        "        row['reviews_per_month'], row['review_rate_number'],\n",
        "        row['calculated_host_listings_count'], row['availability_365'],\n",
        "        row['instant_bookable'], cancellation_policy_id[0] if cancellation_policy_id else None,\n",
        "        row['house_rules']\n",
        "    ))\n",
        "\n",
        "    conn.commit()"
      ]
    },
    {
      "cell_type": "code",
      "execution_count": null,
      "metadata": {},
      "outputs": [],
      "source": [
        "# run this on anaconda prompt\n",
        "## mysqldump -u root -p airbnb_nyc > airbnb_nyc.sql\n",
        "# If this do not work run this To save a sql file:\n",
        "## \"C:\\Program Files\\MySQL\\MySQL Server 8.0\\bin\\mysqldump.exe\" -u root -p airbnb_nyc > airbnb_nyc.sql"
      ]
    },
    {
      "cell_type": "markdown",
      "metadata": {},
      "source": [
        "# CREATE DATABASE FILE"
      ]
    },
    {
      "cell_type": "code",
      "execution_count": 127,
      "metadata": {},
      "outputs": [
        {
          "name": "stderr",
          "output_type": "stream",
          "text": [
            "C:\\Users\\bonas\\AppData\\Local\\Temp\\ipykernel_10956\\3943947059.py:25: UserWarning: pandas only supports SQLAlchemy connectable (engine/connection) or database string URI or sqlite3 DBAPI2 connection. Other DBAPI2 objects are not tested. Please consider using SQLAlchemy.\n",
            "  df = pd.read_sql(f\"SELECT * FROM {table}\", mysql_conn)\n"
          ]
        },
        {
          "name": "stdout",
          "output_type": "stream",
          "text": [
            "Transferred table: neighbourhood_groups\n",
            "Transferred table: neighbourhoods\n",
            "Transferred table: room_types\n",
            "Transferred table: cancellation_policies\n",
            "Transferred table: hosts\n",
            "Transferred table: listings\n"
          ]
        }
      ],
      "source": [
        "# Connect to MySQL\n",
        "mysql_conn = mysql.connector.connect(\n",
        "    host=\"127.0.0.1\",\n",
        "    user=\"root\",\n",
        "    password=\"Bonakele.1\",\n",
        "    database=\"airbnb_nyc\"\n",
        ")\n",
        "mysql_cursor = mysql_conn.cursor()\n",
        "\n",
        "# Connect to SQLite (creates airbnb_nyc.db if it doesn't exist)\n",
        "sqlite_conn = sqlite3.connect(\"airbnb_nyc.db\")\n",
        "\n",
        "# List of table names to transfer\n",
        "tables = [\n",
        "    \"neighbourhood_groups\",\n",
        "    \"neighbourhoods\",\n",
        "    \"room_types\",\n",
        "    \"cancellation_policies\",\n",
        "    \"hosts\",\n",
        "    \"listings\"\n",
        "]\n",
        "\n",
        "# Transfer each table from MySQL to SQLite\n",
        "for table in tables:\n",
        "    df = pd.read_sql(f\"SELECT * FROM {table}\", mysql_conn)\n",
        "    df.to_sql(table, sqlite_conn, if_exists=\"replace\", index=False)\n",
        "    print(f\"Transferred table: {table}\")\n",
        "\n",
        "# Close connections\n",
        "mysql_cursor.close()\n",
        "mysql_conn.close()\n",
        "sqlite_conn.close()"
      ]
    },
    {
      "cell_type": "code",
      "execution_count": 328,
      "metadata": {},
      "outputs": [
        {
          "name": "stdout",
          "output_type": "stream",
          "text": [
            "Opened SQLite database with version 3.49.1 successfully.\n"
          ]
        },
        {
          "data": {
            "text/html": [
              "<div>\n",
              "<style scoped>\n",
              "    .dataframe tbody tr th:only-of-type {\n",
              "        vertical-align: middle;\n",
              "    }\n",
              "\n",
              "    .dataframe tbody tr th {\n",
              "        vertical-align: top;\n",
              "    }\n",
              "\n",
              "    .dataframe thead th {\n",
              "        text-align: right;\n",
              "    }\n",
              "</style>\n",
              "<table border=\"1\" class=\"dataframe\">\n",
              "  <thead>\n",
              "    <tr style=\"text-align: right;\">\n",
              "      <th></th>\n",
              "      <th>name</th>\n",
              "    </tr>\n",
              "  </thead>\n",
              "  <tbody>\n",
              "    <tr>\n",
              "      <th>0</th>\n",
              "      <td>neighbourhood_groups</td>\n",
              "    </tr>\n",
              "    <tr>\n",
              "      <th>1</th>\n",
              "      <td>neighbourhoods</td>\n",
              "    </tr>\n",
              "    <tr>\n",
              "      <th>2</th>\n",
              "      <td>room_types</td>\n",
              "    </tr>\n",
              "    <tr>\n",
              "      <th>3</th>\n",
              "      <td>cancellation_policies</td>\n",
              "    </tr>\n",
              "    <tr>\n",
              "      <th>4</th>\n",
              "      <td>hosts</td>\n",
              "    </tr>\n",
              "    <tr>\n",
              "      <th>5</th>\n",
              "      <td>listings</td>\n",
              "    </tr>\n",
              "  </tbody>\n",
              "</table>\n",
              "</div>"
            ],
            "text/plain": [
              "                    name\n",
              "0   neighbourhood_groups\n",
              "1         neighbourhoods\n",
              "2             room_types\n",
              "3  cancellation_policies\n",
              "4                  hosts\n",
              "5               listings"
            ]
          },
          "execution_count": 328,
          "metadata": {},
          "output_type": "execute_result"
        }
      ],
      "source": [
        "# Load your database and create a database connection.\n",
        "# You can connect to the sql database in any way you wish. \n",
        "# Use this method if you are unsure how to proceed. \n",
        "# Ensure the bike_store.db file is in the same directory as this notebook.\n",
        "try:\n",
        "    with sqlite3.connect(\"airbnb_nyc.db\") as conn:\n",
        "        print(f\"Opened SQLite database with version {sqlite3.sqlite_version} successfully.\")\n",
        "\n",
        "except sqlite3.OperationalError as e:\n",
        "    print(\"Failed to open database:\", e)\n",
        "\n",
        "# List all tables in the database\n",
        "pd.read_sql('''SELECT name FROM sqlite_master WHERE type='table';''',conn)     #Does the same thing"
      ]
    }
  ],
  "metadata": {
    "colab": {
      "provenance": []
    },
    "kaggle": {
      "accelerator": "none",
      "dataSources": [
        {
          "datasetId": 2380415,
          "sourceId": 4016336,
          "sourceType": "datasetVersion"
        }
      ],
      "dockerImageVersionId": 30918,
      "isGpuEnabled": false,
      "isInternetEnabled": false,
      "language": "python",
      "sourceType": "notebook"
    },
    "kernelspec": {
      "display_name": "base",
      "language": "python",
      "name": "python3"
    },
    "language_info": {
      "codemirror_mode": {
        "name": "ipython",
        "version": 3
      },
      "file_extension": ".py",
      "mimetype": "text/x-python",
      "name": "python",
      "nbconvert_exporter": "python",
      "pygments_lexer": "ipython3",
      "version": "3.12.3"
    }
  },
  "nbformat": 4,
  "nbformat_minor": 0
}
