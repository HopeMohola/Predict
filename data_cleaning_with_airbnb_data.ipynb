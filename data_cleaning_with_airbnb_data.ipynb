{
  "cells": [
    {
      "cell_type": "markdown",
      "metadata": {},
      "source": [
        "# *Importing packages*"
      ]
    },
    {
      "cell_type": "code",
      "execution_count": 1,
      "metadata": {
        "execution": {
          "iopub.execute_input": "2025-03-29T21:28:47.019768Z",
          "iopub.status.busy": "2025-03-29T21:28:47.019221Z",
          "iopub.status.idle": "2025-03-29T21:28:47.590122Z",
          "shell.execute_reply": "2025-03-29T21:28:47.588958Z",
          "shell.execute_reply.started": "2025-03-29T21:28:47.019716Z"
        },
        "id": "1xN03lY1K2bd",
        "trusted": true
      },
      "outputs": [],
      "source": [
        "import os\n",
        "import json\n",
        "import random\n",
        "import sqlite3\n",
        "import sqlparse\n",
        "import pandas as pd\n",
        "import numpy as np\n",
        "import mysql.connector"
      ]
    },
    {
      "cell_type": "markdown",
      "metadata": {},
      "source": [
        "# *Uploading Airbnb_Open_Data csv file*"
      ]
    },
    {
      "cell_type": "code",
      "execution_count": 2,
      "metadata": {
        "colab": {
          "base_uri": "https://localhost:8080/",
          "height": 1000
        },
        "id": "LBNYpsRWK-HM",
        "outputId": "9b44749d-dd11-4a60-974e-62e11e45ab81"
      },
      "outputs": [
        {
          "name": "stderr",
          "output_type": "stream",
          "text": [
            "C:\\Users\\bonas\\AppData\\Local\\Temp\\ipykernel_11284\\1202269202.py:1: DtypeWarning: Columns (25) have mixed types. Specify dtype option on import or set low_memory=False.\n",
            "  df = pd.read_csv('Airbnb_Open_Data.csv')\n"
          ]
        },
        {
          "data": {
            "text/html": [
              "<div>\n",
              "<style scoped>\n",
              "    .dataframe tbody tr th:only-of-type {\n",
              "        vertical-align: middle;\n",
              "    }\n",
              "\n",
              "    .dataframe tbody tr th {\n",
              "        vertical-align: top;\n",
              "    }\n",
              "\n",
              "    .dataframe thead th {\n",
              "        text-align: right;\n",
              "    }\n",
              "</style>\n",
              "<table border=\"1\" class=\"dataframe\">\n",
              "  <thead>\n",
              "    <tr style=\"text-align: right;\">\n",
              "      <th></th>\n",
              "      <th>id</th>\n",
              "      <th>NAME</th>\n",
              "      <th>host id</th>\n",
              "      <th>host_identity_verified</th>\n",
              "      <th>host name</th>\n",
              "      <th>neighbourhood group</th>\n",
              "      <th>neighbourhood</th>\n",
              "      <th>lat</th>\n",
              "      <th>long</th>\n",
              "      <th>country</th>\n",
              "      <th>...</th>\n",
              "      <th>service fee</th>\n",
              "      <th>minimum nights</th>\n",
              "      <th>number of reviews</th>\n",
              "      <th>last review</th>\n",
              "      <th>reviews per month</th>\n",
              "      <th>review rate number</th>\n",
              "      <th>calculated host listings count</th>\n",
              "      <th>availability 365</th>\n",
              "      <th>house_rules</th>\n",
              "      <th>license</th>\n",
              "    </tr>\n",
              "  </thead>\n",
              "  <tbody>\n",
              "    <tr>\n",
              "      <th>0</th>\n",
              "      <td>1001254</td>\n",
              "      <td>Clean &amp; quiet apt home by the park</td>\n",
              "      <td>80014485718</td>\n",
              "      <td>unconfirmed</td>\n",
              "      <td>Madaline</td>\n",
              "      <td>Brooklyn</td>\n",
              "      <td>Kensington</td>\n",
              "      <td>40.64749</td>\n",
              "      <td>-73.97237</td>\n",
              "      <td>United States</td>\n",
              "      <td>...</td>\n",
              "      <td>$193</td>\n",
              "      <td>10.0</td>\n",
              "      <td>9.0</td>\n",
              "      <td>10/19/2021</td>\n",
              "      <td>0.21</td>\n",
              "      <td>4.0</td>\n",
              "      <td>6.0</td>\n",
              "      <td>286.0</td>\n",
              "      <td>Clean up and treat the home the way you'd like...</td>\n",
              "      <td>NaN</td>\n",
              "    </tr>\n",
              "    <tr>\n",
              "      <th>1</th>\n",
              "      <td>1002102</td>\n",
              "      <td>Skylit Midtown Castle</td>\n",
              "      <td>52335172823</td>\n",
              "      <td>verified</td>\n",
              "      <td>Jenna</td>\n",
              "      <td>Manhattan</td>\n",
              "      <td>Midtown</td>\n",
              "      <td>40.75362</td>\n",
              "      <td>-73.98377</td>\n",
              "      <td>United States</td>\n",
              "      <td>...</td>\n",
              "      <td>$28</td>\n",
              "      <td>30.0</td>\n",
              "      <td>45.0</td>\n",
              "      <td>5/21/2022</td>\n",
              "      <td>0.38</td>\n",
              "      <td>4.0</td>\n",
              "      <td>2.0</td>\n",
              "      <td>228.0</td>\n",
              "      <td>Pet friendly but please confirm with me if the...</td>\n",
              "      <td>NaN</td>\n",
              "    </tr>\n",
              "    <tr>\n",
              "      <th>2</th>\n",
              "      <td>1002403</td>\n",
              "      <td>THE VILLAGE OF HARLEM....NEW YORK !</td>\n",
              "      <td>78829239556</td>\n",
              "      <td>NaN</td>\n",
              "      <td>Elise</td>\n",
              "      <td>Manhattan</td>\n",
              "      <td>Harlem</td>\n",
              "      <td>40.80902</td>\n",
              "      <td>-73.94190</td>\n",
              "      <td>United States</td>\n",
              "      <td>...</td>\n",
              "      <td>$124</td>\n",
              "      <td>3.0</td>\n",
              "      <td>0.0</td>\n",
              "      <td>NaN</td>\n",
              "      <td>NaN</td>\n",
              "      <td>5.0</td>\n",
              "      <td>1.0</td>\n",
              "      <td>352.0</td>\n",
              "      <td>I encourage you to use my kitchen, cooking and...</td>\n",
              "      <td>NaN</td>\n",
              "    </tr>\n",
              "    <tr>\n",
              "      <th>3</th>\n",
              "      <td>1002755</td>\n",
              "      <td>NaN</td>\n",
              "      <td>85098326012</td>\n",
              "      <td>unconfirmed</td>\n",
              "      <td>Garry</td>\n",
              "      <td>Brooklyn</td>\n",
              "      <td>Clinton Hill</td>\n",
              "      <td>40.68514</td>\n",
              "      <td>-73.95976</td>\n",
              "      <td>United States</td>\n",
              "      <td>...</td>\n",
              "      <td>$74</td>\n",
              "      <td>30.0</td>\n",
              "      <td>270.0</td>\n",
              "      <td>7/5/2019</td>\n",
              "      <td>4.64</td>\n",
              "      <td>4.0</td>\n",
              "      <td>1.0</td>\n",
              "      <td>322.0</td>\n",
              "      <td>NaN</td>\n",
              "      <td>NaN</td>\n",
              "    </tr>\n",
              "    <tr>\n",
              "      <th>4</th>\n",
              "      <td>1003689</td>\n",
              "      <td>Entire Apt: Spacious Studio/Loft by central park</td>\n",
              "      <td>92037596077</td>\n",
              "      <td>verified</td>\n",
              "      <td>Lyndon</td>\n",
              "      <td>Manhattan</td>\n",
              "      <td>East Harlem</td>\n",
              "      <td>40.79851</td>\n",
              "      <td>-73.94399</td>\n",
              "      <td>United States</td>\n",
              "      <td>...</td>\n",
              "      <td>$41</td>\n",
              "      <td>10.0</td>\n",
              "      <td>9.0</td>\n",
              "      <td>11/19/2018</td>\n",
              "      <td>0.10</td>\n",
              "      <td>3.0</td>\n",
              "      <td>1.0</td>\n",
              "      <td>289.0</td>\n",
              "      <td>Please no smoking in the house, porch or on th...</td>\n",
              "      <td>NaN</td>\n",
              "    </tr>\n",
              "  </tbody>\n",
              "</table>\n",
              "<p>5 rows × 26 columns</p>\n",
              "</div>"
            ],
            "text/plain": [
              "        id                                              NAME      host id  \\\n",
              "0  1001254                Clean & quiet apt home by the park  80014485718   \n",
              "1  1002102                             Skylit Midtown Castle  52335172823   \n",
              "2  1002403               THE VILLAGE OF HARLEM....NEW YORK !  78829239556   \n",
              "3  1002755                                               NaN  85098326012   \n",
              "4  1003689  Entire Apt: Spacious Studio/Loft by central park  92037596077   \n",
              "\n",
              "  host_identity_verified host name neighbourhood group neighbourhood  \\\n",
              "0            unconfirmed  Madaline            Brooklyn    Kensington   \n",
              "1               verified     Jenna           Manhattan       Midtown   \n",
              "2                    NaN     Elise           Manhattan        Harlem   \n",
              "3            unconfirmed     Garry            Brooklyn  Clinton Hill   \n",
              "4               verified    Lyndon           Manhattan   East Harlem   \n",
              "\n",
              "        lat      long        country  ... service fee minimum nights  \\\n",
              "0  40.64749 -73.97237  United States  ...       $193            10.0   \n",
              "1  40.75362 -73.98377  United States  ...        $28            30.0   \n",
              "2  40.80902 -73.94190  United States  ...       $124             3.0   \n",
              "3  40.68514 -73.95976  United States  ...        $74            30.0   \n",
              "4  40.79851 -73.94399  United States  ...        $41            10.0   \n",
              "\n",
              "  number of reviews last review  reviews per month review rate number  \\\n",
              "0               9.0  10/19/2021               0.21                4.0   \n",
              "1              45.0   5/21/2022               0.38                4.0   \n",
              "2               0.0         NaN                NaN                5.0   \n",
              "3             270.0    7/5/2019               4.64                4.0   \n",
              "4               9.0  11/19/2018               0.10                3.0   \n",
              "\n",
              "  calculated host listings count  availability 365  \\\n",
              "0                            6.0             286.0   \n",
              "1                            2.0             228.0   \n",
              "2                            1.0             352.0   \n",
              "3                            1.0             322.0   \n",
              "4                            1.0             289.0   \n",
              "\n",
              "                                         house_rules license  \n",
              "0  Clean up and treat the home the way you'd like...     NaN  \n",
              "1  Pet friendly but please confirm with me if the...     NaN  \n",
              "2  I encourage you to use my kitchen, cooking and...     NaN  \n",
              "3                                                NaN     NaN  \n",
              "4  Please no smoking in the house, porch or on th...     NaN  \n",
              "\n",
              "[5 rows x 26 columns]"
            ]
          },
          "execution_count": 2,
          "metadata": {},
          "output_type": "execute_result"
        }
      ],
      "source": [
        "df = pd.read_csv('Airbnb_Open_Data.csv')\n",
        "df.head()\n"
      ]
    },
    {
      "cell_type": "markdown",
      "metadata": {},
      "source": [
        "# *Checking data stats*"
      ]
    },
    {
      "cell_type": "code",
      "execution_count": 3,
      "metadata": {
        "colab": {
          "base_uri": "https://localhost:8080/"
        },
        "execution": {
          "iopub.execute_input": "2025-03-29T21:28:49.355989Z",
          "iopub.status.busy": "2025-03-29T21:28:49.355489Z",
          "iopub.status.idle": "2025-03-29T21:28:49.475896Z",
          "shell.execute_reply": "2025-03-29T21:28:49.474523Z",
          "shell.execute_reply.started": "2025-03-29T21:28:49.355951Z"
        },
        "id": "_xDjfH3PK2cR",
        "outputId": "c2155b1d-42b1-4f21-e713-9f439c95905f",
        "trusted": true
      },
      "outputs": [
        {
          "name": "stdout",
          "output_type": "stream",
          "text": [
            "<class 'pandas.core.frame.DataFrame'>\n",
            "RangeIndex: 102599 entries, 0 to 102598\n",
            "Data columns (total 26 columns):\n",
            " #   Column                          Non-Null Count   Dtype  \n",
            "---  ------                          --------------   -----  \n",
            " 0   id                              102599 non-null  int64  \n",
            " 1   NAME                            102349 non-null  object \n",
            " 2   host id                         102599 non-null  int64  \n",
            " 3   host_identity_verified          102310 non-null  object \n",
            " 4   host name                       102193 non-null  object \n",
            " 5   neighbourhood group             102570 non-null  object \n",
            " 6   neighbourhood                   102583 non-null  object \n",
            " 7   lat                             102591 non-null  float64\n",
            " 8   long                            102591 non-null  float64\n",
            " 9   country                         102067 non-null  object \n",
            " 10  country code                    102468 non-null  object \n",
            " 11  instant_bookable                102494 non-null  object \n",
            " 12  cancellation_policy             102523 non-null  object \n",
            " 13  room type                       102599 non-null  object \n",
            " 14  Construction year               102385 non-null  float64\n",
            " 15  price                           102352 non-null  object \n",
            " 16  service fee                     102326 non-null  object \n",
            " 17  minimum nights                  102190 non-null  float64\n",
            " 18  number of reviews               102416 non-null  float64\n",
            " 19  last review                     86706 non-null   object \n",
            " 20  reviews per month               86720 non-null   float64\n",
            " 21  review rate number              102273 non-null  float64\n",
            " 22  calculated host listings count  102280 non-null  float64\n",
            " 23  availability 365                102151 non-null  float64\n",
            " 24  house_rules                     50468 non-null   object \n",
            " 25  license                         2 non-null       object \n",
            "dtypes: float64(9), int64(2), object(15)\n",
            "memory usage: 20.4+ MB\n"
          ]
        }
      ],
      "source": [
        "df.info()"
      ]
    },
    {
      "cell_type": "markdown",
      "metadata": {},
      "source": [
        "# *Looking at the columns in the Airbnb Data in United states* "
      ]
    },
    {
      "cell_type": "code",
      "execution_count": 4,
      "metadata": {
        "colab": {
          "base_uri": "https://localhost:8080/"
        },
        "execution": {
          "iopub.execute_input": "2025-03-29T21:28:49.479516Z",
          "iopub.status.busy": "2025-03-29T21:28:49.479232Z",
          "iopub.status.idle": "2025-03-29T21:28:49.486759Z",
          "shell.execute_reply": "2025-03-29T21:28:49.485121Z",
          "shell.execute_reply.started": "2025-03-29T21:28:49.479493Z"
        },
        "id": "dEpVUjCJK2cT",
        "outputId": "d99caa99-ef53-453a-84d0-23de89804802",
        "trusted": true
      },
      "outputs": [
        {
          "data": {
            "text/plain": [
              "Index(['id', 'NAME', 'host id', 'host_identity_verified', 'host name',\n",
              "       'neighbourhood group', 'neighbourhood', 'lat', 'long', 'country',\n",
              "       'country code', 'instant_bookable', 'cancellation_policy', 'room type',\n",
              "       'Construction year', 'price', 'service fee', 'minimum nights',\n",
              "       'number of reviews', 'last review', 'reviews per month',\n",
              "       'review rate number', 'calculated host listings count',\n",
              "       'availability 365', 'house_rules', 'license'],\n",
              "      dtype='object')"
            ]
          },
          "execution_count": 4,
          "metadata": {},
          "output_type": "execute_result"
        }
      ],
      "source": [
        "df.columns"
      ]
    },
    {
      "cell_type": "markdown",
      "metadata": {
        "id": "DULBPi42K2cU"
      },
      "source": [
        "# *Deleting the reduntant columns*"
      ]
    },
    {
      "cell_type": "code",
      "execution_count": 5,
      "metadata": {
        "execution": {
          "iopub.execute_input": "2025-03-29T21:28:49.489394Z",
          "iopub.status.busy": "2025-03-29T21:28:49.488982Z",
          "iopub.status.idle": "2025-03-29T21:28:49.509849Z",
          "shell.execute_reply": "2025-03-29T21:28:49.508764Z",
          "shell.execute_reply.started": "2025-03-29T21:28:49.48936Z"
        },
        "id": "45vin5qGK2cV",
        "trusted": true
      },
      "outputs": [],
      "source": [
        "\n",
        "columns_to_drop = ['license', 'country', 'country code']"
      ]
    },
    {
      "cell_type": "code",
      "execution_count": 6,
      "metadata": {
        "execution": {
          "iopub.execute_input": "2025-03-29T21:28:49.511224Z",
          "iopub.status.busy": "2025-03-29T21:28:49.510944Z",
          "iopub.status.idle": "2025-03-29T21:28:49.549154Z",
          "shell.execute_reply": "2025-03-29T21:28:49.547506Z",
          "shell.execute_reply.started": "2025-03-29T21:28:49.511199Z"
        },
        "id": "erszb904K2cb",
        "trusted": true
      },
      "outputs": [],
      "source": [
        "df.drop(columns=columns_to_drop,inplace=True)"
      ]
    },
    {
      "cell_type": "markdown",
      "metadata": {
        "id": "LnU77jSzK2ci"
      },
      "source": [
        "# *Dropping the duplicates*"
      ]
    },
    {
      "cell_type": "code",
      "execution_count": 7,
      "metadata": {
        "colab": {
          "base_uri": "https://localhost:8080/"
        },
        "execution": {
          "iopub.execute_input": "2025-03-29T21:28:49.607236Z",
          "iopub.status.busy": "2025-03-29T21:28:49.606818Z",
          "iopub.status.idle": "2025-03-29T21:28:49.819783Z",
          "shell.execute_reply": "2025-03-29T21:28:49.818514Z",
          "shell.execute_reply.started": "2025-03-29T21:28:49.607207Z"
        },
        "id": "DPw0etsrK2cj",
        "outputId": "aa70aa97-d819-4f20-b806-d0a16518c321",
        "trusted": true
      },
      "outputs": [
        {
          "data": {
            "text/plain": [
              "541"
            ]
          },
          "execution_count": 7,
          "metadata": {},
          "output_type": "execute_result"
        }
      ],
      "source": [
        "df.duplicated().sum()"
      ]
    },
    {
      "cell_type": "code",
      "execution_count": 8,
      "metadata": {
        "execution": {
          "iopub.execute_input": "2025-03-29T21:28:49.82144Z",
          "iopub.status.busy": "2025-03-29T21:28:49.821058Z",
          "iopub.status.idle": "2025-03-29T21:28:50.06507Z",
          "shell.execute_reply": "2025-03-29T21:28:50.06377Z",
          "shell.execute_reply.started": "2025-03-29T21:28:49.821404Z"
        },
        "id": "5e5g3AEsK2cj",
        "trusted": true
      },
      "outputs": [],
      "source": [
        "df.drop_duplicates(inplace=True)"
      ]
    },
    {
      "cell_type": "code",
      "execution_count": 9,
      "metadata": {
        "colab": {
          "base_uri": "https://localhost:8080/"
        },
        "execution": {
          "iopub.execute_input": "2025-03-29T21:28:50.066359Z",
          "iopub.status.busy": "2025-03-29T21:28:50.066091Z",
          "iopub.status.idle": "2025-03-29T21:28:50.273914Z",
          "shell.execute_reply": "2025-03-29T21:28:50.272692Z",
          "shell.execute_reply.started": "2025-03-29T21:28:50.066336Z"
        },
        "id": "Jv-T1zD2K2ck",
        "outputId": "4e2ed763-cbe7-4922-fe49-f88226cbd155",
        "trusted": true
      },
      "outputs": [
        {
          "data": {
            "text/plain": [
              "0"
            ]
          },
          "execution_count": 9,
          "metadata": {},
          "output_type": "execute_result"
        }
      ],
      "source": [
        "df.duplicated().sum()"
      ]
    },
    {
      "cell_type": "markdown",
      "metadata": {
        "id": "6sJov22VK2ck"
      },
      "source": [
        "# *Removing the NaN values*"
      ]
    },
    {
      "cell_type": "code",
      "execution_count": 10,
      "metadata": {
        "colab": {
          "base_uri": "https://localhost:8080/",
          "height": 774
        },
        "execution": {
          "iopub.execute_input": "2025-03-29T21:28:50.27526Z",
          "iopub.status.busy": "2025-03-29T21:28:50.274982Z",
          "iopub.status.idle": "2025-03-29T21:28:50.35793Z",
          "shell.execute_reply": "2025-03-29T21:28:50.356301Z",
          "shell.execute_reply.started": "2025-03-29T21:28:50.275235Z"
        },
        "id": "snPlQiR6K2cl",
        "outputId": "e91b9ce2-730f-4d9d-dbac-4a2d571c2d0f",
        "trusted": true
      },
      "outputs": [
        {
          "data": {
            "text/plain": [
              "id                                    0\n",
              "NAME                                250\n",
              "host id                               0\n",
              "host_identity_verified              289\n",
              "host name                           404\n",
              "neighbourhood group                  29\n",
              "neighbourhood                        16\n",
              "lat                                   8\n",
              "long                                  8\n",
              "instant_bookable                    105\n",
              "cancellation_policy                  76\n",
              "room type                             0\n",
              "Construction year                   214\n",
              "price                               247\n",
              "service fee                         273\n",
              "minimum nights                      400\n",
              "number of reviews                   183\n",
              "last review                       15832\n",
              "reviews per month                 15818\n",
              "review rate number                  319\n",
              "calculated host listings count      319\n",
              "availability 365                    448\n",
              "house_rules                       51842\n",
              "dtype: int64"
            ]
          },
          "execution_count": 10,
          "metadata": {},
          "output_type": "execute_result"
        }
      ],
      "source": [
        "df.isna().sum()"
      ]
    },
    {
      "cell_type": "code",
      "execution_count": 11,
      "metadata": {
        "execution": {
          "iopub.execute_input": "2025-03-29T21:28:50.359862Z",
          "iopub.status.busy": "2025-03-29T21:28:50.359407Z",
          "iopub.status.idle": "2025-03-29T21:28:50.449615Z",
          "shell.execute_reply": "2025-03-29T21:28:50.448324Z",
          "shell.execute_reply.started": "2025-03-29T21:28:50.359825Z"
        },
        "id": "mfE1dBU3K2co",
        "trusted": true
      },
      "outputs": [],
      "source": [
        "df.dropna(inplace=True)"
      ]
    },
    {
      "cell_type": "code",
      "execution_count": 12,
      "metadata": {
        "colab": {
          "base_uri": "https://localhost:8080/",
          "height": 774
        },
        "execution": {
          "iopub.execute_input": "2025-03-29T21:28:50.451636Z",
          "iopub.status.busy": "2025-03-29T21:28:50.451269Z",
          "iopub.status.idle": "2025-03-29T21:28:50.538274Z",
          "shell.execute_reply": "2025-03-29T21:28:50.537034Z",
          "shell.execute_reply.started": "2025-03-29T21:28:50.451609Z"
        },
        "id": "0CdOHF5eK2ct",
        "outputId": "b8691d5a-b955-48cc-91c7-d1d778af408c",
        "trusted": true
      },
      "outputs": [
        {
          "data": {
            "text/plain": [
              "id                                0\n",
              "NAME                              0\n",
              "host id                           0\n",
              "host_identity_verified            0\n",
              "host name                         0\n",
              "neighbourhood group               0\n",
              "neighbourhood                     0\n",
              "lat                               0\n",
              "long                              0\n",
              "instant_bookable                  0\n",
              "cancellation_policy               0\n",
              "room type                         0\n",
              "Construction year                 0\n",
              "price                             0\n",
              "service fee                       0\n",
              "minimum nights                    0\n",
              "number of reviews                 0\n",
              "last review                       0\n",
              "reviews per month                 0\n",
              "review rate number                0\n",
              "calculated host listings count    0\n",
              "availability 365                  0\n",
              "house_rules                       0\n",
              "dtype: int64"
            ]
          },
          "execution_count": 12,
          "metadata": {},
          "output_type": "execute_result"
        }
      ],
      "source": [
        "df.isna().sum()"
      ]
    },
    {
      "cell_type": "markdown",
      "metadata": {
        "id": "WbB8eJD8K2cu"
      },
      "source": [
        "# *Cleaning individual columns*"
      ]
    },
    {
      "cell_type": "code",
      "execution_count": 13,
      "metadata": {
        "colab": {
          "base_uri": "https://localhost:8080/"
        },
        "execution": {
          "iopub.execute_input": "2025-03-29T21:28:50.566853Z",
          "iopub.status.busy": "2025-03-29T21:28:50.56638Z",
          "iopub.status.idle": "2025-03-29T21:28:50.661404Z",
          "shell.execute_reply": "2025-03-29T21:28:50.659539Z",
          "shell.execute_reply.started": "2025-03-29T21:28:50.566817Z"
        },
        "id": "MwgrFJONK2cw",
        "outputId": "a41031d4-570f-48ee-bc42-368ce9f11ac7",
        "trusted": true
      },
      "outputs": [
        {
          "name": "stdout",
          "output_type": "stream",
          "text": [
            "<class 'pandas.core.frame.DataFrame'>\n",
            "Index: 39551 entries, 0 to 102040\n",
            "Data columns (total 23 columns):\n",
            " #   Column                          Non-Null Count  Dtype  \n",
            "---  ------                          --------------  -----  \n",
            " 0   id                              39551 non-null  int64  \n",
            " 1   NAME                            39551 non-null  object \n",
            " 2   host id                         39551 non-null  int64  \n",
            " 3   host_identity_verified          39551 non-null  object \n",
            " 4   host name                       39551 non-null  object \n",
            " 5   neighbourhood group             39551 non-null  object \n",
            " 6   neighbourhood                   39551 non-null  object \n",
            " 7   lat                             39551 non-null  float64\n",
            " 8   long                            39551 non-null  float64\n",
            " 9   instant_bookable                39551 non-null  object \n",
            " 10  cancellation_policy             39551 non-null  object \n",
            " 11  room type                       39551 non-null  object \n",
            " 12  Construction year               39551 non-null  float64\n",
            " 13  price                           39551 non-null  object \n",
            " 14  service fee                     39551 non-null  object \n",
            " 15  minimum nights                  39551 non-null  float64\n",
            " 16  number of reviews               39551 non-null  float64\n",
            " 17  last review                     39551 non-null  object \n",
            " 18  reviews per month               39551 non-null  float64\n",
            " 19  review rate number              39551 non-null  float64\n",
            " 20  calculated host listings count  39551 non-null  float64\n",
            " 21  availability 365                39551 non-null  float64\n",
            " 22  house_rules                     39551 non-null  object \n",
            "dtypes: float64(9), int64(2), object(12)\n",
            "memory usage: 7.2+ MB\n"
          ]
        }
      ],
      "source": [
        "df.info()"
      ]
    },
    {
      "cell_type": "markdown",
      "metadata": {
        "id": "R6koZUNwK2cx"
      },
      "source": [
        "## Service fee"
      ]
    },
    {
      "cell_type": "code",
      "execution_count": 14,
      "metadata": {
        "colab": {
          "base_uri": "https://localhost:8080/",
          "height": 458
        },
        "execution": {
          "iopub.execute_input": "2025-03-29T21:28:50.663582Z",
          "iopub.status.busy": "2025-03-29T21:28:50.662881Z",
          "iopub.status.idle": "2025-03-29T21:28:50.672495Z",
          "shell.execute_reply": "2025-03-29T21:28:50.671159Z",
          "shell.execute_reply.started": "2025-03-29T21:28:50.66354Z"
        },
        "id": "PxHWE_aCK2cz",
        "outputId": "72cbe0e2-30cb-4b3b-9179-a429a6d6cf9c",
        "trusted": true
      },
      "outputs": [
        {
          "data": {
            "text/plain": [
              "0         $193 \n",
              "1          $28 \n",
              "4          $41 \n",
              "5         $115 \n",
              "7         $212 \n",
              "          ...  \n",
              "102025    $176 \n",
              "102028    $199 \n",
              "102029    $164 \n",
              "102031    $216 \n",
              "102040    $196 \n",
              "Name: service fee, Length: 39551, dtype: object"
            ]
          },
          "execution_count": 14,
          "metadata": {},
          "output_type": "execute_result"
        }
      ],
      "source": [
        "df['service fee']"
      ]
    },
    {
      "cell_type": "code",
      "execution_count": 15,
      "metadata": {
        "execution": {
          "iopub.execute_input": "2025-03-29T21:28:50.701383Z",
          "iopub.status.busy": "2025-03-29T21:28:50.701019Z",
          "iopub.status.idle": "2025-03-29T21:28:50.924929Z",
          "shell.execute_reply": "2025-03-29T21:28:50.923582Z",
          "shell.execute_reply.started": "2025-03-29T21:28:50.701352Z"
        },
        "id": "5rStN20uK2dG",
        "trusted": true
      },
      "outputs": [
        {
          "data": {
            "text/plain": [
              "0         193 \n",
              "1          28 \n",
              "4          41 \n",
              "5         115 \n",
              "7         212 \n",
              "          ... \n",
              "102025    176 \n",
              "102028    199 \n",
              "102029    164 \n",
              "102031    216 \n",
              "102040    196 \n",
              "Name: service fee, Length: 39551, dtype: object"
            ]
          },
          "execution_count": 15,
          "metadata": {},
          "output_type": "execute_result"
        }
      ],
      "source": [
        "df['service fee'] = df['service fee'].str.split('$').str[1]\n",
        "df['service fee']"
      ]
    },
    {
      "cell_type": "markdown",
      "metadata": {
        "id": "EN0aWN8mK2dM"
      },
      "source": [
        "## Price"
      ]
    },
    {
      "cell_type": "code",
      "execution_count": 16,
      "metadata": {
        "colab": {
          "base_uri": "https://localhost:8080/",
          "height": 458
        },
        "execution": {
          "iopub.execute_input": "2025-03-29T21:28:51.044256Z",
          "iopub.status.busy": "2025-03-29T21:28:51.043876Z",
          "iopub.status.idle": "2025-03-29T21:28:51.053373Z",
          "shell.execute_reply": "2025-03-29T21:28:51.052125Z",
          "shell.execute_reply.started": "2025-03-29T21:28:51.044222Z"
        },
        "id": "Fn1Fd3PLK2dN",
        "outputId": "0b9efa8a-f8dd-4cf1-fb72-e460335a5ae4",
        "trusted": true
      },
      "outputs": [
        {
          "data": {
            "text/plain": [
              "0           $966 \n",
              "1           $142 \n",
              "4           $204 \n",
              "5           $577 \n",
              "7         $1,060 \n",
              "           ...   \n",
              "102025      $878 \n",
              "102028      $994 \n",
              "102029      $822 \n",
              "102031    $1,078 \n",
              "102040      $982 \n",
              "Name: price, Length: 39551, dtype: object"
            ]
          },
          "execution_count": 16,
          "metadata": {},
          "output_type": "execute_result"
        }
      ],
      "source": [
        "df['price']"
      ]
    },
    {
      "cell_type": "code",
      "execution_count": 17,
      "metadata": {
        "execution": {
          "iopub.execute_input": "2025-03-29T21:28:51.082737Z",
          "iopub.status.busy": "2025-03-29T21:28:51.082376Z",
          "iopub.status.idle": "2025-03-29T21:28:51.332167Z",
          "shell.execute_reply": "2025-03-29T21:28:51.330854Z",
          "shell.execute_reply.started": "2025-03-29T21:28:51.082707Z"
        },
        "id": "hLLR-6XWK2dP",
        "trusted": true
      },
      "outputs": [
        {
          "data": {
            "text/plain": [
              "0          966 \n",
              "1          142 \n",
              "4          204 \n",
              "5          577 \n",
              "7         1060 \n",
              "          ...  \n",
              "102025     878 \n",
              "102028     994 \n",
              "102029     822 \n",
              "102031    1078 \n",
              "102040     982 \n",
              "Name: price, Length: 39551, dtype: object"
            ]
          },
          "execution_count": 17,
          "metadata": {},
          "output_type": "execute_result"
        }
      ],
      "source": [
        "df['price'] = df['price'].str.split('$').str[1].str.replace(',','')\n",
        "df['price']"
      ]
    },
    {
      "cell_type": "code",
      "execution_count": 18,
      "metadata": {},
      "outputs": [
        {
          "data": {
            "text/html": [
              "<div>\n",
              "<style scoped>\n",
              "    .dataframe tbody tr th:only-of-type {\n",
              "        vertical-align: middle;\n",
              "    }\n",
              "\n",
              "    .dataframe tbody tr th {\n",
              "        vertical-align: top;\n",
              "    }\n",
              "\n",
              "    .dataframe thead th {\n",
              "        text-align: right;\n",
              "    }\n",
              "</style>\n",
              "<table border=\"1\" class=\"dataframe\">\n",
              "  <thead>\n",
              "    <tr style=\"text-align: right;\">\n",
              "      <th></th>\n",
              "      <th>id</th>\n",
              "      <th>NAME</th>\n",
              "      <th>host id</th>\n",
              "      <th>host_identity_verified</th>\n",
              "      <th>host name</th>\n",
              "      <th>neighbourhood group</th>\n",
              "      <th>neighbourhood</th>\n",
              "      <th>lat</th>\n",
              "      <th>long</th>\n",
              "      <th>instant_bookable</th>\n",
              "      <th>...</th>\n",
              "      <th>price</th>\n",
              "      <th>service fee</th>\n",
              "      <th>minimum nights</th>\n",
              "      <th>number of reviews</th>\n",
              "      <th>last review</th>\n",
              "      <th>reviews per month</th>\n",
              "      <th>review rate number</th>\n",
              "      <th>calculated host listings count</th>\n",
              "      <th>availability 365</th>\n",
              "      <th>house_rules</th>\n",
              "    </tr>\n",
              "  </thead>\n",
              "  <tbody>\n",
              "    <tr>\n",
              "      <th>0</th>\n",
              "      <td>1001254</td>\n",
              "      <td>Clean &amp; quiet apt home by the park</td>\n",
              "      <td>80014485718</td>\n",
              "      <td>unconfirmed</td>\n",
              "      <td>Madaline</td>\n",
              "      <td>Brooklyn</td>\n",
              "      <td>Kensington</td>\n",
              "      <td>40.64749</td>\n",
              "      <td>-73.97237</td>\n",
              "      <td>False</td>\n",
              "      <td>...</td>\n",
              "      <td>966</td>\n",
              "      <td>193</td>\n",
              "      <td>10.0</td>\n",
              "      <td>9.0</td>\n",
              "      <td>10/19/2021</td>\n",
              "      <td>0.21</td>\n",
              "      <td>4.0</td>\n",
              "      <td>6.0</td>\n",
              "      <td>286.0</td>\n",
              "      <td>Clean up and treat the home the way you'd like...</td>\n",
              "    </tr>\n",
              "  </tbody>\n",
              "</table>\n",
              "<p>1 rows × 23 columns</p>\n",
              "</div>"
            ],
            "text/plain": [
              "        id                                NAME      host id  \\\n",
              "0  1001254  Clean & quiet apt home by the park  80014485718   \n",
              "\n",
              "  host_identity_verified host name neighbourhood group neighbourhood  \\\n",
              "0            unconfirmed  Madaline            Brooklyn    Kensington   \n",
              "\n",
              "        lat      long instant_bookable  ... price service fee  minimum nights  \\\n",
              "0  40.64749 -73.97237            False  ...  966         193             10.0   \n",
              "\n",
              "  number of reviews last review  reviews per month  review rate number  \\\n",
              "0               9.0  10/19/2021               0.21                 4.0   \n",
              "\n",
              "  calculated host listings count  availability 365  \\\n",
              "0                            6.0             286.0   \n",
              "\n",
              "                                         house_rules  \n",
              "0  Clean up and treat the home the way you'd like...  \n",
              "\n",
              "[1 rows x 23 columns]"
            ]
          },
          "execution_count": 18,
          "metadata": {},
          "output_type": "execute_result"
        }
      ],
      "source": [
        "df.head(1)"
      ]
    },
    {
      "cell_type": "markdown",
      "metadata": {},
      "source": [
        "# *Create a new csv file with cleaned data*"
      ]
    },
    {
      "cell_type": "code",
      "execution_count": 19,
      "metadata": {
        "id": "ZcqBIZhbPRo7"
      },
      "outputs": [],
      "source": [
        "df.to_csv('updated_airbnb_data.csv', index=False)\n"
      ]
    },
    {
      "cell_type": "markdown",
      "metadata": {},
      "source": [
        "# *Create the airbnb_nyc schema*"
      ]
    },
    {
      "cell_type": "code",
      "execution_count": 20,
      "metadata": {},
      "outputs": [],
      "source": [
        "import mysql.connector\n",
        "import pandas as pd\n",
        "\n",
        "conn = mysql.connector.connect(\n",
        "    host=\"127.0.0.1\",\n",
        "    user=\"root\",\n",
        "    password=\"Bonakele.1\"\n",
        ")\n",
        "cursor = conn.cursor()\n",
        "\n",
        "# Create and select the database FIRST\n",
        "cursor.execute(\"CREATE DATABASE IF NOT EXISTS airbnb_nyc\")\n",
        "cursor.execute(\"USE airbnb_nyc\")"
      ]
    },
    {
      "cell_type": "markdown",
      "metadata": {},
      "source": [
        "## Create tables in schema\n",
        "- Come up with table and column names\n",
        "- Insert values for tables with unique and few rows\n",
        "- Upload cleaned airbnb_nyc df for schema creation\n",
        "- Standardize column names"
      ]
    },
    {
      "cell_type": "code",
      "execution_count": 21,
      "metadata": {},
      "outputs": [],
      "source": [
        "# Neighbourhood Groups\n",
        "cursor.execute(\"\"\"\n",
        "CREATE TABLE IF NOT EXISTS neighbourhood_groups (\n",
        "    neighbourhood_group_id INT AUTO_INCREMENT PRIMARY KEY,\n",
        "    neighbourhood_group VARCHAR(50) NOT NULL UNIQUE\n",
        ")\n",
        "\"\"\")\n",
        "\n",
        "# Neighbourhoods\n",
        "cursor.execute(\"\"\"\n",
        "CREATE TABLE IF NOT EXISTS neighbourhoods (\n",
        "    neighbourhood_id INT AUTO_INCREMENT PRIMARY KEY,\n",
        "    neighbourhood VARCHAR(200) NOT NULL,\n",
        "    neighbourhood_group_id INT NOT NULL,\n",
        "    UNIQUE (neighbourhood, neighbourhood_group_id),\n",
        "    FOREIGN KEY (neighbourhood_group_id) REFERENCES neighbourhood_groups(neighbourhood_group_id)\n",
        ")\n",
        "\"\"\")\n",
        "\n",
        "# Room Types\n",
        "cursor.execute(\"\"\"\n",
        "CREATE TABLE IF NOT EXISTS room_types (\n",
        "    room_type_id INT AUTO_INCREMENT PRIMARY KEY,\n",
        "    type VARCHAR(50) NOT NULL UNIQUE\n",
        ")\n",
        "\"\"\")\n",
        "\n",
        "# Cancellation Policies\n",
        "cursor.execute(\"\"\"\n",
        "CREATE TABLE IF NOT EXISTS cancellation_policies (\n",
        "    cancellation_policy_id INT AUTO_INCREMENT PRIMARY KEY,\n",
        "    policy VARCHAR(50) NOT NULL UNIQUE\n",
        ")\n",
        "\"\"\")\n",
        "\n",
        "# Hosts\n",
        "cursor.execute(\"\"\"\n",
        "CREATE TABLE IF NOT EXISTS hosts (\n",
        "    host_id BIGINT PRIMARY KEY,\n",
        "    host VARCHAR(100),\n",
        "    identity_verified VARCHAR(20)\n",
        ")\n",
        "\"\"\")\n",
        "\n",
        "# Listings\n",
        "cursor.execute(\"\"\"\n",
        "CREATE TABLE IF NOT EXISTS listings (\n",
        "    listing_id BIGINT PRIMARY KEY,\n",
        "    listing VARCHAR(255),\n",
        "    host_id BIGINT NOT NULL,\n",
        "    neighbourhood_id INT,\n",
        "    latitude DECIMAL(10, 8),\n",
        "    longitude DECIMAL(11, 8),\n",
        "    room_type_id INT,\n",
        "    construction_year INT,\n",
        "    price DECIMAL(10, 2),\n",
        "    service_fee DECIMAL(10, 2),\n",
        "    minimum_nights INT,\n",
        "    number_of_reviews INT,\n",
        "    last_review DATE,\n",
        "    reviews_per_month DECIMAL(5, 2),\n",
        "    review_rate_number INT,\n",
        "    calculated_host_listings_count INT,\n",
        "    availability_365 INT,\n",
        "    instant_bookable BOOLEAN,\n",
        "    cancellation_policy_id INT,\n",
        "    house_rules TEXT,\n",
        "    FOREIGN KEY (host_id) REFERENCES hosts(host_id),\n",
        "    FOREIGN KEY (neighbourhood_id) REFERENCES neighbourhoods(neighbourhood_id),\n",
        "    FOREIGN KEY (room_type_id) REFERENCES room_types(room_type_id),\n",
        "    FOREIGN KEY (cancellation_policy_id) REFERENCES cancellation_policies(cancellation_policy_id)\n",
        ")\n",
        "\"\"\")\n",
        "\n",
        "cursor.execute(\"INSERT IGNORE INTO neighbourhood_groups (neighbourhood_group) VALUES ('Brooklyn'), ('Manhattan'), ('Queens'), ('Bronx'), ('Staten Island')\")\n",
        "cursor.execute(\"INSERT IGNORE INTO room_types (type) VALUES ('Private room'), ('Entire home/apt'), ('Shared room')\")\n",
        "cursor.execute(\"INSERT IGNORE INTO cancellation_policies (policy) VALUES ('strict'), ('moderate'), ('flexible')\")\n",
        "conn.commit()\n",
        "\n",
        "df = pd.read_csv(\"updated_airbnb_data.csv\")\n",
        "\n",
        "# Standardize column names\n",
        "df.columns = [col.strip().lower().replace(\" \", \"_\") for col in df.columns]"
      ]
    },
    {
      "cell_type": "markdown",
      "metadata": {},
      "source": [
        "# Insert values in tables \n",
        "\n",
        "- Insert values for tables with more rows\n",
        "- Using cleaned airbnb_nyc df"
      ]
    },
    {
      "cell_type": "code",
      "execution_count": 22,
      "metadata": {},
      "outputs": [],
      "source": [
        "# Insert unique neighbourhoods\n",
        "neighbourhoods = df[['neighbourhood', 'neighbourhood_group']].drop_duplicates()\n",
        "\n",
        "for _, row in neighbourhoods.iterrows():\n",
        "    group_name = row['neighbourhood_group']\n",
        "    if pd.notnull(group_name):  # Skip if it's NaN\n",
        "        group_name = str(group_name)  # Convert to string just in case\n",
        "        cursor.execute(\"SELECT neighbourhood_group_id FROM neighbourhood_groups WHERE neighbourhood_group = %s\", (group_name,))\n",
        "        group_id = cursor.fetchone()\n",
        "        if group_id:\n",
        "            # Now insert into neighbourhoods table\n",
        "            cursor.execute(\"\"\"\n",
        "                INSERT IGNORE INTO neighbourhoods (neighbourhood, neighbourhood_group_id)\n",
        "                VALUES (%s, %s)\n",
        "            \"\"\", (row['neighbourhood'], group_id[0]))\n",
        "\n",
        "# Insert unique hosts  \n",
        "hosts = df[['host_id', 'host_name', 'host_identity_verified']].drop_duplicates()\n",
        "\n",
        "# Ensure types are correct\n",
        "hosts['host_id'] = hosts['host_id'].astype(int)\n",
        "hosts['host_name'] = hosts['host_name'].astype(str)\n",
        "hosts['host_identity_verified'] = hosts['host_identity_verified'].astype(str)\n",
        "\n",
        "# Now insert\n",
        "for _, row in hosts.iterrows():\n",
        "    cursor.execute(\"\"\"\n",
        "        INSERT IGNORE INTO hosts (host_id, host, identity_verified)\n",
        "        VALUES (%s, %s, %s)\n",
        "    \"\"\", (row['host_id'], row['host_name'], row['host_identity_verified']))\n",
        "\n",
        "# Insert unique listings\n",
        "df_clean = df.dropna(subset=['neighbourhood', 'room_type', 'cancellation_policy', 'host_name'])\n",
        "\n",
        "# Ensure all lookup columns are the correct types\n",
        "df_clean['neighbourhood'] = df_clean['neighbourhood'].astype(str)\n",
        "df_clean['room_type'] = df_clean['room_type'].astype(str)\n",
        "df_clean['cancellation_policy'] = df_clean['cancellation_policy'].astype(str)\n",
        "df_clean['host_name'] = df_clean['host_name'].astype(str)\n",
        "\n",
        "# Insert listings\n",
        "for _, row in df_clean.iterrows():\n",
        "    cursor.execute(\"SELECT neighbourhood_id FROM neighbourhoods WHERE neighbourhood = %s\", (row['neighbourhood'],))\n",
        "    neighbourhood_id = cursor.fetchone()\n",
        "\n",
        "    cursor.execute(\"SELECT room_type_id FROM room_types WHERE type = %s\", (row['room_type'],))\n",
        "    room_type_id = cursor.fetchone()\n",
        "\n",
        "    cursor.execute(\"SELECT cancellation_policy_id FROM cancellation_policies WHERE policy = %s\", (row['cancellation_policy'],))\n",
        "    cancellation_policy_id = cursor.fetchone()\n",
        "\n",
        "    # Insert listing\n",
        "    cursor.execute(\"\"\"\n",
        "        INSERT IGNORE INTO listings (\n",
        "            listing_id, listing, host_id, neighbourhood_id, latitude, longitude,\n",
        "            room_type_id, construction_year, price, service_fee,\n",
        "            minimum_nights, number_of_reviews, last_review, reviews_per_month,\n",
        "            review_rate_number, calculated_host_listings_count, availability_365,\n",
        "            instant_bookable, cancellation_policy_id, house_rules\n",
        "        )\n",
        "        VALUES (%s, %s, %s, %s, %s, %s, %s, %s, %s, %s, %s, %s, %s, %s, %s, %s, %s, %s, %s, %s)\n",
        "    \"\"\", (\n",
        "        row['id'], row['name'], row['host_id'], neighbourhood_id[0] if neighbourhood_id else None,\n",
        "        row['lat'], row['long'], room_type_id[0] if room_type_id else None,\n",
        "        row['construction_year'], row['price'], row['service_fee'],\n",
        "        row['minimum_nights'], row['number_of_reviews'], row['last_review'],\n",
        "        row['reviews_per_month'], row['review_rate_number'],\n",
        "        row['calculated_host_listings_count'], row['availability_365'],\n",
        "        bool(row['instant_bookable']), cancellation_policy_id[0] if cancellation_policy_id else None,\n",
        "        row['house_rules']\n",
        "    ))\n",
        "\n",
        "conn.commit()"
      ]
    },
    {
      "cell_type": "markdown",
      "metadata": {},
      "source": [
        "# *Create Database file*"
      ]
    },
    {
      "cell_type": "code",
      "execution_count": 23,
      "metadata": {},
      "outputs": [
        {
          "name": "stderr",
          "output_type": "stream",
          "text": [
            "C:\\Users\\bonas\\AppData\\Local\\Temp\\ipykernel_8856\\3943947059.py:25: UserWarning: pandas only supports SQLAlchemy connectable (engine/connection) or database string URI or sqlite3 DBAPI2 connection. Other DBAPI2 objects are not tested. Please consider using SQLAlchemy.\n",
            "  df = pd.read_sql(f\"SELECT * FROM {table}\", mysql_conn)\n"
          ]
        },
        {
          "name": "stdout",
          "output_type": "stream",
          "text": [
            "Transferred table: neighbourhood_groups\n",
            "Transferred table: neighbourhoods\n",
            "Transferred table: room_types\n",
            "Transferred table: cancellation_policies\n",
            "Transferred table: hosts\n",
            "Transferred table: listings\n"
          ]
        }
      ],
      "source": [
        "# Connect to MySQL\n",
        "mysql_conn = mysql.connector.connect(\n",
        "    host=\"127.0.0.1\",\n",
        "    user=\"root\",\n",
        "    password=\"Bonakele.1\",\n",
        "    database=\"airbnb_nyc\"\n",
        ")\n",
        "mysql_cursor = mysql_conn.cursor()\n",
        "\n",
        "# Connect to SQLite (creates airbnb_nyc.db if it doesn't exist)\n",
        "sqlite_conn = sqlite3.connect(\"airbnb_nyc.db\")\n",
        "\n",
        "# List of table names to transfer\n",
        "tables = [\n",
        "    \"neighbourhood_groups\",\n",
        "    \"neighbourhoods\",\n",
        "    \"room_types\",\n",
        "    \"cancellation_policies\",\n",
        "    \"hosts\",\n",
        "    \"listings\"\n",
        "]\n",
        "\n",
        "# Transfer each table from MySQL to SQLite\n",
        "for table in tables:\n",
        "    df = pd.read_sql(f\"SELECT * FROM {table}\", mysql_conn)\n",
        "    df.to_sql(table, sqlite_conn, if_exists=\"replace\", index=False)\n",
        "    print(f\"Transferred table: {table}\")\n",
        "\n",
        "# Close connections\n",
        "mysql_cursor.close()\n",
        "mysql_conn.close()\n",
        "sqlite_conn.close()"
      ]
    },
    {
      "cell_type": "code",
      "execution_count": 24,
      "metadata": {},
      "outputs": [
        {
          "name": "stdout",
          "output_type": "stream",
          "text": [
            "Opened SQLite database with version 3.49.1 successfully.\n"
          ]
        },
        {
          "data": {
            "text/html": [
              "<div>\n",
              "<style scoped>\n",
              "    .dataframe tbody tr th:only-of-type {\n",
              "        vertical-align: middle;\n",
              "    }\n",
              "\n",
              "    .dataframe tbody tr th {\n",
              "        vertical-align: top;\n",
              "    }\n",
              "\n",
              "    .dataframe thead th {\n",
              "        text-align: right;\n",
              "    }\n",
              "</style>\n",
              "<table border=\"1\" class=\"dataframe\">\n",
              "  <thead>\n",
              "    <tr style=\"text-align: right;\">\n",
              "      <th></th>\n",
              "      <th>name</th>\n",
              "    </tr>\n",
              "  </thead>\n",
              "  <tbody>\n",
              "    <tr>\n",
              "      <th>0</th>\n",
              "      <td>neighbourhood_groups</td>\n",
              "    </tr>\n",
              "    <tr>\n",
              "      <th>1</th>\n",
              "      <td>neighbourhoods</td>\n",
              "    </tr>\n",
              "    <tr>\n",
              "      <th>2</th>\n",
              "      <td>room_types</td>\n",
              "    </tr>\n",
              "    <tr>\n",
              "      <th>3</th>\n",
              "      <td>cancellation_policies</td>\n",
              "    </tr>\n",
              "    <tr>\n",
              "      <th>4</th>\n",
              "      <td>hosts</td>\n",
              "    </tr>\n",
              "    <tr>\n",
              "      <th>5</th>\n",
              "      <td>listings</td>\n",
              "    </tr>\n",
              "  </tbody>\n",
              "</table>\n",
              "</div>"
            ],
            "text/plain": [
              "                    name\n",
              "0   neighbourhood_groups\n",
              "1         neighbourhoods\n",
              "2             room_types\n",
              "3  cancellation_policies\n",
              "4                  hosts\n",
              "5               listings"
            ]
          },
          "execution_count": 24,
          "metadata": {},
          "output_type": "execute_result"
        }
      ],
      "source": [
        "# Load your database and create a database connection.\n",
        "# You can connect to the sql database in any way you wish. \n",
        "# Use this method if you are unsure how to proceed. \n",
        "# Ensure the bike_store.db file is in the same directory as this notebook.\n",
        "try:\n",
        "    with sqlite3.connect(\"airbnb_nyc.db\") as conn:\n",
        "        print(f\"Opened SQLite database with version {sqlite3.sqlite_version} successfully.\")\n",
        "\n",
        "except sqlite3.OperationalError as e:\n",
        "    print(\"Failed to open database:\", e)\n",
        "\n",
        "# List all tables in the database\n",
        "pd.read_sql('''SELECT name FROM sqlite_master WHERE type='table';''',conn)     #Does the same thing"
      ]
    }
  ],
  "metadata": {
    "colab": {
      "provenance": []
    },
    "kaggle": {
      "accelerator": "none",
      "dataSources": [
        {
          "datasetId": 2380415,
          "sourceId": 4016336,
          "sourceType": "datasetVersion"
        }
      ],
      "dockerImageVersionId": 30918,
      "isGpuEnabled": false,
      "isInternetEnabled": false,
      "language": "python",
      "sourceType": "notebook"
    },
    "kernelspec": {
      "display_name": "base",
      "language": "python",
      "name": "python3"
    },
    "language_info": {
      "codemirror_mode": {
        "name": "ipython",
        "version": 3
      },
      "file_extension": ".py",
      "mimetype": "text/x-python",
      "name": "python",
      "nbconvert_exporter": "python",
      "pygments_lexer": "ipython3",
      "version": "3.12.3"
    }
  },
  "nbformat": 4,
  "nbformat_minor": 0
}
