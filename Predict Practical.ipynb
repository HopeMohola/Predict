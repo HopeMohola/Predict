{
 "cells": [
  {
   "cell_type": "markdown",
   "id": "14837ee5-3925-46e1-b250-397243f6e773",
   "metadata": {},
   "source": [
    "# 1. Project Introduction\n",
    "    - Brief overview of the project\n",
    "In this project, you’ll step into the role of a junior data analyst at CityBnB, a company analyzing Airbnb listings in San Francisco. Your job is to work with a real-world dataset, write SQL queries, and uncover valuable insights to support both business and public decision-making.You’ll explore questions related to neighborhoods, pricing, availability, reviews, and host behavior — all using SQL in a hands-on, practical way.\n",
    "    \n",
    "    - Problem statement\n",
    "            You are a junior data analyst at CityBnB, a company studying Airbnb trends in San Francisco. Your manager has asked you to analyze the Airbnb listings data to uncover insights that can support business decisions and local policy planning.\n",
    "            Your task is to use SQL to answer real-world questions about:\n",
    "                    - Neighborhood performance\n",
    "                    - Pricing patterns\n",
    "                    - Host activity\n",
    "                    - Listing availability\n",
    "                    - Review behavior\n",
    "            This project simulates a real-world scenario where you’ll need to:\n",
    "                    - Clean and explore raw data\n",
    "                    - Write SQL queries to generate insights\n",
    "                    - Help stakeholders understand what’s happening in the short-term rental market\n",
    "            The insights you provide will help CityBnB:\n",
    "                    - Improve guest experiences\n",
    "                    - Assist local authorities with regulation\n",
    "                    - Support hosts in optimizing their listings\n",
    "\n",
    "    - What learners will accomplish by the end\n",
    "                    - Write and execute SQL queries using real-world datasets\n",
    "                    - Analyze trends in pricing, reviews, and listing availability\n",
    "                    - Group, filter, and sort data using SQL functions\n",
    "                    - Apply business-thinking to real data problems\n",
    "                    - Build confidence in using SQL for data exploration"
   ]
  },
  {
   "cell_type": "markdown",
   "id": "9d9bf9c2-f5c4-453d-aafb-0e94e3d2befa",
   "metadata": {},
   "source": [
    "# 2. Dataset Overview\n",
    "            - Describe the dataset (source, size, key columns)\n",
    "            - Mention any issues (e.g. price formatting, missing values)"
   ]
  },
  {
   "cell_type": "markdown",
   "id": "ccccf96f-439b-4098-99af-0f22ce0134c2",
   "metadata": {},
   "source": [
    "# 3. Data Cleaning\n",
    "            - Clean or transform key columns\n",
    "            - Drop null values, format dates if necessary"
   ]
  },
  {
   "cell_type": "markdown",
   "id": "d9c681ee-d640-4bed-b30f-b203622826a6",
   "metadata": {},
   "source": [
    "# 4. Database Setup\n",
    "            - Load the cleaned dataset into a SQL engine (SQLite)\n",
    "            - Show a few example SQL queries to check data loaded correctly"
   ]
  },
  {
   "cell_type": "markdown",
   "id": "7179cbfc-aa05-469d-87ce-1368597d2d4a",
   "metadata": {},
   "source": [
    "# 5. Student Tasks (Predicts)\n",
    "            - A short question or scenario in a separate markdown cell\n",
    "            - A code cell where the student writes SQL and a prompt to tell them\n",
    "            - A solution cell (in the meantime it can be in this notebook but we will later create a separate notebook for that)"
   ]
  },
  {
   "cell_type": "code",
   "execution_count": null,
   "id": "43679352-626e-4f68-9038-cef5df3222ed",
   "metadata": {},
   "outputs": [],
   "source": []
  }
 ],
 "metadata": {
  "kernelspec": {
   "display_name": "Python 3 (ipykernel)",
   "language": "python",
   "name": "python3"
  },
  "language_info": {
   "codemirror_mode": {
    "name": "ipython",
    "version": 3
   },
   "file_extension": ".py",
   "mimetype": "text/x-python",
   "name": "python",
   "nbconvert_exporter": "python",
   "pygments_lexer": "ipython3",
   "version": "3.12.4"
  }
 },
 "nbformat": 4,
 "nbformat_minor": 5
}
