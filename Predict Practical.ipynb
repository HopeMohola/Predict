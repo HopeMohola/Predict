{
 "cells": [
  {
   "cell_type": "code",
   "execution_count": null,
   "id": "d125e923-128d-41b8-a605-260986fd652f",
   "metadata": {},
   "source": [
    "#### SQL Query 1: Top 10 Neighbourhoods by Average Listing Price\n",
    "\n",
    "#### This query helps identify the most expensive areas to stay in San Francisco.\n",
    "#### It calculates the average price of listings per neighbourhood, excluding free or zero-priced listings,\n",
    "#### and returns the top 10 neighbourhoods with the highest average prices.\n",
    "\n",
    "\n"
   ]
  },
  {
   "cell_type": "code",
   "execution_count": null,
   "id": "c107cbe2",
   "metadata": {
    "vscode": {
     "languageId": "plaintext"
    }
   },
   "outputs": [],
   "source": [
    "query1 = '''\n",
    "SELECT \n",
    "    neighbourhood, \n",
    "    AVG(price) AS average_price\n",
    "FROM \n",
    "    listings\n",
    "WHERE \n",
    "    price > 0\n",
    "GROUP BY \n",
    "    neighbourhood\n",
    "ORDER BY \n",
    "    average_price DESC\n",
    "LIMIT 10;\n",
    "'''"
   ]
  }
 ],
 "metadata": {
  "kernelspec": {
   "display_name": "Python 3 (ipykernel)",
   "language": "python",
   "name": "python3"
  },
  "language_info": {
   "codemirror_mode": {
    "name": "ipython",
    "version": 3
   },
   "file_extension": ".py",
   "mimetype": "text/x-python",
   "name": "python",
   "nbconvert_exporter": "python",
   "pygments_lexer": "ipython3",
   "version": "3.12.4"
  }
 },
 "nbformat": 4,
 "nbformat_minor": 5
}
