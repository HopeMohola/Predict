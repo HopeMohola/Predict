{
 "cells": [
  {
   "cell_type": "markdown",
   "id": "19b76045",
   "metadata": {},
   "source": [
    "## 1. Neighborhood Listing Saturation\n",
    "\n",
    "To begin mapping the scope of Airbnb in San Francisco, you are tasked with finding out how listings are distributed across neighborhoods. CityBnB wants to understand the saturation level in each area to identify where Airbnb might be displacing long-term residents. Use SQL to find which neighborhoods have the most listings."
   ]
  },
  {
   "cell_type": "code",
   "execution_count": null,
   "id": "17d5b206",
   "metadata": {},
   "outputs": [],
   "source": [
    "SELECT neighbourhood, COUNT(*) AS listing_count\n",
    "FROM listings\n",
    "GROUP BY neighbourhood\n",
    "ORDER BY listing_count DESC;"
   ]
  },
  {
   "cell_type": "code",
   "execution_count": null,
   "id": "34e726c5",
   "metadata": {},
   "outputs": [],
   "source": [
    "SELECT neighbourhood, COUNT(id) AS total_listings\n",
    "FROM listings\n",
    "GROUP BY neighbourhood\n",
    "HAVING COUNT(id) > 50\n",
    "ORDER BY total_listings DESC;"
   ]
  },
  {
   "cell_type": "markdown",
   "id": "582f8dd0",
   "metadata": {},
   "source": [
    "## 2. High-Priced Listings by Neighborhood\n",
    "\n",
    "CityBnB suspects that certain listings in traditionally touristic areas are being priced far beyond what locals can afford. These listings may be driving gentrification or are managed by commercial operators. Identify where the most expensive listings are located and what neighborhoods they belong to."
   ]
  },
  {
   "cell_type": "code",
   "execution_count": null,
   "id": "a8bb1ef5",
   "metadata": {},
   "outputs": [],
   "source": [
    "SELECT l.id, l.name, n.neighbourhood, l.price\n",
    "FROM listings l\n",
    "JOIN neighbourhoods n ON l.neighbourhood_id = n.id\n",
    "ORDER BY l.price DESC\n",
    "LIMIT 10;"
   ]
  },
  {
   "cell_type": "code",
   "execution_count": null,
   "id": "d1c64663",
   "metadata": {},
   "outputs": [],
   "source": [
    "SELECT neighbourhood, MAX(price) AS highest_price\n",
    "FROM listings\n",
    "GROUP BY neighbourhood\n",
    "ORDER BY highest_price DESC;"
   ]
  },
  {
   "cell_type": "markdown",
   "id": "1436c699",
   "metadata": {},
   "source": [
    "## 3. Room Type Distribution by Neighborhood\n",
    "\n",
    "You’re now investigating whether Airbnb is still about sharing homes or if entire homes are now dominating the platform. By analyzing the prevalence of room types by neighborhood, CityBnB can understand if the platform is moving away from its original intent."
   ]
  },
  {
   "cell_type": "code",
   "execution_count": null,
   "id": "3f2a6955",
   "metadata": {},
   "outputs": [],
   "source": [
    "SELECT neighbourhood, room_type, COUNT(*) AS total\n",
    "FROM listings\n",
    "GROUP BY neighbourhood, room_type\n",
    "ORDER BY neighbourhood, total DESC;"
   ]
  },
  {
   "cell_type": "code",
   "execution_count": null,
   "id": "732f79b3",
   "metadata": {},
   "outputs": [],
   "source": [
    "SELECT room_type, COUNT(*) AS count\n",
    "FROM listings\n",
    "WHERE neighbourhood = 'Mission'\n",
    "GROUP BY room_type\n",
    "ORDER BY count DESC;"
   ]
  },
  {
   "cell_type": "markdown",
   "id": "3fad27c9",
   "metadata": {},
   "source": [
    "## 4. Detecting Commercial Operators\n",
    "\n",
    "CityBnB believes that Airbnb is being used by commercial operators who run multiple listings, similar to unlicensed hotels. Your task is to identify hosts who own more than five listings, potentially exploiting the platform at scale."
   ]
  },
  {
   "cell_type": "code",
   "execution_count": null,
   "id": "517f2346",
   "metadata": {},
   "outputs": [],
   "source": [
    "SELECT host_id, COUNT(*) AS listing_count\n",
    "FROM listings\n",
    "GROUP BY host_id\n",
    "HAVING listing_count > 5\n",
    "ORDER BY listing_count DESC;"
   ]
  },
  {
   "cell_type": "code",
   "execution_count": null,
   "id": "229e47fa",
   "metadata": {},
   "outputs": [],
   "source": [
    "SELECT host_id, COUNT(id) AS total_listings\n",
    "FROM listings\n",
    "GROUP BY host_id\n",
    "HAVING total_listings BETWEEN 6 AND 50;"
   ]
  },
  {
   "cell_type": "markdown",
   "id": "0e653b14",
   "metadata": {},
   "source": [
    "## 5. Detecting Ghost Listings\n",
    "\n",
    "One concerning pattern is the presence of ghost listings—properties that appear available year-round but have zero engagement or reviews. These could be fake listings created to inflate Airbnb's supply or mislead consumers. Help CityBnB detect such cases."
   ]
  },
  {
   "cell_type": "code",
   "execution_count": null,
   "id": "12987c9f",
   "metadata": {},
   "outputs": [],
   "source": [
    "SELECT id, name, availability_365, number_of_reviews\n",
    "FROM listings\n",
    "WHERE availability_365 = 365 AND number_of_reviews = 0;"
   ]
  },
  {
   "cell_type": "code",
   "execution_count": null,
   "id": "d34d4846",
   "metadata": {},
   "outputs": [],
   "source": [
    "SELECT *\n",
    "FROM listings\n",
    "WHERE number_of_reviews = 0 AND availability_365 >= 300;"
   ]
  },
  {
   "cell_type": "markdown",
   "id": "53d34dd1",
   "metadata": {},
   "source": [
    "## 6. Guest Review Distribution by Neighborhood\n",
    "\n",
    "Traveler activity is often reflected in the number of reviews per neighborhood. Higher review counts might signal over-tourism or an attractive tourist district. Analyze which neighborhoods are receiving the most guest interaction based on review counts."
   ]
  },
  {
   "cell_type": "code",
   "execution_count": null,
   "id": "c5a2cd6c",
   "metadata": {},
   "outputs": [],
   "source": [
    "SELECT n.neighbourhood, COUNT(r.id) AS total_reviews\n",
    "FROM reviews r\n",
    "JOIN listings l ON r.listing_id = l.id\n",
    "JOIN neighbourhoods n ON l.neighbourhood_id = n.id\n",
    "GROUP BY n.neighbourhood\n",
    "ORDER BY total_reviews DESC;"
   ]
  },
  {
   "cell_type": "code",
   "execution_count": null,
   "id": "d80ed3ac",
   "metadata": {},
   "outputs": [],
   "source": [
    "SELECT neighbourhood, SUM(number_of_reviews) AS review_volume\n",
    "FROM listings\n",
    "GROUP BY neighbourhood\n",
    "ORDER BY review_volume DESC;"
   ]
  },
  {
   "cell_type": "markdown",
   "id": "dc813698",
   "metadata": {},
   "source": [
    "## 7. Host Verification vs. Review Score\n",
    "\n",
    "CityBnB wants to understand if verified hosts offer a better experience than unverified ones. This could influence future policy, platform changes, and trust-building with guests. Use SQL to compare average review scores between verified and unverified hosts."
   ]
  },
  {
   "cell_type": "code",
   "execution_count": null,
   "id": "c60eaec3",
   "metadata": {},
   "outputs": [],
   "source": [
    "SELECT host_identity_verified, AVG(review_scores_rating) AS avg_rating\n",
    "FROM listings\n",
    "GROUP BY host_identity_verified;"
   ]
  },
  {
   "cell_type": "code",
   "execution_count": null,
   "id": "78a164af",
   "metadata": {},
   "outputs": [],
   "source": [
    "SELECT\n",
    "    CASE WHEN host_identity_verified = 't' THEN 'Verified' ELSE 'Unverified' END AS status,\n",
    "    AVG(review_scores_rating) AS average_score\n",
    "FROM listings\n",
    "GROUP BY status;"
   ]
  },
  {
   "cell_type": "markdown",
   "id": "008d5f76",
   "metadata": {},
   "source": [
    "## 8. Estimating Annual Revenue Potential\n",
    "\n",
    "Commercial-style listings often show full-year availability and premium pricing. CityBnB wants to estimate which listings have the highest earning potential. Estimate revenue by multiplying nightly price by number of available nights."
   ]
  },
  {
   "cell_type": "code",
   "execution_count": null,
   "id": "10260d5b",
   "metadata": {},
   "outputs": [],
   "source": [
    "SELECT id, availability_365, price, (price * availability_365) AS estimated_revenue\n",
    "FROM listings\n",
    "ORDER BY estimated_revenue DESC\n",
    "LIMIT 10;"
   ]
  },
  {
   "cell_type": "code",
   "execution_count": null,
   "id": "bd2b074a",
   "metadata": {},
   "outputs": [],
   "source": [
    "SELECT id, name, neighbourhood, ROUND(price * (availability_365 / 365.0), 2) AS potential_income\n",
    "FROM listings\n",
    "ORDER BY potential_income DESC\n",
    "LIMIT 10;"
   ]
  },
  {
   "cell_type": "markdown",
   "id": "b2148c28",
   "metadata": {},
   "source": [
    "## 9. High Price, Low Engagement Listings\n",
    "\n",
    "Listings that charge a premium price yet have very few reviews might be underperforming, fraudulent, or exploiting pricing gaps. Help CityBnB surface listings that may be charging too much relative to their engagement."
   ]
  },
  {
   "cell_type": "code",
   "execution_count": null,
   "id": "612aee8f",
   "metadata": {},
   "outputs": [],
   "source": [
    "SELECT id, name, price, number_of_reviews\n",
    "FROM listings\n",
    "WHERE number_of_reviews < 5 AND price > 300\n",
    "ORDER BY price DESC;"
   ]
  },
  {
   "cell_type": "code",
   "execution_count": null,
   "id": "bef42fd2",
   "metadata": {},
   "outputs": [],
   "source": [
    "SELECT *\n",
    "FROM listings\n",
    "WHERE price > 400 AND number_of_reviews = 0;"
   ]
  },
  {
   "cell_type": "markdown",
   "id": "8e3fcce2",
   "metadata": {},
   "source": [
    "## 10. Host Revenue Aggregation Analysis\n",
    "\n",
    "CityBnB believes that a small number of power hosts are profiting disproportionately and potentially skirting local laws. These hosts may own tens of properties, operate through shell companies, and never even live in San Francisco. Using SQL, analyze which hosts manage the most listings and generate the highest total estimated revenue. To do this, aggregate all their listings, compute the potential annual income (price × availability), and return the top ten. Keep in mind that some hosts may be hiding behind verified profiles or inconsistent naming. Consider how you might approach joining this with external tax datasets (though that step is conceptual)."
   ]
  },
  {
   "cell_type": "code",
   "execution_count": null,
   "id": "4eafc114",
   "metadata": {},
   "outputs": [],
   "source": [
    "SELECT host_id, COUNT(*) AS total_listings,\n",
    "       SUM(price * availability_365) AS estimated_revenue\n",
    "FROM listings\n",
    "GROUP BY host_id\n",
    "ORDER BY estimated_revenue DESC\n",
    "LIMIT 10;"
   ]
  },
  {
   "cell_type": "code",
   "execution_count": null,
   "id": "0a5982c1",
   "metadata": {},
   "outputs": [],
   "source": [
    "SELECT host_id, COUNT(id) AS properties_owned,\n",
    "       ROUND(AVG(price), 2) AS avg_price,\n",
    "       SUM(price * availability_365) AS total_income\n",
    "FROM listings\n",
    "GROUP BY host_id\n",
    "HAVING COUNT(id) > 5\n",
    "ORDER BY total_income DESC;"
   ]
  }
 ],
 "metadata": {},
 "nbformat": 4,
 "nbformat_minor": 5
}