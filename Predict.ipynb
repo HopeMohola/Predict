{
 "cells": [
  {
   "cell_type": "markdown",
   "id": "ad4b2f11",
   "metadata": {},
   "source": [
    "# SQL EXAM "
   ]
  },
  {
   "cell_type": "markdown",
   "id": "9ab6b7c2",
   "metadata": {},
   "source": [
    "## Instructions to students\n",
    "\n",
    "This challenge is designed to determine how much you have learned so far and will test your knowledge on SQL.\n",
    "\n",
    "This challenge consist of two sections, Section A and Section B. Section A will test the learner on sql<br> theory while section B will test the learner's ability to solve sql queries.\n",
    "\n",
    "Do not add or remove cells in this notebook. Do not edit or remove the `%%sql` comment as it is required to run each cell.\n",
    "\n",
    "**_Good luck!_**"
   ]
  },
  {
   "cell_type": "markdown",
   "id": "cb8f582d",
   "metadata": {},
   "source": [
    "## Honour code\n",
    "I, YOUR NAME YOUR SURNAME, confirm – by submitting this document – that the solutions in this notebook are a result of my own work.\n",
    "\n",
    ">⚠️ Sharing or uploading this assessment as whole, or in part is a violation of the honour code."
   ]
  },
  {
   "cell_type": "markdown",
   "id": "f7d822e3",
   "metadata": {},
   "source": [
    "## General Rules:\n",
    "- This is an open book examination.\n",
    "- Students may make use of a calculator.\n",
    "- This is an online examination where you will access a computer; however you may not communicate with other students in any form.\n",
    "- Headphone are prohibited.\n",
    "- The use of AI (chatGPT etc.) is prohibited.\n",
    "- All cell phones are to be switched off for the duration of the exam.\n",
    "- The invigilator will not assist you with the explanation of questions.\n",
    "- Students are prohibited from conversing in any manner with other students."
   ]
  },
  {
   "cell_type": "markdown",
   "id": "f540f85f",
   "metadata": {},
   "source": [
    "## SECTION A: Theory Predicts Multiple choice"
   ]
  },
  {
   "cell_type": "markdown",
   "id": "c39d7e55",
   "metadata": {},
   "source": [
    "#### Question 1/10\n",
    "\n",
    "Brooklyn’s housing authority has launched a crackdown on illegal short-term \n",
    "rentals. CityBnB’s internal data reveals clusters of listings in Williamsburg and \n",
    "Bushwick suspected to be operated by commercial entities posing as individual \n",
    "hosts. Your task is to identify hosts with multiple listings to help investigators \n",
    "prioritize enforcement. \n",
    "\n",
    "Which SQL clause would you use? \n",
    "\n",
    "#### Options\n",
    "\n",
    "- GROUP BY host_id HAVING COUNT(*) > 1 \n",
    "- ORDER BY host_id DESC \n",
    "- WHERE COUNT(host_id) > 1 \n",
    "- SELECT DISTINCT host_id FROM listings"
   ]
  },
  {
   "cell_type": "markdown",
   "id": "be9580d1",
   "metadata": {},
   "source": []
  },
  {
   "cell_type": "markdown",
   "id": "5bc71945",
   "metadata": {},
   "source": [
    "#### Question 2/10 \n",
    "\n",
    "CityBnB’s leadership is preparing a presentation for New York City Council to \n",
    "demonstrate compliance with short-term rental laws. They need a month-by-month \n",
    "breakdown of 2024 bookings to prove seasonal demand aligns with housing \n",
    "availability regulations. The bookings table uses YYYY-MM-DD formatting. \n",
    "\n",
    "Which query generates the required report? \n",
    "\n",
    "#### Options\n",
    "\n",
    " \n",
    "- SELECT MONTH(booking_date), COUNT(*)<br> \n",
    "FROM bookings <br>\n",
    "WHERE YEAR(booking_date) = 2024<br> \n",
    "GROUP BY MONTH(booking_date);<br> \n",
    " \n",
    "- SELECT COUNT(*)<br> \n",
    "FROM bookings<br> \n",
    "WHERE YEAR(booking_date) = 2024<br> \n",
    "GROUP BY MONTH(booking_date); \n",
    "\n",
    "- SELECT COUNT(*)<br> \n",
    "FROM bookings<br> \n",
    "GROUP BY YEAR(booking_date); \n",
    "\n",
    "- SELECT MONTH(booking_date), COUNT(*)<br> \n",
    "FROM bookings<br> \n",
    "WHERE booking_date LIKE '2024%'<br> \n",
    "GROUP BY MONTH(booking_date);"
   ]
  },
  {
   "cell_type": "markdown",
   "id": "812fc478",
   "metadata": {},
   "source": []
  },
  {
   "cell_type": "markdown",
   "id": "a931cc8e",
   "metadata": {},
   "source": [
    "#### Question 3/10\n",
    "\n",
    "Chinatown’s community board reports a surge in vacant \"ghost listings\" that sit \n",
    "empty year-round, exacerbating housing shortages. CityBnB must calculate the \n",
    "percentage of listings marked \"available\" in the calendar table but with zero \n",
    "bookings to address public concerns. \n",
    "\n",
    "Which method calculates this accurately?\n",
    "\n",
    "#### Options\n",
    "\n",
    "- AVG(available) \n",
    "- COUNT(*) / SUM(listing_id) \n",
    "- (COUNT(*) * 100.0) / (SELECT COUNT(*) FROM calendar) \n",
    "- RANK() OVER (ORDER BY available DESC)"
   ]
  },
  {
   "cell_type": "markdown",
   "id": "13389a52",
   "metadata": {},
   "source": [
    "#### Question 4/10 \n",
    "\n",
    "CityBnB is partnering with a real estate analytics firm to study housing trends. The \n",
    "firm requests a non-duplicated list of property types (e.g., \"entire apartment,\" \n",
    "\"private room\") to analyze market saturation in high-demand areas like Manhattan \n",
    "and Queens.\n",
    "\n",
    "Which SQL clause ensures unique property types?\n",
    "\n",
    "#### Options\n",
    "\n",
    "- GROUP BY \n",
    "- UNIQUE \n",
    "- DISTINCT \n",
    "- HAVING "
   ]
  },
  {
   "cell_type": "markdown",
   "id": "5f60f083",
   "metadata": {},
   "source": []
  },
  {
   "cell_type": "markdown",
   "id": "b13cbb30",
   "metadata": {},
   "source": [
    "#### Question 5/10 \n",
    "\n",
    "A whistleblower in Sandton Heights—a luxury rental hotspot—claims that 30% of \n",
    "high-end listings are fake, using stock photos and fabricated reviews. CityBnB’s \n",
    "fraud team needs to identify the top 5 hosts by listing count for further \n",
    "investigation. \n",
    "\n",
    "What does this query detect? <br>\n",
    "> SELECT host_id, COUNT(*) AS listing_count<br> \n",
    "> FROM listings<br> \n",
    "> GROUP BY host_id <br>\n",
    "> ORDER BY listing count DESC  LIMIT 5; \n",
    "\n",
    "#### Options\n",
    "\n",
    "- Most booked listings \n",
    "- Most expensive listings \n",
    "- Hosts with multiple listings, possible commercial operators \n",
    "- Number of cancelled bookings"
   ]
  },
  {
   "cell_type": "markdown",
   "id": "d286132d",
   "metadata": {},
   "source": []
  },
  {
   "cell_type": "markdown",
   "id": "60135a32",
   "metadata": {},
   "source": [
    "#### Question 6/10 \n",
    "\n",
    "Users complain that CityBnB’s search filters fail to show affordable options in \n",
    "Harlem. The product team adds a \"Budget-Friendly\" filter for listings under \n",
    "$300/night but needs to validate the query before deployment. \n",
    "\n",
    "Which SQL query works?\n",
    "\n",
    "#### Options\n",
    "\n",
    "- SELECT * FROM listings WHERE price < 300; \n",
    "- SELECT * FROM listings WHERE price = 300; \n",
    "- SELECT * FROM listings WHERE price > 300; \n",
    "- SELECT * FROM listings WHERE price <= 300;"
   ]
  },
  {
   "cell_type": "markdown",
   "id": "89ee5504",
   "metadata": {},
   "source": [
    "#### Question 7/10 \n",
    "\n",
    "Following a data breach, CityBnB’s security team mandates an audit of hosts with \n",
    "unverified identities. The host_identity_verified column uses 'True'/'False' strings. \n",
    "Failure to comply could result in fines under New York’s short-term rental laws. \n",
    "\n",
    "Which SQL expression counts unverified hosts?\n",
    "\n",
    "- COUNT(host_identity_verified = 'False') \n",
    "- COUNT(CASE WHEN host_identity_verified = 'False' THEN 1 END) \n",
    "- SUM(host_identity_verified) \n",
    "- AVG(host_identity_verified)  "
   ]
  },
  {
   "cell_type": "markdown",
   "id": "82b7b3a5",
   "metadata": {},
   "source": [
    "#### Question 8/10 \n",
    "\n",
    "A viral TikTok video exposes a \"party house\" in Astoria with 25+ noise complaints. \n",
    "CityBnB’s legal team needs to flag listings with >10 \"noise\" or \"party\" reviews AND >90% occupancy \n",
    "(booked ≥329 days/year) to avoid liability. \n",
    "\n",
    "Which query meets both conditions?\n",
    "\n",
    "#### Options\n",
    "\n",
    "- WITH problematic_listings AS ( <br>\n",
    "SELECT listing_id, COUNT(*) AS noise_reports <br>\n",
    "FROM reviews <br>\n",
    "WHERE comment ILIKE '%noise%' OR comment ILIKE '%party%' <br>\n",
    "GROUP BY listing_id <br>\n",
    "HAVING COUNT(*) > 10 <br>\n",
    ") <br>\n",
    "SELECT l.id, l.name, p.noise_reports <br>\n",
    "FROM listings l <br>\n",
    "JOIN problematic_listings p ON l.id = p.listing_id <br>\n",
    "WHERE l.availability_365 < 36;  -- 365 - 36 = 329 days booked <br>\n",
    " \n",
    "- SELECT id, name <br>\n",
    "FROM listings <br>\n",
    "WHERE number_of_reviews > 10; <br>\n",
    " \n",
    "- SELECT listing_id <br>\n",
    "FROM reviews <br>\n",
    "WHERE comment LIKE '%quiet%'; <br>"
   ]
  },
  {
   "cell_type": "markdown",
   "id": "9abcaac9",
   "metadata": {},
   "source": []
  },
  {
   "cell_type": "markdown",
   "id": "376ed81a",
   "metadata": {},
   "source": [
    "#### Question 9/10 \n",
    "\n",
    "Scenario: A junior analyst’s query crashes CityBnB’s dashboard during a live demo \n",
    "to investors. The intended goal was to display high-rated properties (>4 stars) in \n",
    "Tribeca for a premium marketing campaign. \n",
    "\n",
    "What’s wrong with this syntax? \n",
    "> SELECT * <br>\n",
    "FROM properties<br> \n",
    "WHERE rating > 4 ORDER;<br>\n",
    "\n",
    "#### Options\n",
    "\n",
    "- The keyword ORDER should be ORDER BY. \n",
    "- The column rating doesn’t exist. \n",
    "- SELECT * is not valid. \n",
    "- The query is correct."
   ]
  },
  {
   "cell_type": "markdown",
   "id": "4aed6267",
   "metadata": {},
   "source": []
  },
  {
   "cell_type": "markdown",
   "id": "d4fbf656",
   "metadata": {},
   "source": [
    "#### Question 10/10 \n",
    "\n",
    "Scenario: As CityBnB scales to 50+ cities, redundant \"host_status\" entries (e.g., \n",
    "10,000 rows with 'superhost') slow down updates. The engineering team proposes \n",
    "normalizing this into a separate host_status table. \n",
    "\n",
    "What’s the primary advantage?\n",
    "\n",
    "#### Options\n",
    "\n",
    "- To improve front-end performance \n",
    "- To enforce alphabetical ordering \n",
    "- To avoid redundant data and simplify updates \n",
    "- To prevent null values "
   ]
  },
  {
   "cell_type": "markdown",
   "id": "577c637e",
   "metadata": {},
   "source": []
  },
  {
   "cell_type": "markdown",
   "id": "509fbd9d",
   "metadata": {},
   "source": [
    "## SECTION B: Practical questions with applied multiple choice\n",
    "You are provided with a pre-populated SQLite database named `airbnb.db`. Download [here](airbnb_nyc.db) if you haven't already. Your task is to explore this database and write a series of SQL queries to perform the tasks detailed below. Queries should be optimised to run within 20 seconds or less.\n",
    "\n",
    "The tables and columns included in the `airbnb.db` are:\n",
    "\n",
    "- `listings`: `listing_id`, `host_id`, `listing`, `neighbourhood_id`, `latitude`. `longitude`, `room_type_id`, ` construction_year`, `number_of_reviews`, `last_review`, `reviews_per_month`, `review_rate_number`, `calculated_host_listings_count` ,  `availability_365`, `instant_bookable`, `cancellation policy`, `house_rules`  \n",
    "- `hosts`: `host_id`, `host`, `identity_verified`\n",
    "- `neighbourhoods`: `neighbourhood_id`, `neighbourhood`, `neighbourhood_group_id`\n",
    "- `neighbourhood_groups`: `neighbourhood_group_id`, `neighbourhood_group`\n",
    "- `room types`: `room type_id`, `type`\n",
    "- `cancellation_policies`: `cancellation_policy_id`, `policy`\n",
    "\n",
    "The columns: \n",
    "\n",
    "`listings`\n",
    "- `listing_id` - Airbnb's unique identifier for the listing.\n",
    "- `host_id` - Airbnb's unique identifier for the host/user.\n",
    "- `listing` - Name of the listing.\n",
    "- `neighbourhood_id` - Airbnb's unique identifier for the neighbourhood.\n",
    "- `latitude` - Uses the World Geodetic System (WGS84) projection for latitude and longitude.\n",
    "- `longitude` - Uses the World Geodetic System (WGS84) projection for latitude and longitude.\n",
    "- `room_type_id` - Airbnb's unique identifier for the room type.\n",
    "- `construction_year` - The year the listing was constructed.\n",
    "- `price` - daily price in local currency.\n",
    "- `service fee` - charge added to a reservation to cover the cost of using the platform.\n",
    "- `minimum nights` - minimum number of night stay for the listing.\n",
    "- `number_of_reviews` - The number of reviews the listing has.\n",
    "- `last_review` - The date of the last/newest review\n",
    "- `reviews_per_month` - The number of reviews the listing has over the lifetime of the listing.\n",
    "- `review_rate_number` - Review rate.\n",
    "- `calculated_host_listings_count` - The number of listings the host has in the current scrape, in the city/region geography.\n",
    "- `availability_365` - The availability of the listing in x days, that could be booked in the future.\n",
    "- `instant_bookable` - Whether the guest can automatically book the listing without the host requiring to accept their booking request.\n",
    "- `cancellation policy_id` - Airbnb's unique identifier for the cancellation policy.\n",
    "- `house_rules` - guidelines set by the host that guests must follow during their stay\n",
    "\n",
    "\n",
    "`hosts`\n",
    "- `host` - The owner of the listing.\n",
    "- `identity_verified` -  indicates whether a host or guest has completed identity verification through the platform(Airbnb).\n",
    "\n",
    "`neighbourhoods`\n",
    "- `neighbourhood` - Local geographic area or district where a listing is located.\n",
    "\n",
    "`neighbourhood_groups`\n",
    "- `neighbourhood_group` - A broader geographic category that groups together several related or nearby neighbourhoods. \n",
    "\n",
    "`room types`\n",
    "- `type` - All homes are grouped into the following three room types: Entire place, Private room, Shared room\n",
    "\n",
    "`cancellation_policies`\n",
    "- `policy` - terms under which a guest can cancel a reservation"
   ]
  },
  {
   "cell_type": "markdown",
   "id": "b02234d9",
   "metadata": {},
   "source": [
    "## The dataset\n",
    "\n",
    "The dataset comprises several tables related to AirBnB listings, primarily focusing on various aspects such as listings, neighbourhoods, room_types, cancellation_policies and hosts. Each table contains essential information regarding different components involved in managing AirBnB listings.\n",
    "\n",
    "Below is an Entity Relationship Diagram (ERD) of the `AirBnB listings` database:\n",
    "\n",
    "# \n",
    "\n",
    "<div style=\"text-align: center;\">\n",
    "    <img src=\"ERD_airBnB.png\" alt=\"Airbnb ERD\" width=\"800\"/>\n",
    "</div>\n",
    "\n",
    "This ER diagram illustrates the relationships between the tables in the dataset."
   ]
  },
  {
   "cell_type": "markdown",
   "id": "2f71a9fd",
   "metadata": {},
   "source": [
    "## Loading the database\n",
    "\n",
    "Before we begin, we need to prepare our SQL environment.\n",
    "\n",
    "We can do this by loading the magic command `%load_ext sql`."
   ]
  },
  {
   "cell_type": "code",
   "execution_count": null,
   "id": "92f52c72",
   "metadata": {
    "vscode": {
     "languageId": "plaintext"
    }
   },
   "outputs": [],
   "source": [
    "# Load and activate the SQL extension to allow us to execute SQL in a Jupyter notebook. \n",
    "# If you get an error here, make sure that mysql and pymysql are installed correctly. \n",
    "\n",
    "%load_ext sql"
   ]
  },
  {
   "cell_type": "markdown",
   "id": "0b311a88",
   "metadata": {},
   "source": [
    "Now we can load our database. \n",
    "\n",
    "To do this, we will need to ensure we have downloaded the `airbnb_nyc.db` sqlite file and have stored it in a known location."
   ]
  },
  {
   "cell_type": "code",
   "execution_count": null,
   "id": "6626c1dc",
   "metadata": {
    "vscode": {
     "languageId": "plaintext"
    }
   },
   "outputs": [],
   "source": [
    "%sql sqlite:///airbnb_nyc.db"
   ]
  },
  {
   "cell_type": "markdown",
   "id": "ef244ba1",
   "metadata": {},
   "source": [
    "We can also load our database using a sqlite3 connection for those commands that are not supported by Ipython."
   ]
  },
  {
   "cell_type": "code",
   "execution_count": null,
   "id": "941b28cb",
   "metadata": {
    "vscode": {
     "languageId": "plaintext"
    }
   },
   "outputs": [],
   "source": [
    "import sqlite3\n",
    "# Connect to the airbnb listings database\n",
    "conn = sqlite3.connect('airbnb_nyc.db')"
   ]
  },
  {
   "cell_type": "code",
   "execution_count": null,
   "id": "63e7a82a",
   "metadata": {
    "vscode": {
     "languageId": "plaintext"
    }
   },
   "outputs": [],
   "source": [
    "cursor = conn.cursor()"
   ]
  },
  {
   "cell_type": "markdown",
   "id": "abf52f07",
   "metadata": {},
   "source": [
    "#### Question 1\n",
    "You are analyzing the Airbnb listings dataset for San Francisco. The dataset contains a table named neighborhoods which lists each unique neighborhood by its ID.<br> \n",
    "How many <strong>unique</strong> neighborhoods are there in this dataset?\n",
    "\n",
    "#### Options\n",
    "\n",
    "- 150<br>\n",
    "- 200<br>\n",
    "- 218<br>\n",
    "- 250<br>"
   ]
  },
  {
   "cell_type": "code",
   "execution_count": null,
   "id": "66d86986",
   "metadata": {
    "vscode": {
     "languageId": "plaintext"
    }
   },
   "outputs": [],
   "source": []
  },
  {
   "cell_type": "markdown",
   "id": "13ff21eb",
   "metadata": {},
   "source": [
    "#### Question 2 \n",
    "\n",
    "Airbnb listings are being reviewed to identify <strong>properties</strong> that are listed but have <strong>zero availability</strong> throughout the entire year. These are often called “ghost listings” because they appear on the platform but cannot actually be booked.<br>\n",
    "Write a sql query to detect listings that are not active but present in the Airbnb.\n",
    "\n",
    "Based on the dataset, which of the following statements is TRUE?\n",
    "\n",
    "#### Options\n",
    "\n",
    "- All listings have some availability throughout the year.<br>\n",
    "- There are more than 10 listings with availability equal to zero.<br>\n",
    "- There are fewer than 10 listings with availability equal to zero.<br>\n",
    "- There is only one listing with availability equal to zero.<br>"
   ]
  },
  {
   "cell_type": "code",
   "execution_count": null,
   "id": "c38754e6",
   "metadata": {
    "vscode": {
     "languageId": "plaintext"
    }
   },
   "outputs": [],
   "source": []
  },
  {
   "cell_type": "markdown",
   "id": "2da77ded",
   "metadata": {},
   "source": [
    "#### Question 3 \n",
    "Airbnb host data is being analyzed to understand how identity verification impacts guest review ratings. Hosts are categorized as either “<strong>verified</strong>” or “<strong>unconfirmed</strong>” (not verified).\n",
    "Retrieve the <strong>average</strong> review scores for both verified and unverified hosts from the listings data.\n",
    "\n",
    "Based on the data, what can you conclude about the average review scores for each identity verification type?\n",
    "\n",
    "#### Options\n",
    "\n",
    "- Verified hosts have a slightly higher average review score than unconfirmed hosts.<br>\n",
    "- Unconfirmed hosts have a much higher average review score than verified hosts.<br>\n",
    "- Both verified and unconfirmed hosts have the exact same average review score.<br>\n",
    "- Verified hosts have a significantly lower average review score than unconfirmed hosts.<br>"
   ]
  },
  {
   "cell_type": "code",
   "execution_count": null,
   "id": "ebecd3b4",
   "metadata": {
    "vscode": {
     "languageId": "plaintext"
    }
   },
   "outputs": [],
   "source": []
  },
  {
   "cell_type": "markdown",
   "id": "9b446483",
   "metadata": {},
   "source": [
    "#### Question 4 \n",
    "\n",
    "An analysis is conducted to determine whether the <strong>expensive</strong> Airbnb listings in New York City are also the <strong>most available</strong> to guests throughout the year.<br>\n",
    "Your task is to write a sql query that returns the columns <strong>listing</strong>, <strong>neighbourhood</strong> and <strong>price</strong>.\n",
    "\n",
    "State whether the following statement is true or false: Based on the top 10 most expensive listings, these listings are also the most available (have availability_365 > 100)?\n",
    "\n",
    "#### Options\n",
    "\n",
    "- True \n",
    "- False"
   ]
  },
  {
   "cell_type": "code",
   "execution_count": null,
   "id": "70c7328b",
   "metadata": {
    "vscode": {
     "languageId": "plaintext"
    }
   },
   "outputs": [],
   "source": []
  },
  {
   "cell_type": "markdown",
   "id": "a7f634b6",
   "metadata": {},
   "source": [
    "#### Question 5\n",
    "You are helping a traveler find the <strong>most expensive</strong> Airbnb listing available in New York City. After examining the data, you find one listing with the highest price.<br>\n",
    "Create a table with the columns: <strong>listing_id, listing, and price</strong>.\n",
    "\n",
    "Which of the following details correctly describes the most expensive Airbnb listing?\n",
    "\n",
    "#### Options\n",
    "\n",
    "- Listing: Sun filled 1 bedroom in the heart of Crown Heights — Neighborhood: Crown Heights — Price: $1199.00<br>\n",
    "- Listing: Modern loft in great neighborhood — Neighborhood: Williamsburg — Price: $1500.00<br>\n",
    "- Listing: Cozy Studio in Midtown — Neighborhood: Midtown — Price: $900.00<br>\n",
    "- Listing: Large & Adorable 2 Bedroom in the Heart of Bklyn — Neighborhood: Brooklyn — Price: $850.00<br>"
   ]
  },
  {
   "cell_type": "code",
   "execution_count": null,
   "id": "bb308fb1",
   "metadata": {
    "vscode": {
     "languageId": "plaintext"
    }
   },
   "outputs": [],
   "source": []
  },
  {
   "cell_type": "markdown",
   "id": "47252935",
   "metadata": {},
   "source": [
    "#### Question 6\n",
    "CityBnb is analyzing neighborhoods to find where the <strong>most affordable</strong> Airbnb listings are located. 7 cheapest listings were retrieved, along with their neighborhood IDs. \n",
    "Create a table that shows <strong>listing, neighbourhood_id and price</strong>.\n",
    "\n",
    "Which neighborhood ID(s) appear most frequently among these affordable listings?\n",
    "\n",
    "#### Options\n",
    "\n",
    "- Neighborhood ID 5 \n",
    "- Neighborhood ID 14 \n",
    "- Neighborhood ID 80\n",
    "- Neighborhood ID 32 "
   ]
  },
  {
   "cell_type": "code",
   "execution_count": null,
   "id": "f8f91d0e",
   "metadata": {
    "vscode": {
     "languageId": "plaintext"
    }
   },
   "outputs": [],
   "source": []
  },
  {
   "cell_type": "markdown",
   "id": "6949b72c",
   "metadata": {},
   "source": [
    "#### Question 7 \n",
    "Which <strong>two</strong> hosts receive the highest number of reviews on the Airbnb platform?\n",
    "Identify the hosts who consistently receive the most feedback. <br> Create a table with the following columns: <strong>host_id, host, number_of_reviews, review_rate_number, and reviews_per_month</strong>.\n",
    "\n",
    "#### Options\n",
    "\n",
    "- Agnes with 439 reviews and Gurpreet Singh with 424 reviews\n",
    "- Agnes with 300 reviews and Gurpreet Singh with 350 reviews\n",
    "- John Doe with 500 reviews and Sarah Lee with 450 reviews\n",
    "- Gurpreet Singh with 439 reviews and Agnes with 424 reviews"
   ]
  },
  {
   "cell_type": "code",
   "execution_count": null,
   "id": "3a1faadc",
   "metadata": {
    "vscode": {
     "languageId": "plaintext"
    }
   },
   "outputs": [],
   "source": []
  },
  {
   "cell_type": "markdown",
   "id": "3c07eac2",
   "metadata": {},
   "source": [
    "#### Question 8 \n",
    "Find Top 5 <strong>unique</strong> hosts that owns the most expensive listings.<br>\n",
    "Identify the operators behind the priciest listings, return a table with columns: <strong>host, listing_id, price</strong>.\n",
    "\n",
    "#### Options\n",
    "\n",
    "- Linda, Chris, Maria, Cathal, Tian\n",
    "- Agnes, Gurpreet Singh, Linda, Chris, Maria\n",
    "- John, Sarah, Agnes, Gurpreet Singh, Tian\n",
    "- Linda, Agnes, Tian, Cathal, Maria"
   ]
  },
  {
   "cell_type": "code",
   "execution_count": null,
   "id": "b8611bfa",
   "metadata": {
    "vscode": {
     "languageId": "plaintext"
    }
   },
   "outputs": [],
   "source": []
  },
  {
   "cell_type": "markdown",
   "id": "47400078",
   "metadata": {},
   "source": [
    "#### Question 9\n",
    "A real estate analysis is being conducted by CityBnb to determine where Airbnb activity is most concentrated in New York City. To support this, the goal is to identify the neighborhoods with the highest <strong>number</strong> of Airbnb listings.<br>\n",
    "Your task is to create a table with columns: <strong>neighbourhood</strong> and <strong>total_listings</strong>, and identify the neighbourhoods with the most Airbnb listings.\n",
    "\n",
    "Which three neighborhoods have the highest number of Airbnb listings?\n",
    "\n",
    "#### Options\n",
    "\n",
    "- Bedford-Stuyvesant, Williamsburg, Harlem\n",
    "- Harlem, Crown Heights, Bushwick\n",
    "- Williamsburg, East Village, Chelsea\n",
    "- Crown Heights, Harlem, Bushwick"
   ]
  },
  {
   "cell_type": "code",
   "execution_count": null,
   "id": "e57587c3",
   "metadata": {
    "vscode": {
     "languageId": "plaintext"
    }
   },
   "outputs": [],
   "source": []
  },
  {
   "cell_type": "markdown",
   "id": "44a49692",
   "metadata": {},
   "source": [
    "#### Question 10\n",
    "You are working with CityBnb data to identify hosts who might not be fully verified and who are not actively renting out their properties throughout the year. This could help the platform improve trust and availability.<br>\n",
    "Your task is to create a table with columns: <strong>host_id, host, identity_verified, and availability_365 </strong> to identify unverified hosts who are not active throughout the year.\n",
    "\n",
    "Which of the following statements correctly describes <strong>unverified</strong> hosts who have <strong>zero</strong> availability throughout the year?\n",
    "\n",
    "#### Options\n",
    "\n",
    "- These hosts have identity verified status as \"unconfirmed\" and availability_365 equals 0.\n",
    "- These hosts have identity verified status as \"confirmed\" and availability_365 equals 365.\n",
    "- These hosts have identity verified status as \"unconfirmed\" and availability_365 equals 365.\n",
    "- These hosts have identity verified status as \"confirmed\" and availability_365 equals 0.\n"
   ]
  },
  {
   "cell_type": "code",
   "execution_count": null,
   "id": "b1c94929",
   "metadata": {
    "vscode": {
     "languageId": "plaintext"
    }
   },
   "outputs": [],
   "source": []
  },
  {
   "cell_type": "markdown",
   "id": "8a0aa957",
   "metadata": {},
   "source": [
    "#### Question 11 \n",
    "A marketing team is seeking to focus Airbnb promotional efforts on neighborhoods with the highest levels of guest activity. To support this initiative, guest review data is being analyzed to identify which neighborhoods receive the highest total number of guest reviews.<br>\n",
    "Your task is to create a table with columns: <strong>neighbourhood, neighbourhood_group, and total_reviews</strong> to identify which areas in the city receive the most guest reviews overall. Use the number_of_reviews column to calculate the total reviews per neighborhood.\n",
    "\n",
    "Which three neighborhoods have the highest <strong>total</strong> guest reviews according to the data?\n",
    "\n",
    "\n",
    "#### Options\n",
    "\n",
    "- Bedford-Stuyvesant, Williamsburg, Harlem\n",
    "- East Harlem, East Village, Hell's Kitchen\n",
    "- Crown Heights, Upper East Side, Upper West Side\n",
    "- Midtown, Richmond Hill, Astoria"
   ]
  },
  {
   "cell_type": "code",
   "execution_count": null,
   "id": "17a1f6d3",
   "metadata": {
    "vscode": {
     "languageId": "plaintext"
    }
   },
   "outputs": [],
   "source": []
  },
  {
   "cell_type": "markdown",
   "id": "5ec2f7ca",
   "metadata": {},
   "source": [
    "#### Question 12 \n",
    "Which listings have availability_365=0, review_rate_number = 1 and <strong>number</strong> of reviews <= 1?<br>\n",
    "Your task is to create a table with columns: <strong>listing_id, listing, availability_365, review_rate_number, and number_of_reviews</strong>.\n",
    "\n",
    "#### Options\n",
    "\n",
    "\n",
    "- Bright Minimalist Creative Retreat Bedroom BedStuy,<br> \n",
    "  Cozy Room With Big Comfortable Bed!,<br>\n",
    "  Bright and modern 1 BR in Williamsburg w/balcony,<br>\n",
    "  Cozy Lodge Chic in the heart of New York<br>\n",
    "\n",
    "- Bright and modern 1 BR in Williamsburg w/balcony,<br> \n",
    "Charming light-filled apartment in Crown Heights,<br> \n",
    "Bright Minimalist Creative Retreat Bedroom BedStuy,<br>\n",
    "Cozy apartment in Upper Manhattan!\n",
    "  \n",
    "- Spacious bedroom suite in Brooklyn brownstone,<br> \n",
    "Cozy Lodge Chic in the heart of New York,<br> \n",
    "Cozy Room With Big Comfortable Bed!,<br> \n",
    "Comfortable One bedroom Harlem Aprt<br> \n",
    "\n",
    "- Big, Bright 1 Bedroom b/w Columbia, City College,<br>\n",
    "  Bright and modern 1 BR in Williamsburg w/balcony,<br>\n",
    "  Comfortable One bedroom Harlem Aprt,<br>\n",
    "  Spacious bedroom suite in Brooklyn brownstone\n",
    "\n"
   ]
  },
  {
   "cell_type": "code",
   "execution_count": null,
   "id": "5b17a384",
   "metadata": {
    "vscode": {
     "languageId": "plaintext"
    }
   },
   "outputs": [],
   "source": []
  },
  {
   "cell_type": "markdown",
   "id": "02a7bb51",
   "metadata": {},
   "source": [
    "#### Question 13 \n",
    "Identify hosts who own more than 100 listings<br>\n",
    "Create a table that returns columns: <strong>host, and calculated_host_listings_count</strong>.\n",
    "\n",
    "#### Options\n",
    "\n",
    "- Kazuya\n",
    "- Kara\n",
    "- Sonder (NYC)\n",
    "- Airbnb Official"
   ]
  },
  {
   "cell_type": "code",
   "execution_count": null,
   "id": "2d596b8d",
   "metadata": {
    "vscode": {
     "languageId": "plaintext"
    }
   },
   "outputs": [],
   "source": []
  },
  {
   "cell_type": "markdown",
   "id": "e37c3ab2",
   "metadata": {},
   "source": [
    "#### Question 14 \n",
    "Which neighborhood has the highest number of guest reviews among listings with availability > 300<br>\n",
    "Create a table showing columns: <strong>neighbourhood, neighbourhood_group, and total_reviews</strong>.\n",
    "\n",
    "#### Options\n",
    "\n",
    "- Hell's Kitchen\n",
    "- Upper East Side\n",
    "- Bedford-Stuyvesant\n",
    "- East Village"
   ]
  },
  {
   "cell_type": "code",
   "execution_count": null,
   "id": "66bab455",
   "metadata": {
    "vscode": {
     "languageId": "plaintext"
    }
   },
   "outputs": [],
   "source": []
  },
  {
   "cell_type": "markdown",
   "id": "f872da1c",
   "metadata": {},
   "source": [
    "#### Question 15 \n",
    "Which listings have the highest estimated revenue? Multiply nightly price by number of available nights.<br> Create a table that will return a <strong>listing, neighbourhood_id, host_id, rt.type, and estimated revenue</strong>. Show the first five.\n",
    "\n",
    "State whether the following statement is true or false: Small room for 1 Person-Best Value, has the highest estimated revenue\n",
    "\n",
    "#### Options\n",
    "\n",
    "- True\n",
    "- False"
   ]
  },
  {
   "cell_type": "code",
   "execution_count": null,
   "id": "51c705de",
   "metadata": {
    "vscode": {
     "languageId": "plaintext"
    }
   },
   "outputs": [],
   "source": []
  },
  {
   "cell_type": "markdown",
   "id": "06658343",
   "metadata": {},
   "source": [
    "#### Question 16 \n",
    "Which five neighborhoods receive the most negative reviews?\n",
    "Highlights areas where guest satisfaction (<strong>review_rate_number</strong> < 2).\n",
    "\n",
    "#### Options\n",
    "\n",
    "- Harlem, Bedford-Stuyvesant, Crown Heights, Williamsburg, Bushwick\n",
    "- East Village, Hell's Kitchen, Bushwick, Upper East Side, Harlem\n",
    "- Crown Heights, Upper West Side, SoHo, Williamsburg, Bushwick\n",
    "- Bedford-Stuyvesant, Tribeca, Bushwick, Chelsea, Crown Heights"
   ]
  },
  {
   "cell_type": "code",
   "execution_count": null,
   "id": "7ad3f41f",
   "metadata": {
    "vscode": {
     "languageId": "plaintext"
    }
   },
   "outputs": [],
   "source": []
  },
  {
   "cell_type": "markdown",
   "id": "97d19f56",
   "metadata": {},
   "source": [
    "#### Question 17   \n",
    "Find how different cancellation policies are distributed across instant bookable and non-instant bookable listings in the Airbnb?<br>\n",
    "Create a table that return columns: <strong>cancellation_policy_id, instant_bookable, listing_count</strong>(needs to be calculated)\n",
    "\n",
    "Which combination of instant_bookable and cancellation_policy_id has the highest <strong>number</strong> of listings?\n",
    "\n",
    "#### Options\n",
    "\n",
    "- Instant_bookable = 1, Cancellation_policy_id = 1\n",
    "- Instant_bookable = 0, Cancellation_policy_id = 2\n",
    "- Instant_bookable = 1, Cancellation_policy_id = 2\n",
    "- Instant_bookable = 0, Cancellation_policy_id = 3"
   ]
  },
  {
   "cell_type": "code",
   "execution_count": null,
   "id": "8eaad7c8",
   "metadata": {
    "vscode": {
     "languageId": "plaintext"
    }
   },
   "outputs": [],
   "source": []
  },
  {
   "cell_type": "markdown",
   "id": "1230336a",
   "metadata": {},
   "source": [
    "#### Question 18\n",
    "Flag listings with unusually high service fees. Create a table with columns: <strong>listing, price, service fee, service fee percentage</strong>.\n",
    "\n",
    "State whether the following statement is true or false: There are Airbnb listings where the service fee is more than half (50%) of the nightly price.\n",
    "\n",
    "#### Options\n",
    "\n",
    "- True\n",
    "- False"
   ]
  },
  {
   "cell_type": "code",
   "execution_count": null,
   "id": "ff2cdb6c",
   "metadata": {
    "vscode": {
     "languageId": "plaintext"
    }
   },
   "outputs": [],
   "source": []
  },
  {
   "cell_type": "markdown",
   "id": "9c84c385",
   "metadata": {},
   "source": [
    "#### Question 19\n",
    "You are analyzing Airbnb listing data to understand the distribution and pricing of different room types across neighbourhoods.<br> Which SQL query will provide the number of listings per room type in each neighbourhood and the average price per listing,<br> ordered by the number of listings and average price in descending order?\n",
    "\n",
    "#### Options\n",
    "\n",
    "\n",
    "- SELECT<br>\n",
    "    l.neighbourhood_id,<br>\n",
    "    neighbourhood,<br>\n",
    "    rt.type AS room_type,<br>\n",
    "    COUNT(l.room_type_id) AS listings_per_room_type,<br>\n",
    "    ROUND(AVG(price)) AS avg_price<br>\n",
    "  FROM listings l<br>\n",
    "  JOIN neighbourhoods n ON l.neighbourhood_id = n.neighbourhood_id<br>\n",
    "  JOIN room_types rt ON l.room_type_id = rt.room_type_id<br>\n",
    "  GROUP BY neighbourhood, rt.type<br>\n",
    "  ORDER BY listings_per_room_type DESC, avg_price DESC;<br>\n",
    "\n",
    "- SELECT<br>\n",
    " l.neighbourhood_id,\n",
    " neighbourhood,<br>\n",
    " rt.type AS room_type,<br>\n",
    " COUNT(l.room_type_id) AS listings_per_room_type,<br>\n",
    " price<br>\n",
    "FROM listings<br>\n",
    "GROUP BY neighbourhood, room_type<br>\n",
    "ORDER BY listings_count DESC;<br>\n",
    "\n",
    "- SELECT<br>\n",
    " l.neighbourhood_id,\n",
    " neighbourhood,<br>\n",
    " rt.type AS room_type,<br>\n",
    " COUNT(l.room_type_id) AS listings_per_room_type,<br>\n",
    " ROUND(AVG(price)) AS avg_price<br>\n",
    "FROM listings<br>\n",
    "GROUP BY room_type<br>\n",
    "ORDER BY average_price DESC;<br>\n",
    "\n",
    "- SELECT<br>\n",
    " l.neighbourhood_id,\n",
    " neighbourhood,<br>\n",
    " rt.type AS room_type,<br>\n",
    " COUNT(l.room_type_id) AS listings_per_room_type,<br>\n",
    " ROUND(AVG(price)) AS avg_price<br>\n",
    "FROM listings<br>\n",
    "GROUP BY neighbourhood<br>\n",
    "ORDER BY total_listings DESC;<br>"
   ]
  },
  {
   "cell_type": "code",
   "execution_count": null,
   "id": "eb47f248",
   "metadata": {
    "vscode": {
     "languageId": "plaintext"
    }
   },
   "outputs": [],
   "source": []
  },
  {
   "cell_type": "markdown",
   "id": "87ffcf05",
   "metadata": {},
   "source": [
    "#### Question 20 \n",
    "You're analyzing pricing trends in the Airbnb San Francisco dataset to help budget-conscious travelers make informed choices. You run a query to compare average prices for listings based on stay duration and room type.<br> \n",
    "what would a guest expect to pay on average for a short stay (fewer than 7 nights) or a long stay (more than 7 nights) as <strong>stay_type</strong>, and which <strong>room types</strong> are available at those <strong>price</strong> points? \n",
    "\n",
    "Based on this analysis, which of the following insights is most accurate?\n",
    "\n",
    "#### Options\n",
    "\n",
    "- Guests booking shared rooms for short stays should expect the highest average cost compared to\n",
    "other room types and durations.\n",
    "- Long stays in private rooms are costlier than any type of short stay.\n",
    "- Entire homes consistently offer the lowest average prices across all durations.\n",
    "- Private rooms show the largest price increase when switching from long to short stays."
   ]
  },
  {
   "cell_type": "code",
   "execution_count": null,
   "id": "d94d24fd",
   "metadata": {
    "vscode": {
     "languageId": "plaintext"
    }
   },
   "outputs": [],
   "source": []
  }
 ],
 "metadata": {
  "kernelspec": {
   "display_name": "Python 3 (ipykernel)",
   "language": "python",
   "name": "python3"
  },
  "language_info": {
   "codemirror_mode": {
    "name": "ipython",
    "version": 3
   },
   "file_extension": ".py",
   "mimetype": "text/x-python",
   "name": "python",
   "nbconvert_exporter": "python",
   "pygments_lexer": "ipython3",
   "version": "3.12.4"
  }
 },
 "nbformat": 4,
 "nbformat_minor": 5
}
