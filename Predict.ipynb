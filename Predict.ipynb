{
 "cells": [
  {
   "cell_type": "markdown",
   "id": "ad4b2f11",
   "metadata": {},
   "source": [
    "# SQL EXAM "
   ]
  },
  {
   "cell_type": "markdown",
   "id": "f7d822e3",
   "metadata": {},
   "source": [
    "## General Rules:\n",
    "- This is an open book examination.\n",
    "- Students may make use of a calculator.\n",
    "- This is an online examination where you will access a computer; however you may not communicate with other students in any form.\n",
    "- Headphone are prohibited.\n",
    "- The use of AI (chatGPT etc.) is prohibited.\n",
    "- All cell phones are to be switched off for the duration of the exam.\n",
    "- The invigilator will not assist you with the explanation of questions.\n",
    "- Students are prohibited from conversing in any manner with other students."
   ]
  },
  {
   "cell_type": "markdown",
   "id": "0cef0574",
   "metadata": {},
   "source": [
    "## My Name and Surname\n",
    "\n",
    "Name =\n",
    "</br>\n",
    "Surname =  "
   ]
  },
  {
   "cell_type": "markdown",
   "id": "c39d7e55",
   "metadata": {},
   "source": [
    "#### Question 1/10\n",
    "\n",
    "Brooklyn’s housing authority has launched a crackdown on illegal short-term \n",
    "rentals. CityBnB’s internal data reveals clusters of listings in Williamsburg and \n",
    "Bushwick suspected to be operated by commercial entities posing as individual \n",
    "hosts. Your task is to identify hosts with multiple listings to help investigators \n",
    "prioritize enforcement. \n",
    "\n",
    "##### Which SQL clause would you use? "
   ]
  },
  {
   "cell_type": "markdown",
   "id": "5bc71945",
   "metadata": {},
   "source": [
    "#### Question 2/10 \n",
    "\n",
    "CityBnB’s leadership is preparing a presentation for New York City Council to \n",
    "demonstrate compliance with short-term rental laws. They need a month-by-month \n",
    "breakdown of 2024 bookings to prove seasonal demand aligns with housing \n",
    "availability regulations. The bookings table uses YYYY-MM-DD formatting. \n",
    "\n",
    "##### Which query generates the required report?"
   ]
  },
  {
   "cell_type": "markdown",
   "id": "a931cc8e",
   "metadata": {},
   "source": [
    "#### Question 3/10\n",
    "\n",
    "Chinatown’s community board reports a surge in vacant \"ghost listings\" that sit \n",
    "empty year-round, exacerbating housing shortages. CityBnB must calculate the \n",
    "percentage of listings marked \"available\" in the calendar table but with zero \n",
    "bookings to address public concerns. \n",
    "\n",
    "##### Which method calculates this accurately?"
   ]
  },
  {
   "cell_type": "markdown",
   "id": "13389a52",
   "metadata": {},
   "source": [
    "#### Question 4/10 \n",
    "\n",
    "CityBnB is partnering with a real estate analytics firm to study housing trends. The \n",
    "firm requests a non-duplicated list of property types (e.g., \"entire apartment,\" \n",
    "\"private room\") to analyze market saturation in high-demand areas like Manhattan \n",
    "and Queens.\n",
    "\n",
    "##### Which SQL clause ensures unique property types?"
   ]
  },
  {
   "cell_type": "markdown",
   "id": "b13cbb30",
   "metadata": {},
   "source": [
    "#### Question 5/10 \n",
    "\n",
    "A whistleblower in Sandton Heights—a luxury rental hotspot—claims that 30% of \n",
    "high-end listings are fake, using stock photos and fabricated reviews. CityBnB’s \n",
    "fraud team needs to identify the top 5 hosts by listing count for further \n",
    "investigation. "
   ]
  },
  {
   "cell_type": "markdown",
   "id": "60135a32",
   "metadata": {},
   "source": [
    "#### Question 6/10 \n",
    "\n",
    "Users complain that CityBnB’s search filters fail to show affordable options in \n",
    "Harlem. The product team adds a \"Budget-Friendly\" filter for listings under \n",
    "$300/night but needs to validate the query before deployment. \n",
    "\n",
    "##### Which SQL query works?"
   ]
  },
  {
   "cell_type": "markdown",
   "id": "89ee5504",
   "metadata": {},
   "source": [
    "#### Question 7/10 \n",
    "\n",
    "Following a data breach, CityBnB’s security team mandates an audit of hosts with \n",
    "unverified identities. The host_identity_verified column uses 'True'/'False' strings. \n",
    "Failure to comply could result in fines under New York’s short-term rental laws. \n",
    "\n",
    "##### Which SQL expression counts unverified hosts? "
   ]
  },
  {
   "cell_type": "markdown",
   "id": "82b7b3a5",
   "metadata": {},
   "source": [
    "#### Question 8/10 \n",
    "\n",
    "A viral TikTok video exposes a \"party house\" in Astoria with 25+ noise complaints. \n",
    "CityBnB’s legal team needs to flag listings with >10 \"noise\" or \"party\" reviews AND >90% occupancy \n",
    "(booked ≥329 days/year) to avoid liability. \n",
    "\n",
    "##### Which query meets both conditions?"
   ]
  },
  {
   "cell_type": "markdown",
   "id": "376ed81a",
   "metadata": {},
   "source": [
    "#### Question 9/10 \n",
    "\n",
    "Scenario: A junior analyst’s query crashes CityBnB’s dashboard during a live demo \n",
    "to investors. The intended goal was to display high-rated properties (>4 stars) in \n",
    "Tribeca for a premium marketing campaign. \n",
    "\n",
    "##### What’s wrong with this syntax? \n",
    "- SELECT * FROM properties WHERE rating > 4 ORDER;"
   ]
  },
  {
   "cell_type": "markdown",
   "id": "d4fbf656",
   "metadata": {},
   "source": [
    "#### Question 10/10 \n",
    "\n",
    "Scenario: As CityBnB scales to 50+ cities, redundant \"host_status\" entries (e.g., \n",
    "10,000 rows with 'superhost') slow down updates. The engineering team proposes \n",
    "normalizing this into a separate host_status table. \n",
    "\n",
    "##### What’s the primary advantage?"
   ]
  },
  {
   "cell_type": "markdown",
   "id": "509fbd9d",
   "metadata": {},
   "source": [
    "## SECTION B: Practical questions with applied multiple choice\n",
    "You are provided with a pre-populated SQLite database named `airbnb.db`. Download [here](https://www.kaggle.com/datasets/arianazmoudeh/airbnbopendata) if you haven't already. Your task is to explore this database and write a series of SQL queries to perform the tasks detailed below. Queries should be optimised to run within 20 seconds or less.\n",
    "\n",
    "The tables and columns included in the `airbnb.db` are:\n",
    "\n",
    "- `listings`: `id`, `host_id`, `name`, `neighbourhood_id`, `latitude`. `longitude`, `room_type_id`, ` construction_year`, `number_of_reviews`, `last_review`, `reviews_per_month`, `review_rate_number`, `calculated_host_listings_count` ,  `availability_365`, `instant_bookable`, `cancellation policy`, `house_rules`, `license`  \n",
    "- `hosts`: `id`, `name`, `identity_verified`\n",
    "- `neighbourhoods`: `id`, `name`, `neighbourhood_group_id`\n",
    "- `neighbourhood_groups`: `id`, `name`\n",
    "- `room types`: `id`, `type`\n",
    "- `cancellation_policies`: `id`, `policy`"
   ]
  },
  {
   "cell_type": "code",
   "execution_count": null,
   "id": "92f52c72",
   "metadata": {
    "vscode": {
     "languageId": "plaintext"
    }
   },
   "outputs": [],
   "source": [
    "%load_ext sql"
   ]
  },
  {
   "cell_type": "code",
   "execution_count": null,
   "id": "6626c1dc",
   "metadata": {
    "vscode": {
     "languageId": "plaintext"
    }
   },
   "outputs": [],
   "source": [
    "%sql sqlite:///airbnb_nyc.db"
   ]
  },
  {
   "cell_type": "markdown",
   "id": "abf52f07",
   "metadata": {},
   "source": [
    "#### Q1/20: Find the total neighbourhoods in the airbnb listings\n",
    "\n",
    "Map out the geographic scope of Airbnb presence."
   ]
  },
  {
   "cell_type": "code",
   "execution_count": null,
   "id": "d94221ec",
   "metadata": {
    "vscode": {
     "languageId": "plaintext"
    }
   },
   "outputs": [],
   "source": []
  },
  {
   "cell_type": "markdown",
   "id": "13ff21eb",
   "metadata": {},
   "source": [
    "#### Q2/20: Find Airbnb listings that are not available throughout the year.\n",
    "Help CityBnB detect ghost listings."
   ]
  },
  {
   "cell_type": "code",
   "execution_count": null,
   "id": "c38754e6",
   "metadata": {
    "vscode": {
     "languageId": "plaintext"
    }
   },
   "outputs": [],
   "source": []
  },
  {
   "cell_type": "markdown",
   "id": "2da77ded",
   "metadata": {},
   "source": [
    "#### Q3/20: How review Score differ between verified and unverified hosts\n",
    "Compare average review scores between verified and unverified hosts."
   ]
  },
  {
   "cell_type": "code",
   "execution_count": null,
   "id": "ebecd3b4",
   "metadata": {
    "vscode": {
     "languageId": "plaintext"
    }
   },
   "outputs": [],
   "source": []
  },
  {
   "cell_type": "markdown",
   "id": "9b446483",
   "metadata": {},
   "source": [
    "#### Q4/20: In which neighbourhood are the highest-priced listings located?\n",
    "Identify where the most expensive listings are located on the platform."
   ]
  },
  {
   "cell_type": "code",
   "execution_count": null,
   "id": "70c7328b",
   "metadata": {
    "vscode": {
     "languageId": "plaintext"
    }
   },
   "outputs": [],
   "source": []
  },
  {
   "cell_type": "markdown",
   "id": "a7f634b6",
   "metadata": {},
   "source": [
    "#### Q5/20: How availability of the listing vary?\n",
    "Should we expect high priced listings to have highest availability."
   ]
  },
  {
   "cell_type": "code",
   "execution_count": null,
   "id": "bb308fb1",
   "metadata": {
    "vscode": {
     "languageId": "plaintext"
    }
   },
   "outputs": [],
   "source": []
  },
  {
   "cell_type": "markdown",
   "id": "47252935",
   "metadata": {},
   "source": [
    "#### Q6/20: Which neighbourhoods have the most affordable listings?\n",
    "Find the cheapest listings and their locations. "
   ]
  },
  {
   "cell_type": "code",
   "execution_count": null,
   "id": "f8f91d0e",
   "metadata": {
    "vscode": {
     "languageId": "plaintext"
    }
   },
   "outputs": [],
   "source": []
  },
  {
   "cell_type": "markdown",
   "id": "6949b72c",
   "metadata": {},
   "source": [
    "#### Q7/20: Find host that have exceptional activity per month.\n",
    "Identify Superhost in the Airbnb platform."
   ]
  },
  {
   "cell_type": "code",
   "execution_count": null,
   "id": "3a1faadc",
   "metadata": {
    "vscode": {
     "languageId": "plaintext"
    }
   },
   "outputs": [],
   "source": []
  },
  {
   "cell_type": "markdown",
   "id": "3c07eac2",
   "metadata": {},
   "source": [
    "#### Q8/20: Find the host that owns the most expensive listing\n",
    "Identify the operators behind the priciest listings"
   ]
  },
  {
   "cell_type": "code",
   "execution_count": null,
   "id": "b8611bfa",
   "metadata": {
    "vscode": {
     "languageId": "plaintext"
    }
   },
   "outputs": [],
   "source": []
  },
  {
   "cell_type": "markdown",
   "id": "47400078",
   "metadata": {},
   "source": [
    "#### Q9/20: Which neighborhoods are experiencing the highest concentration of listings?\n",
    "\n",
    "Find how listings are distributed across neighborhoods."
   ]
  },
  {
   "cell_type": "code",
   "execution_count": null,
   "id": "e57587c3",
   "metadata": {
    "vscode": {
     "languageId": "plaintext"
    }
   },
   "outputs": [],
   "source": []
  },
  {
   "cell_type": "markdown",
   "id": "44a49692",
   "metadata": {},
   "source": [
    "#### Q10/20: Unverified hosts that are less to not active throuhout the year.\n",
    "Find host with limited or none availability."
   ]
  },
  {
   "cell_type": "code",
   "execution_count": null,
   "id": "b1c94929",
   "metadata": {
    "vscode": {
     "languageId": "plaintext"
    }
   },
   "outputs": [],
   "source": []
  },
  {
   "cell_type": "markdown",
   "id": "8a0aa957",
   "metadata": {},
   "source": [
    "#### Q11/20: In which parts of the city are guest reviews most frequent.\n",
    "Discover which neighborhoods receive the most guest reviews."
   ]
  },
  {
   "cell_type": "code",
   "execution_count": null,
   "id": "17a1f6d3",
   "metadata": {
    "vscode": {
     "languageId": "plaintext"
    }
   },
   "outputs": [],
   "source": []
  },
  {
   "cell_type": "markdown",
   "id": "5ec2f7ca",
   "metadata": {},
   "source": [
    "#### Q12/20: Top 5 least available listings with lower review \n",
    "Reveal the listings that have the least availability with low to none guest satisfaction"
   ]
  },
  {
   "cell_type": "code",
   "execution_count": null,
   "id": "5b17a384",
   "metadata": {
    "vscode": {
     "languageId": "plaintext"
    }
   },
   "outputs": [],
   "source": []
  },
  {
   "cell_type": "markdown",
   "id": "02a7bb51",
   "metadata": {},
   "source": [
    "#### Q13/20: In which parts of the city are listings most available?\n",
    "Identifies neighborhoods with consistently high listing availability, signaling hotspots or over-saturation."
   ]
  },
  {
   "cell_type": "code",
   "execution_count": null,
   "id": "2d596b8d",
   "metadata": {
    "vscode": {
     "languageId": "plaintext"
    }
   },
   "outputs": [],
   "source": []
  },
  {
   "cell_type": "markdown",
   "id": "e37c3ab2",
   "metadata": {},
   "source": [
    "#### Q14/20: Identify hosts who own more than five listings, potentially exploiting the platform at scale.\n",
    "Detecting commercial operators who run multiple listings."
   ]
  },
  {
   "cell_type": "code",
   "execution_count": null,
   "id": "66bab455",
   "metadata": {
    "vscode": {
     "languageId": "plaintext"
    }
   },
   "outputs": [],
   "source": []
  },
  {
   "cell_type": "markdown",
   "id": "f872da1c",
   "metadata": {},
   "source": [
    "#### Q15/20: Estimate revenue by multiplying nightly price by number of available nights and availabity rate."
   ]
  },
  {
   "cell_type": "code",
   "execution_count": null,
   "id": "51c705de",
   "metadata": {
    "vscode": {
     "languageId": "plaintext"
    }
   },
   "outputs": [],
   "source": []
  },
  {
   "cell_type": "markdown",
   "id": "06658343",
   "metadata": {},
   "source": [
    "#### Q16/20: Which neighbourhoods receive the most negative reviews?\n",
    "Highlights areas where guest satisfaction is low."
   ]
  },
  {
   "cell_type": "code",
   "execution_count": null,
   "id": "7ad3f41f",
   "metadata": {
    "vscode": {
     "languageId": "plaintext"
    }
   },
   "outputs": [],
   "source": []
  },
  {
   "cell_type": "markdown",
   "id": "97d19f56",
   "metadata": {},
   "source": [
    "#### Q17/20:  Retrieve the listings and prices for different room types in the Bedford-Stuyvesant and Williamsburg neighborhoods.\n",
    "Find the listings information for the two neighbourhoods with the most most reviewed listings."
   ]
  },
  {
   "cell_type": "code",
   "execution_count": null,
   "id": "8eaad7c8",
   "metadata": {
    "vscode": {
     "languageId": "plaintext"
    }
   },
   "outputs": [],
   "source": []
  },
  {
   "cell_type": "markdown",
   "id": "1230336a",
   "metadata": {},
   "source": [
    "#### Q18/20: Are there listings where the service fee exceeds 50% of the nightly price?\n",
    "Flag listings with unusually high service fees."
   ]
  },
  {
   "cell_type": "code",
   "execution_count": null,
   "id": "ff2cdb6c",
   "metadata": {
    "vscode": {
     "languageId": "plaintext"
    }
   },
   "outputs": [],
   "source": []
  },
  {
   "cell_type": "markdown",
   "id": "9c84c385",
   "metadata": {},
   "source": [
    "#### Q19/20: What is the average price of Airbnb listings in each neighbourhood by room type, and how many listings exist for each room type?\n",
    "Find affordability of room types in neighbourhoods."
   ]
  },
  {
   "cell_type": "code",
   "execution_count": null,
   "id": "eb47f248",
   "metadata": {
    "vscode": {
     "languageId": "plaintext"
    }
   },
   "outputs": [],
   "source": []
  },
  {
   "cell_type": "markdown",
   "id": "87ffcf05",
   "metadata": {},
   "source": [
    "#### Q20/20: How do booking lengths (short (<7 nights) vs. extended (>7 nights) stays) affect pricing strategies?\n",
    "Compares how price varies between listings geared toward short-term travelers vs. longer stays."
   ]
  },
  {
   "cell_type": "code",
   "execution_count": null,
   "id": "d94d24fd",
   "metadata": {
    "vscode": {
     "languageId": "plaintext"
    }
   },
   "outputs": [],
   "source": []
  }
 ],
 "metadata": {
  "kernelspec": {
   "display_name": "Python 3 (ipykernel)",
   "language": "python",
   "name": "python3"
  },
  "language_info": {
   "codemirror_mode": {
    "name": "ipython",
    "version": 3
   },
   "file_extension": ".py",
   "mimetype": "text/x-python",
   "name": "python",
   "nbconvert_exporter": "python",
   "pygments_lexer": "ipython3",
   "version": "3.12.4"
  }
 },
 "nbformat": 4,
 "nbformat_minor": 5
}
